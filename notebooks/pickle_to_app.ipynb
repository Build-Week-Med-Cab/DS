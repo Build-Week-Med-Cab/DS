{
  "nbformat": 4,
  "nbformat_minor": 0,
  "metadata": {
    "colab": {
      "name": "Wrangle_Bline_NN_Pickles.ipynb",
      "provenance": [],
      "collapsed_sections": [
        "dkN8S7i0DNXM"
      ]
    },
    "kernelspec": {
      "name": "python37664bitdspipenv4c679a2e85cb436f8d784862c1efd959",
      "display_name": "Python 3.7.6 64-bit ('DS': pipenv)"
    }
  },
  "cells": [
    {
      "cell_type": "code",
      "metadata": {
        "id": "aEn5LADWFkaS",
        "colab_type": "code",
        "colab": {}
      },
      "source": [
        "import pandas as pd"
      ],
      "execution_count": 43,
      "outputs": []
    },
    {
      "cell_type": "code",
      "metadata": {
        "id": "UCOteYvg3M--",
        "colab_type": "code",
        "colab": {
          "base_uri": "https://localhost:8080/",
          "height": 34
        },
        "outputId": "36f0ef63-f960-4058-ca04-998c52104808"
      },
      "source": [
        "leafly = pd.read_json('../data/leafly.json')\n",
        "leafly.shape"
      ],
      "execution_count": 44,
      "outputs": [
        {
          "output_type": "execute_result",
          "data": {
            "text/plain": "(3447, 37)"
          },
          "metadata": {},
          "execution_count": 44
        }
      ]
    },
    {
      "cell_type": "markdown",
      "metadata": {},
      "source": [
        "# Data Wrangling"
      ]
    },
    {
      "cell_type": "code",
      "metadata": {
        "id": "TRQ2EwHXtuQB",
        "colab_type": "code",
        "colab": {}
      },
      "source": [
        "# Drop nans from leafly\n",
        "\n",
        "leafly = leafly.dropna()\n",
        "leafly.shape"
      ],
      "execution_count": 45,
      "outputs": [
        {
          "output_type": "execute_result",
          "data": {
            "text/plain": "(311, 37)"
          },
          "metadata": {},
          "execution_count": 45
        }
      ]
    },
    {
      "cell_type": "code",
      "metadata": {
        "id": "q9zer66JQPOh",
        "colab_type": "code",
        "colab": {}
      },
      "source": [
        "# Combine feelings into one column for one hot encoding\n",
        "\n",
        "leafly['feelings'] = leafly['feeling_1'] + ',' + leafly['feeling_2'] + ',' + leafly['feeling_3'] + ',' + leafly['feeling_4'] + ',' + leafly['feeling_5']"
      ],
      "execution_count": 46,
      "outputs": []
    },
    {
      "cell_type": "code",
      "metadata": {
        "id": "_WLrGw91Q6Er",
        "colab_type": "code",
        "colab": {
          "base_uri": "https://localhost:8080/",
          "height": 221
        },
        "outputId": "d64de616-bb3a-4794-cd1d-c79a37ffa1b0"
      },
      "source": [
        "# Check feelings\n",
        "\n",
        "leafly['feelings']"
      ],
      "execution_count": 47,
      "outputs": [
        {
          "output_type": "execute_result",
          "data": {
            "text/plain": "0       Happy,Euphoric,Creative,Relaxed,Uplifted\n42        Happy,Relaxed,Euphoric,Hungry,Uplifted\n45         Relaxed,Happy,Euphoric,Hungry,Focused\n47       Happy,Relaxed,Sleepy,Talkative,Uplifted\n52          Relaxed,Happy,Sleepy,Euphoric,Hungry\n                          ...                   \n3341      Relaxed,Happy,Euphoric,Sleepy,Uplifted\n3364    Relaxed,Euphoric,Uplifted,Happy,Creative\n3370      Relaxed,Euphoric,Happy,Uplifted,Sleepy\n3415      Happy,Relaxed,Euphoric,Uplifted,Hungry\n3434    Happy,Energetic,Relaxed,Focused,Uplifted\nName: feelings, Length: 311, dtype: object"
          },
          "metadata": {},
          "execution_count": 47
        }
      ]
    },
    {
      "cell_type": "code",
      "metadata": {
        "id": "5N7MMpudR5bx",
        "colab_type": "code",
        "colab": {}
      },
      "source": [
        "# Combine helps into one column for one hot encoding\n",
        "\n",
        "leafly['helps'] = leafly['helps_1'] + ',' + leafly['helps_2'] + ',' + leafly['helps_3'] + ',' + leafly['helps_4'] + ',' + leafly['helps_5']"
      ],
      "execution_count": 48,
      "outputs": []
    },
    {
      "cell_type": "code",
      "metadata": {
        "id": "r_1pE_5ESa2e",
        "colab_type": "code",
        "colab": {
          "base_uri": "https://localhost:8080/",
          "height": 221
        },
        "outputId": "90c61fb9-ccf6-454f-858f-667451af4783"
      },
      "source": [
        "# Check helps\n",
        "\n",
        "leafly['helps']"
      ],
      "execution_count": 49,
      "outputs": [
        {
          "output_type": "execute_result",
          "data": {
            "text/plain": "0                 Stress,Pain,Anxiety,Depression,Nausea\n42      Depression,Stress,Pain,Anxiety,Lack of appetite\n45                Stress,Anxiety,Nausea,Pain,Depression\n47             Pain,Stress,Anxiety,Depression,Headaches\n52              Stress,Pain,Insomnia,Anxiety,Depression\n                             ...                       \n3341            Stress,Anxiety,Pain,Depression,Insomnia\n3364             Pain,Stress,Depression,Anxiety,Fatigue\n3370            Stress,Anxiety,Depression,Insomnia,Pain\n3415            Stress,Pain,Anxiety,Depression,Insomnia\n3434             Stress,Depression,Pain,Fatigue,Anxiety\nName: helps, Length: 311, dtype: object"
          },
          "metadata": {},
          "execution_count": 49
        }
      ]
    },
    {
      "cell_type": "code",
      "metadata": {
        "id": "OA5NIAh4SkHi",
        "colab_type": "code",
        "colab": {}
      },
      "source": [
        "# Combine feelings and helps columnbs\n",
        "\n",
        "leafly[\"feelings_helps\"] = leafly['feelings'] + ',' + leafly['helps'] "
      ],
      "execution_count": 50,
      "outputs": []
    },
    {
      "cell_type": "code",
      "metadata": {
        "id": "KnD1S524S6VS",
        "colab_type": "code",
        "colab": {
          "base_uri": "https://localhost:8080/",
          "height": 221
        },
        "outputId": "a2eef28e-46ae-404d-cd42-14e6df9ff30c"
      },
      "source": [
        "# Check feelings_helps\n",
        "\n",
        "leafly['feelings_helps']"
      ],
      "execution_count": 51,
      "outputs": [
        {
          "output_type": "execute_result",
          "data": {
            "text/plain": "0       Happy,Euphoric,Creative,Relaxed,Uplifted,Stres...\n42      Happy,Relaxed,Euphoric,Hungry,Uplifted,Depress...\n45      Relaxed,Happy,Euphoric,Hungry,Focused,Stress,A...\n47      Happy,Relaxed,Sleepy,Talkative,Uplifted,Pain,S...\n52      Relaxed,Happy,Sleepy,Euphoric,Hungry,Stress,Pa...\n                              ...                        \n3341    Relaxed,Happy,Euphoric,Sleepy,Uplifted,Stress,...\n3364    Relaxed,Euphoric,Uplifted,Happy,Creative,Pain,...\n3370    Relaxed,Euphoric,Happy,Uplifted,Sleepy,Stress,...\n3415    Happy,Relaxed,Euphoric,Uplifted,Hungry,Stress,...\n3434    Happy,Energetic,Relaxed,Focused,Uplifted,Stres...\nName: feelings_helps, Length: 311, dtype: object"
          },
          "metadata": {},
          "execution_count": 51
        }
      ]
    },
    {
      "cell_type": "code",
      "metadata": {
        "id": "uZJDJwGJzSpK",
        "colab_type": "code",
        "colab": {}
      },
      "source": [
        "# Remove commas and add spaces\n",
        "\n",
        "leafly['feelings'] = leafly['feelings'].str.replace(',', ' ')\n",
        "leafly['helps']= leafly['helps'].str.replace(',',' ')"
      ],
      "execution_count": 52,
      "outputs": []
    },
    {
      "cell_type": "code",
      "metadata": {
        "id": "2CKPhbmKzSxe",
        "colab_type": "code",
        "colab": {}
      },
      "source": [
        "# Combine all text columns into one\n",
        "\n",
        "leafly['feelings_helps_description'] = leafly[\"feelings\"] + ' ' + leafly[\"helps\"] + ' ' + leafly['description']"
      ],
      "execution_count": 53,
      "outputs": []
    },
    {
      "cell_type": "code",
      "metadata": {
        "id": "XFf3eouszS5S",
        "colab_type": "code",
        "colab": {
          "base_uri": "https://localhost:8080/",
          "height": 581
        },
        "outputId": "a1b04bea-9174-4ec9-e75d-496cb1ba7004"
      },
      "source": [
        "# Verify new column\n",
        "\n",
        "leafly['feelings_helps_description']"
      ],
      "execution_count": 54,
      "outputs": [
        {
          "output_type": "execute_result",
          "data": {
            "text/plain": "0       Happy Euphoric Creative Relaxed Uplifted Stres...\n42      Happy Relaxed Euphoric Hungry Uplifted Depress...\n45      Relaxed Happy Euphoric Hungry Focused Stress A...\n47      Happy Relaxed Sleepy Talkative Uplifted Pain S...\n52      Relaxed Happy Sleepy Euphoric Hungry Stress Pa...\n                              ...                        \n3341    Relaxed Happy Euphoric Sleepy Uplifted Stress ...\n3364    Relaxed Euphoric Uplifted Happy Creative Pain ...\n3370    Relaxed Euphoric Happy Uplifted Sleepy Stress ...\n3415    Happy Relaxed Euphoric Uplifted Hungry Stress ...\n3434    Happy Energetic Relaxed Focused Uplifted Stres...\nName: feelings_helps_description, Length: 311, dtype: object"
          },
          "metadata": {},
          "execution_count": 54
        }
      ]
    },
    {
      "cell_type": "code",
      "metadata": {
        "id": "tFjld4oX2ioV",
        "colab_type": "code",
        "colab": {
          "base_uri": "https://localhost:8080/",
          "height": 68
        },
        "outputId": "73ed4aa7-5d7d-4c1f-e1ce-9bcdc93d492a",
        "tags": []
      },
      "source": [
        "import pickle\n",
        "\n",
        "# Load nearest neighbors model\n",
        "model_pkl = open('../pickles/nn_model.pkl', 'rb')\n",
        "NN_model = pickle.load(model_pkl)\n",
        "print (\"Loaded model :: \", NN_model)\n",
        "\n",
        "# load tfidf transformer\n",
        "tfidf_pkl = open('../pickles/tfidf.pkl' , 'rb')\n",
        "tfidf_model = pickle.load(tfidf_pkl)\n",
        "print (\"Loaded model :: \", tfidf_model)  # print to verify"
      ],
      "execution_count": 55,
      "outputs": [
        {
          "output_type": "stream",
          "name": "stdout",
          "text": "Loaded model ::  NearestNeighbors(algorithm='kd_tree', n_neighbors=4)\nLoaded model ::  TfidfVectorizer(max_features=2000, ngram_range=(1, 2), stop_words='english')\n"
        }
      ]
    },
    {
      "cell_type": "code",
      "metadata": {
        "id": "0q78RNlW4aXZ",
        "colab_type": "code",
        "colab": {}
      },
      "source": [
        "# Demo Recommend Function from DS\n",
        "\n",
        "import json\n",
        "\n",
        "def recommend(user_input):\n",
        "    temp_df = NN_model.kneighbors(tfidf_model.transform([user_input]).todense())[1]\n",
        "\n",
        "    for i in range(4):\n",
        "        info = leafly.iloc[temp_df[0][i]]['strain']\n",
        "        info_aka = leafly.iloc[temp_df[0][i]]['aka']\n",
        "        info_type = leafly.iloc[temp_df[0][i]]['type']\n",
        "        info_rating = leafly.iloc[temp_df[0][i]]['rating']\n",
        "        info_num_reviews= leafly.iloc[temp_df[0][i]]['num_reviews']\n",
        "        info_feelings = leafly.iloc[temp_df[0][i]]['feelings']\n",
        "        info_helps = leafly.iloc[temp_df[0][i]]['helps']\n",
        "        info_description = leafly.iloc[temp_df[0][i]]['description']\n",
        "        \n",
        "        print(json.dumps(info))\n",
        "        print(json.dumps(info_aka))\n",
        "        print(json.dumps(info_type))\n",
        "        print(json.dumps(info_rating))\n",
        "        print(json.dumps(info_num_reviews))\n",
        "        print(json.dumps(info_feelings))\n",
        "        print(json.dumps(info_helps))\n",
        "        print(json.dumps(info_description))"
      ],
      "execution_count": 56,
      "outputs": []
    },
    {
      "cell_type": "code",
      "metadata": {
        "id": "cQEwULSV4ahL",
        "colab_type": "code",
        "colab": {
          "base_uri": "https://localhost:8080/",
          "height": 581
        },
        "outputId": "6a67a316-4a57-4081-8607-e8d4f5a72442",
        "tags": []
      },
      "source": [
        "recommend('Relaxed Happy Euphoric Uplifted Hungry')"
      ],
      "execution_count": 57,
      "outputs": [
        {
          "output_type": "stream",
          "name": "stdout",
          "text": "\"Cherry Cola\"\n\"Cherry Kola\"\n\"Indica\"\n4.7\n61.0\n\"Relaxed Euphoric Happy Uplifted Hungry\"\n\"Stress Pain Anxiety Depression Lack of appetite\"\n\"Cherry Kola is an indica strain that competed in the 2014 L.A. Cannabis Cup.\"\n\"Hindu Skunk\"\n\"Dragonite, Skunk Kush, Hindu Kush Skunk\"\n\"Indica\"\n4.1\n107.0\n\"Euphoric Relaxed Happy Uplifted Hungry\"\n\"Stress Anxiety Pain Depression Insomnia\"\n\"Also known as Skunk Kush,\\u00a0Hindu Skunk is a cross of Hindu Kush and Skunk #1.\\u00a0The taste of the smoke is smooth and provides a strong and very mellow high. \\u00a0\"\n\"Cali Kush\"\n\"California Kush, Kali Kush\"\n\"Hybrid\"\n4.1\n242.0\n\"Relaxed Happy Euphoric Uplifted Hungry\"\n\"Stress Depression Anxiety Pain Headaches\"\n\"Cali Kush must have been a no-brainer when it came time to name this strain given the popularity of Kush varieties in The Golden State. Its buds are large and dense with few leaves and not many pistils. The flowers will be light green shot through with icy blue and packed with trichomes throughout. Cali Kush buds have a fruity citrus aroma with the darker coffee notes of a kush. Spicier tones and the coffee kushness are more apparent in the taste. The indica-dominant variation of this hybrid has been more popular, but a sativa-dominant version has also been spotted.\"\n\"Fire OG\"\n\"Fire OG Kush\"\n\"Hybrid\"\n4.4\n1099.0\n\"Relaxed Happy Euphoric Uplifted Hungry\"\n\"Stress Anxiety Depression Pain Insomnia\"\n\"Fire OG is a indica-dominant hybrid strain that is a cross between OG Kush and SFV OG Kush. This strain has an aroma similar to Lemon Pledge and has euphoric effects that are potent and long-lasting. Fire OG is one of the strongest OG strains, and is a fan favorite among consumers who have a high THC tolerance. Fire OG gets its name from the frosty red hairs that make the strain appear to look like it is on fire. Fire OG plants typically flower in 9-10 weeks.\"\n"
        }
      ]
    },
    {
      "cell_type": "markdown",
      "metadata": {},
      "source": [
        "# Pickle minimal data needed for output"
      ]
    },
    {
      "cell_type": "code",
      "execution_count": 58,
      "metadata": {},
      "outputs": [],
      "source": [
        "min_data = leafly[['strain', 'type', 'feeling_1', 'feeling_2', 'feeling_3', 'feeling_4','feeling_5', 'helps_1', 'helps_2', 'helps_3', 'helps_4', 'helps_5', 'description']].to_dict('records')\n",
        "\n",
        "with open('../pickles/min_data.pkl', 'wb') as data_pkl:\n",
        "    pickle.dump(min_data, data_pkl)"
      ]
    },
    {
      "cell_type": "markdown",
      "metadata": {},
      "source": [
        "# Code for use in api\n",
        "\n",
        "need to adjust paths"
      ]
    },
    {
      "cell_type": "code",
      "execution_count": 59,
      "metadata": {},
      "outputs": [],
      "source": [
        "import pickle\n",
        "\n",
        "with open('../pickles/nn_model.pkl', 'rb') as nn_pkl:\n",
        "    model = pickle.load(nn_pkl)\n",
        "\n",
        "with open('../pickles/tfidf.pkl', 'rb') as tfidf_pkl:\n",
        "    tfidf = pickle.load(tfidf_pkl)\n",
        "\n",
        "with open('../pickles/min_data.pkl', 'rb') as data_pkl:\n",
        "    data = pickle.load(data_pkl)\n",
        "\n",
        "def get_recommendations(user_input:str, num: int = 4):\n",
        "    neighbors = model.kneighbors(\n",
        "        tfidf.transform([user_input]).todense(),\n",
        "        n_neighbors=num, return_distance=False\n",
        "    )\n",
        "    results = []\n",
        "    for index in neighbors[0]:\n",
        "        results.append({\n",
        "            'strain': data[index]['strain'],\n",
        "            'strain_type': data[index]['type'],\n",
        "            'description': data[index]['description'],\n",
        "            'effects': [data[index][f'feeling_{i}'] for i in range(1,6)],\n",
        "            'helps': [data[index][f'helps_{i}'] for i in range(1,6)],\n",
        "        })\n",
        "    return results"
      ]
    },
    {
      "cell_type": "code",
      "execution_count": 60,
      "metadata": {},
      "outputs": [
        {
          "output_type": "execute_result",
          "data": {
            "text/plain": "[{'strain': 'Cherry Cola',\n  'strain_type': 'Indica',\n  'description': 'Cherry Kola is an indica strain that competed in the 2014 L.A. Cannabis Cup.',\n  'effects': ['Relaxed', 'Euphoric', 'Happy', 'Uplifted', 'Hungry'],\n  'helps': ['Stress', 'Pain', 'Anxiety', 'Depression', 'Lack of appetite']},\n {'strain': 'Hindu Skunk',\n  'strain_type': 'Indica',\n  'description': 'Also known as Skunk Kush,\\xa0Hindu Skunk is a cross of Hindu Kush and Skunk #1.\\xa0The taste of the smoke is smooth and provides a strong and very mellow high. \\xa0',\n  'effects': ['Euphoric', 'Relaxed', 'Happy', 'Uplifted', 'Hungry'],\n  'helps': ['Stress', 'Anxiety', 'Pain', 'Depression', 'Insomnia']},\n {'strain': 'Cali Kush',\n  'strain_type': 'Hybrid',\n  'description': 'Cali Kush must have been a no-brainer when it came time to name this strain given the popularity of Kush varieties in The Golden State. Its buds are large and dense with few leaves and not many pistils. The flowers will be light green shot through with icy blue and packed with trichomes throughout. Cali Kush buds have a fruity citrus aroma with the darker coffee notes of a kush. Spicier tones and the coffee kushness are more apparent in the taste. The indica-dominant variation of this hybrid has been more popular, but a sativa-dominant version has also been spotted.',\n  'effects': ['Relaxed', 'Happy', 'Euphoric', 'Uplifted', 'Hungry'],\n  'helps': ['Stress', 'Depression', 'Anxiety', 'Pain', 'Headaches']},\n {'strain': 'Fire OG',\n  'strain_type': 'Hybrid',\n  'description': 'Fire OG is a indica-dominant hybrid strain that is a cross between OG Kush and SFV OG Kush. This strain has an aroma similar to Lemon Pledge and has euphoric effects that are potent and long-lasting. Fire OG is one of the strongest OG strains, and is a fan favorite among consumers who have a high THC tolerance. Fire OG gets its name from the frosty red hairs that make the strain appear to look like it is on fire. Fire OG plants typically flower in 9-10 weeks.',\n  'effects': ['Relaxed', 'Happy', 'Euphoric', 'Uplifted', 'Hungry'],\n  'helps': ['Stress', 'Anxiety', 'Depression', 'Pain', 'Insomnia']}]"
          },
          "metadata": {},
          "execution_count": 60
        }
      ],
      "source": [
        "get_recommendations('Relaxed Happy Euphoric Uplifted Hungry')"
      ]
    }
  ]
}