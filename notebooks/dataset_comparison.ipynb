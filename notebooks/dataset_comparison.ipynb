{
  "nbformat": 4,
  "nbformat_minor": 0,
  "metadata": {
    "colab": {
      "name": "Wrangle_Bline_NN_Pickles.ipynb",
      "provenance": [],
      "collapsed_sections": [
        "dkN8S7i0DNXM"
      ]
    },
    "kernelspec": {
      "name": "python37664bitdspipenv4c679a2e85cb436f8d784862c1efd959",
      "display_name": "Python 3.7.6 64-bit ('DS': pipenv)"
    }
  },
  "cells": [
    {
      "cell_type": "markdown",
      "metadata": {
        "id": "DHM828Ov9aUn",
        "colab_type": "text"
      },
      "source": [
        "# Quick summary\n",
        "\n",
        "- Kaggle\n",
        "  -  2351 rows, 2264 with \"None\" effect dropped\n",
        "  -  Rating (out of 5)\n",
        "  -  Up to 5 effects (majority have 5)\n",
        "    -  most likely in order, based on what I saw on the website\n",
        "  -  Up to 4 flavors (majority have 3)\n",
        "\n",
        "- Leafly\n",
        "  -  3447 rows, 1254 with NAN effects reports dropped\n",
        "  -  Rating (out of 5)\n",
        "    - includes number of ratings\n",
        "  -  Feelings, helps with, and negative effects\n",
        "    -  top 5 reported results in each category\n",
        "    -  includes number of reports\n",
        "    -  includes percentage of reports for that result\n",
        "    -  5 feelings & helps with for all rows that are not nan\n",
        "  -  No flavors (possibly merge from kaggle?)\n"
      ]
    },
    {
      "cell_type": "code",
      "metadata": {
        "id": "aEn5LADWFkaS",
        "colab_type": "code",
        "colab": {}
      },
      "source": [
        "import pandas as pd"
      ],
      "execution_count": 1,
      "outputs": []
    },
    {
      "cell_type": "code",
      "metadata": {
        "id": "UCOteYvg3M--",
        "colab_type": "code",
        "colab": {
          "base_uri": "https://localhost:8080/",
          "height": 34
        },
        "outputId": "36f0ef63-f960-4058-ca04-998c52104808"
      },
      "source": [
        "kaggle = pd.read_csv('../data/cannabis.csv')\n",
        "leafly = pd.read_json('../data/leafly.json')\n",
        "kaggle.shape, leafly.shape"
      ],
      "execution_count": 2,
      "outputs": [
        {
          "output_type": "execute_result",
          "data": {
            "text/plain": "((2351, 6), (3447, 37))"
          },
          "metadata": {},
          "execution_count": 2
        }
      ]
    },
    {
      "cell_type": "code",
      "metadata": {
        "id": "G8jELPTJ3boO",
        "colab_type": "code",
        "colab": {
          "base_uri": "https://localhost:8080/",
          "height": 204
        },
        "outputId": "161a0d57-8981-4fa2-8879-f9b70cec933e"
      },
      "source": [
        "kaggle.head()"
      ],
      "execution_count": 3,
      "outputs": [
        {
          "output_type": "execute_result",
          "data": {
            "text/plain": "           Strain    Type  Rating                                     Effects  \\\n0          100-Og  hybrid     4.0  Creative,Energetic,Tingly,Euphoric,Relaxed   \n1  98-White-Widow  hybrid     4.7    Relaxed,Aroused,Creative,Happy,Energetic   \n2            1024  sativa     4.4   Uplifted,Happy,Relaxed,Energetic,Creative   \n3        13-Dawgs  hybrid     4.2     Tingly,Creative,Hungry,Relaxed,Uplifted   \n4        24K-Gold  hybrid     4.6   Happy,Relaxed,Euphoric,Uplifted,Talkative   \n\n                      Flavor  \\\n0        Earthy,Sweet,Citrus   \n1      Flowery,Violet,Diesel   \n2    Spicy/Herbal,Sage,Woody   \n3  Apricot,Citrus,Grapefruit   \n4       Citrus,Earthy,Orange   \n\n                                         Description  \n0  $100 OG is a 50/50 hybrid strain that packs a ...  \n1  The ‘98 Aloha White Widow is an especially pot...  \n2  1024 is a sativa-dominant hybrid bred in Spain...  \n3  13 Dawgs is a hybrid of G13 and Chemdawg genet...  \n4  Also known as Kosher Tangie, 24k Gold is a 60%...  ",
            "text/html": "<div>\n<style scoped>\n    .dataframe tbody tr th:only-of-type {\n        vertical-align: middle;\n    }\n\n    .dataframe tbody tr th {\n        vertical-align: top;\n    }\n\n    .dataframe thead th {\n        text-align: right;\n    }\n</style>\n<table border=\"1\" class=\"dataframe\">\n  <thead>\n    <tr style=\"text-align: right;\">\n      <th></th>\n      <th>Strain</th>\n      <th>Type</th>\n      <th>Rating</th>\n      <th>Effects</th>\n      <th>Flavor</th>\n      <th>Description</th>\n    </tr>\n  </thead>\n  <tbody>\n    <tr>\n      <th>0</th>\n      <td>100-Og</td>\n      <td>hybrid</td>\n      <td>4.0</td>\n      <td>Creative,Energetic,Tingly,Euphoric,Relaxed</td>\n      <td>Earthy,Sweet,Citrus</td>\n      <td>$100 OG is a 50/50 hybrid strain that packs a ...</td>\n    </tr>\n    <tr>\n      <th>1</th>\n      <td>98-White-Widow</td>\n      <td>hybrid</td>\n      <td>4.7</td>\n      <td>Relaxed,Aroused,Creative,Happy,Energetic</td>\n      <td>Flowery,Violet,Diesel</td>\n      <td>The ‘98 Aloha White Widow is an especially pot...</td>\n    </tr>\n    <tr>\n      <th>2</th>\n      <td>1024</td>\n      <td>sativa</td>\n      <td>4.4</td>\n      <td>Uplifted,Happy,Relaxed,Energetic,Creative</td>\n      <td>Spicy/Herbal,Sage,Woody</td>\n      <td>1024 is a sativa-dominant hybrid bred in Spain...</td>\n    </tr>\n    <tr>\n      <th>3</th>\n      <td>13-Dawgs</td>\n      <td>hybrid</td>\n      <td>4.2</td>\n      <td>Tingly,Creative,Hungry,Relaxed,Uplifted</td>\n      <td>Apricot,Citrus,Grapefruit</td>\n      <td>13 Dawgs is a hybrid of G13 and Chemdawg genet...</td>\n    </tr>\n    <tr>\n      <th>4</th>\n      <td>24K-Gold</td>\n      <td>hybrid</td>\n      <td>4.6</td>\n      <td>Happy,Relaxed,Euphoric,Uplifted,Talkative</td>\n      <td>Citrus,Earthy,Orange</td>\n      <td>Also known as Kosher Tangie, 24k Gold is a 60%...</td>\n    </tr>\n  </tbody>\n</table>\n</div>"
          },
          "metadata": {},
          "execution_count": 3
        }
      ]
    },
    {
      "cell_type": "code",
      "metadata": {
        "id": "VBiOQMNU3go0",
        "colab_type": "code",
        "colab": {
          "base_uri": "https://localhost:8080/",
          "height": 581
        },
        "outputId": "706b9b05-9caa-4cd7-91a4-d7178c027c8b"
      },
      "source": [
        "leafly.head()"
      ],
      "execution_count": 4,
      "outputs": [
        {
          "output_type": "execute_result",
          "data": {
            "text/plain": "                 strain                 aka    type  rating  num_reviews  \\\n0                   707        707 Headband  Hybrid     4.3        404.0   \n1            ArcticBlue                None  Hybrid     4.8         21.0   \n2           Atomic Goat  Atomic Golden Goat  Hybrid     4.8         12.0   \n3  Alaska Thunder Grape                None  Hybrid     4.2          6.0   \n4             B.B. King                None  Indica     3.8         17.0   \n\n   num_effects_reports feeling_1  feeling_1_pct feeling_2  feeling_2_pct  ...  \\\n0                290.0     Happy            0.5  Euphoric           0.48  ...   \n1                  NaN      None            NaN      None            NaN  ...   \n2                  NaN      None            NaN      None            NaN  ...   \n3                  NaN      None            NaN      None            NaN  ...   \n4                  NaN      None            NaN      None            NaN  ...   \n\n  negative_1_pct  negative_2 negative_2_pct  negative_3 negative_3_pct  \\\n0           0.33    Dry eyes           0.17       Dizzy           0.07   \n1            NaN        None            NaN        None            NaN   \n2            NaN        None            NaN        None            NaN   \n3            NaN        None            NaN        None            NaN   \n4            NaN        None            NaN        None            NaN   \n\n   negative_4 negative_4_pct  negative_5 negative_5_pct  \\\n0    Headache           0.07    Paranoid           0.07   \n1        None            NaN        None            NaN   \n2        None            NaN        None            NaN   \n3        None            NaN        None            NaN   \n4        None            NaN        None            NaN   \n\n                                         description  \n0  This strain emerged from the Humboldt County, ...  \n1  ArcticBlue is a 60/40 indica-dominant hybrid c...  \n2  Atomic Goat is a Seattle-born staple that came...  \n3  From Sonoma County comes Alaska Thunder Grape,...  \n4  B.B. King, named in honor of the Blues musicia...  \n\n[5 rows x 37 columns]",
            "text/html": "<div>\n<style scoped>\n    .dataframe tbody tr th:only-of-type {\n        vertical-align: middle;\n    }\n\n    .dataframe tbody tr th {\n        vertical-align: top;\n    }\n\n    .dataframe thead th {\n        text-align: right;\n    }\n</style>\n<table border=\"1\" class=\"dataframe\">\n  <thead>\n    <tr style=\"text-align: right;\">\n      <th></th>\n      <th>strain</th>\n      <th>aka</th>\n      <th>type</th>\n      <th>rating</th>\n      <th>num_reviews</th>\n      <th>num_effects_reports</th>\n      <th>feeling_1</th>\n      <th>feeling_1_pct</th>\n      <th>feeling_2</th>\n      <th>feeling_2_pct</th>\n      <th>...</th>\n      <th>negative_1_pct</th>\n      <th>negative_2</th>\n      <th>negative_2_pct</th>\n      <th>negative_3</th>\n      <th>negative_3_pct</th>\n      <th>negative_4</th>\n      <th>negative_4_pct</th>\n      <th>negative_5</th>\n      <th>negative_5_pct</th>\n      <th>description</th>\n    </tr>\n  </thead>\n  <tbody>\n    <tr>\n      <th>0</th>\n      <td>707</td>\n      <td>707 Headband</td>\n      <td>Hybrid</td>\n      <td>4.3</td>\n      <td>404.0</td>\n      <td>290.0</td>\n      <td>Happy</td>\n      <td>0.5</td>\n      <td>Euphoric</td>\n      <td>0.48</td>\n      <td>...</td>\n      <td>0.33</td>\n      <td>Dry eyes</td>\n      <td>0.17</td>\n      <td>Dizzy</td>\n      <td>0.07</td>\n      <td>Headache</td>\n      <td>0.07</td>\n      <td>Paranoid</td>\n      <td>0.07</td>\n      <td>This strain emerged from the Humboldt County, ...</td>\n    </tr>\n    <tr>\n      <th>1</th>\n      <td>ArcticBlue</td>\n      <td>None</td>\n      <td>Hybrid</td>\n      <td>4.8</td>\n      <td>21.0</td>\n      <td>NaN</td>\n      <td>None</td>\n      <td>NaN</td>\n      <td>None</td>\n      <td>NaN</td>\n      <td>...</td>\n      <td>NaN</td>\n      <td>None</td>\n      <td>NaN</td>\n      <td>None</td>\n      <td>NaN</td>\n      <td>None</td>\n      <td>NaN</td>\n      <td>None</td>\n      <td>NaN</td>\n      <td>ArcticBlue is a 60/40 indica-dominant hybrid c...</td>\n    </tr>\n    <tr>\n      <th>2</th>\n      <td>Atomic Goat</td>\n      <td>Atomic Golden Goat</td>\n      <td>Hybrid</td>\n      <td>4.8</td>\n      <td>12.0</td>\n      <td>NaN</td>\n      <td>None</td>\n      <td>NaN</td>\n      <td>None</td>\n      <td>NaN</td>\n      <td>...</td>\n      <td>NaN</td>\n      <td>None</td>\n      <td>NaN</td>\n      <td>None</td>\n      <td>NaN</td>\n      <td>None</td>\n      <td>NaN</td>\n      <td>None</td>\n      <td>NaN</td>\n      <td>Atomic Goat is a Seattle-born staple that came...</td>\n    </tr>\n    <tr>\n      <th>3</th>\n      <td>Alaska Thunder Grape</td>\n      <td>None</td>\n      <td>Hybrid</td>\n      <td>4.2</td>\n      <td>6.0</td>\n      <td>NaN</td>\n      <td>None</td>\n      <td>NaN</td>\n      <td>None</td>\n      <td>NaN</td>\n      <td>...</td>\n      <td>NaN</td>\n      <td>None</td>\n      <td>NaN</td>\n      <td>None</td>\n      <td>NaN</td>\n      <td>None</td>\n      <td>NaN</td>\n      <td>None</td>\n      <td>NaN</td>\n      <td>From Sonoma County comes Alaska Thunder Grape,...</td>\n    </tr>\n    <tr>\n      <th>4</th>\n      <td>B.B. King</td>\n      <td>None</td>\n      <td>Indica</td>\n      <td>3.8</td>\n      <td>17.0</td>\n      <td>NaN</td>\n      <td>None</td>\n      <td>NaN</td>\n      <td>None</td>\n      <td>NaN</td>\n      <td>...</td>\n      <td>NaN</td>\n      <td>None</td>\n      <td>NaN</td>\n      <td>None</td>\n      <td>NaN</td>\n      <td>None</td>\n      <td>NaN</td>\n      <td>None</td>\n      <td>NaN</td>\n      <td>B.B. King, named in honor of the Blues musicia...</td>\n    </tr>\n  </tbody>\n</table>\n<p>5 rows × 37 columns</p>\n</div>"
          },
          "metadata": {},
          "execution_count": 4
        }
      ]
    },
    {
      "cell_type": "code",
      "metadata": {
        "id": "PBwQ80gx3iaP",
        "colab_type": "code",
        "colab": {
          "base_uri": "https://localhost:8080/",
          "height": 136
        },
        "outputId": "b692404b-961b-4fe0-95fd-ef2ef7b0d658"
      },
      "source": [
        "kaggle.isna().sum()"
      ],
      "execution_count": 5,
      "outputs": [
        {
          "output_type": "execute_result",
          "data": {
            "text/plain": "Strain          0\nType            0\nRating          0\nEffects         0\nFlavor         46\nDescription    33\ndtype: int64"
          },
          "metadata": {},
          "execution_count": 5
        }
      ]
    },
    {
      "cell_type": "code",
      "metadata": {
        "id": "ZDID8EsY3xht",
        "colab_type": "code",
        "colab": {
          "base_uri": "https://localhost:8080/",
          "height": 663
        },
        "outputId": "7c8a0e55-9f52-41ac-b1c3-ac37d089f7f6"
      },
      "source": [
        "leafly.isna().sum()"
      ],
      "execution_count": 6,
      "outputs": [
        {
          "output_type": "execute_result",
          "data": {
            "text/plain": "strain                    0\naka                    2913\ntype                      0\nrating                  284\nnum_reviews             284\nnum_effects_reports    2193\nfeeling_1              2193\nfeeling_1_pct          2193\nfeeling_2              2193\nfeeling_2_pct          2193\nfeeling_3              2193\nfeeling_3_pct          2193\nfeeling_4              2193\nfeeling_4_pct          2193\nfeeling_5              2193\nfeeling_5_pct          2193\nhelps_1                2193\nhelps_1_pct            2193\nhelps_2                2193\nhelps_2_pct            2193\nhelps_3                2193\nhelps_3_pct            2193\nhelps_4                2193\nhelps_4_pct            2193\nhelps_5                2193\nhelps_5_pct            2193\nnegative_1             2193\nnegative_1_pct         2193\nnegative_2             2193\nnegative_2_pct         2193\nnegative_3             2209\nnegative_3_pct         2209\nnegative_4             2273\nnegative_4_pct         2273\nnegative_5             2403\nnegative_5_pct         2403\ndescription               0\ndtype: int64"
          },
          "metadata": {},
          "execution_count": 6
        }
      ]
    },
    {
      "cell_type": "markdown",
      "metadata": {
        "id": "3qgU8_Vx7uAg",
        "colab_type": "text"
      },
      "source": [
        "## Without none|nulls in effects|feelings\n",
        "\n",
        "-  Leafly still has nulls for some negative effects"
      ]
    },
    {
      "cell_type": "code",
      "metadata": {
        "id": "-StMj_qR5gA9",
        "colab_type": "code",
        "colab": {
          "base_uri": "https://localhost:8080/",
          "height": 34
        },
        "outputId": "8db96eec-0c02-4a12-dfa6-03d4871774eb"
      },
      "source": [
        "kaggle[~(kaggle['Effects'] == 'None')].shape"
      ],
      "execution_count": 7,
      "outputs": [
        {
          "output_type": "execute_result",
          "data": {
            "text/plain": "(2264, 6)"
          },
          "metadata": {},
          "execution_count": 7
        }
      ]
    },
    {
      "cell_type": "code",
      "metadata": {
        "id": "Gsp_PXFw6IRo",
        "colab_type": "code",
        "colab": {
          "base_uri": "https://localhost:8080/",
          "height": 34
        },
        "outputId": "f05e0c59-3977-4a5a-9298-101e87f5927b"
      },
      "source": [
        "leafly[leafly['num_effects_reports'].notna()].shape"
      ],
      "execution_count": 8,
      "outputs": [
        {
          "output_type": "execute_result",
          "data": {
            "text/plain": "(1254, 37)"
          },
          "metadata": {},
          "execution_count": 8
        }
      ]
    },
    {
      "cell_type": "code",
      "metadata": {
        "id": "xpUzU3fm-8s1",
        "colab_type": "code",
        "colab": {
          "base_uri": "https://localhost:8080/",
          "height": 663
        },
        "outputId": "df75e896-7ee4-4fcc-9430-2cdc75596001"
      },
      "source": [
        "leafly[leafly['num_effects_reports'].notna()].isnull().sum()"
      ],
      "execution_count": 9,
      "outputs": [
        {
          "output_type": "execute_result",
          "data": {
            "text/plain": "strain                   0\naka                    899\ntype                     0\nrating                   0\nnum_reviews              0\nnum_effects_reports      0\nfeeling_1                0\nfeeling_1_pct            0\nfeeling_2                0\nfeeling_2_pct            0\nfeeling_3                0\nfeeling_3_pct            0\nfeeling_4                0\nfeeling_4_pct            0\nfeeling_5                0\nfeeling_5_pct            0\nhelps_1                  0\nhelps_1_pct              0\nhelps_2                  0\nhelps_2_pct              0\nhelps_3                  0\nhelps_3_pct              0\nhelps_4                  0\nhelps_4_pct              0\nhelps_5                  0\nhelps_5_pct              0\nnegative_1               0\nnegative_1_pct           0\nnegative_2               0\nnegative_2_pct           0\nnegative_3              16\nnegative_3_pct          16\nnegative_4              80\nnegative_4_pct          80\nnegative_5             210\nnegative_5_pct         210\ndescription              0\ndtype: int64"
          },
          "metadata": {},
          "execution_count": 9
        }
      ]
    },
    {
      "cell_type": "markdown",
      "metadata": {
        "id": "EpZgHeX876VJ",
        "colab_type": "text"
      },
      "source": [
        "## Effects\n",
        "\n",
        "- Leafly feelings are almost identical to Kaggle's effects\n",
        "  -  Kaggle includes 'dry' and 'mouth'\n",
        "- Leafly has conditions that each strain helps with\n",
        "- Leafly has negative conditions\n",
        "  - including 'dry mouth'"
      ]
    },
    {
      "cell_type": "code",
      "metadata": {
        "id": "x0VwDWZX4AHw",
        "colab_type": "code",
        "cellView": "form",
        "colab": {
          "base_uri": "https://localhost:8080/",
          "height": 306
        },
        "outputId": "7dcbf657-9cc0-4165-8280-3a4ebee3f19e"
      },
      "source": [
        "#@title Kaggle: effects\n",
        "kaggle_effects = set()\n",
        "for row in kaggle['Effects'].str.lower().str.split(','):\n",
        "  kaggle_effects.update(set(row))\n",
        "len(kaggle_effects), kaggle_effects"
      ],
      "execution_count": 10,
      "outputs": [
        {
          "output_type": "execute_result",
          "data": {
            "text/plain": "(16,\n {'aroused',\n  'creative',\n  'dry',\n  'energetic',\n  'euphoric',\n  'focused',\n  'giggly',\n  'happy',\n  'hungry',\n  'mouth',\n  'none',\n  'relaxed',\n  'sleepy',\n  'talkative',\n  'tingly',\n  'uplifted'})"
          },
          "metadata": {},
          "execution_count": 10
        }
      ]
    },
    {
      "cell_type": "code",
      "metadata": {
        "id": "pwmp8GyMB6qj",
        "colab_type": "code",
        "cellView": "form",
        "colab": {
          "base_uri": "https://localhost:8080/",
          "height": 119
        },
        "outputId": "17886c46-8b96-49b3-f5d2-91026dff53ea"
      },
      "source": [
        "#@title Kaggle: number of effects value counts\n",
        "kaggle['Effects'].str.lower().str.split(',').str.len().value_counts(dropna=False).sort_index()"
      ],
      "execution_count": 11,
      "outputs": [
        {
          "output_type": "execute_result",
          "data": {
            "text/plain": "1      97\n2      15\n3      27\n4      32\n5    2180\nName: Effects, dtype: int64"
          },
          "metadata": {},
          "execution_count": 11
        }
      ]
    },
    {
      "cell_type": "code",
      "metadata": {
        "id": "9VZYu83E6-eF",
        "colab_type": "code",
        "cellView": "form",
        "colab": {
          "base_uri": "https://localhost:8080/",
          "height": 272
        },
        "outputId": "41569b8d-1594-49cc-e8df-040e40313ac1"
      },
      "source": [
        "#@title Leafly Feelings\n",
        "leafly_feelings = set()\n",
        "for i in range(1,6):\n",
        "  leafly_feelings.update(leafly[f'feeling_{i}'].str.lower().unique())\n",
        "len(leafly_feelings), leafly_feelings"
      ],
      "execution_count": 12,
      "outputs": [
        {
          "output_type": "execute_result",
          "data": {
            "text/plain": "(14,\n {None,\n  'aroused',\n  'creative',\n  'energetic',\n  'euphoric',\n  'focused',\n  'giggly',\n  'happy',\n  'hungry',\n  'relaxed',\n  'sleepy',\n  'talkative',\n  'tingly',\n  'uplifted'})"
          },
          "metadata": {},
          "execution_count": 12
        }
      ]
    },
    {
      "cell_type": "code",
      "metadata": {
        "id": "4k3iWB-87L-L",
        "colab_type": "code",
        "cellView": "form",
        "colab": {
          "base_uri": "https://localhost:8080/",
          "height": 527
        },
        "outputId": "7da16a12-3fc6-48e0-fd3f-dc7e74f7ccfc"
      },
      "source": [
        "#@title Leafly: helps with\n",
        "leafly_helps = set()\n",
        "for i in range(1,6):\n",
        "  leafly_helps.update(leafly[f'helps_{i}'].str.lower().unique())\n",
        "len(leafly_helps), leafly_helps"
      ],
      "execution_count": 13,
      "outputs": [
        {
          "output_type": "execute_result",
          "data": {
            "text/plain": "(29,\n {None,\n  'add/adhd',\n  'anorexia',\n  'anxiety',\n  'arthritis',\n  'asthma',\n  'bipolar disorder',\n  'cancer',\n  'cramps',\n  \"crohn's disease\",\n  'depression',\n  'epilepsy',\n  'eye pressure',\n  'fatigue',\n  'fibromyalgia',\n  'gastrointestinal disorder',\n  'headaches',\n  'hypertension',\n  'inflammation',\n  'insomnia',\n  'lack of appetite',\n  'migraines',\n  'muscle spasms',\n  'nausea',\n  'pain',\n  'ptsd',\n  'spasticity',\n  'spinal cord injury',\n  'stress'})"
          },
          "metadata": {},
          "execution_count": 13
        }
      ]
    },
    {
      "cell_type": "code",
      "metadata": {
        "id": "UBUKeI628cGr",
        "colab_type": "code",
        "cellView": "form",
        "colab": {
          "base_uri": "https://localhost:8080/",
          "height": 51
        },
        "outputId": "c9224490-b2b7-4847-f8ad-eef90cc1ad82"
      },
      "source": [
        "#@title Leafly: negative\n",
        "leafly_negative = set()\n",
        "for i in range(1,6):\n",
        "  leafly_negative.update(leafly[f'negative_{i}'].str.lower().unique())\n",
        "len(leafly_negative), leafly_negative"
      ],
      "execution_count": 14,
      "outputs": [
        {
          "output_type": "execute_result",
          "data": {
            "text/plain": "(7,\n {None, 'anxious', 'dizzy', 'dry eyes', 'dry mouth', 'headache', 'paranoid'})"
          },
          "metadata": {},
          "execution_count": 14
        }
      ]
    },
    {
      "cell_type": "markdown",
      "metadata": {
        "id": "IJoKk5GCAk4e",
        "colab_type": "text"
      },
      "source": [
        "## Kaggle Flavors\n",
        "\n",
        "- could probably add to leafly dataframe"
      ]
    },
    {
      "cell_type": "code",
      "metadata": {
        "id": "2fEEbZ2dArvI",
        "colab_type": "code",
        "colab": {
          "base_uri": "https://localhost:8080/",
          "height": 119
        },
        "outputId": "e0e98e04-296f-4129-e382-163bc697debd"
      },
      "source": [
        "kaggle['Flavor'].str.lower().str.split(',').str.len().value_counts(dropna=False).sort_index()"
      ],
      "execution_count": 15,
      "outputs": [
        {
          "output_type": "execute_result",
          "data": {
            "text/plain": "1.0     144\n2.0      44\n3.0    2074\n4.0      43\nNaN      46\nName: Flavor, dtype: int64"
          },
          "metadata": {},
          "execution_count": 15
        }
      ]
    },
    {
      "cell_type": "code",
      "metadata": {
        "id": "kv4NeNZ-A2pD",
        "colab_type": "code",
        "colab": {
          "base_uri": "https://localhost:8080/",
          "height": 34
        },
        "outputId": "45957170-bc96-41bf-ae70-08ebf3e17ff1"
      },
      "source": [
        "kaggle['Flavor'].isna().sum()"
      ],
      "execution_count": 16,
      "outputs": [
        {
          "output_type": "execute_result",
          "data": {
            "text/plain": "46"
          },
          "metadata": {},
          "execution_count": 16
        }
      ]
    },
    {
      "cell_type": "markdown",
      "metadata": {
        "id": "dkN8S7i0DNXM",
        "colab_type": "text"
      },
      "source": [
        "## Uniqueness of names"
      ]
    },
    {
      "cell_type": "code",
      "metadata": {
        "id": "6vAc1PmADPj5",
        "colab_type": "code",
        "colab": {
          "base_uri": "https://localhost:8080/",
          "height": 0
        },
        "outputId": "43aa29b0-999a-4574-921b-b9db141d421e"
      },
      "source": [
        "kaggle['Strain'].nunique(), kaggle.shape[0]"
      ],
      "execution_count": 17,
      "outputs": [
        {
          "output_type": "execute_result",
          "data": {
            "text/plain": "(2350, 2351)"
          },
          "metadata": {},
          "execution_count": 17
        }
      ]
    },
    {
      "cell_type": "code",
      "metadata": {
        "id": "Tv_ddwrzDTs6",
        "colab_type": "code",
        "colab": {
          "base_uri": "https://localhost:8080/",
          "height": 0
        },
        "outputId": "fb6cf0c7-dc80-45ec-a2d3-3434e7827060"
      },
      "source": [
        "leafly['strain'].nunique(), leafly.shape[0]"
      ],
      "execution_count": 18,
      "outputs": [
        {
          "output_type": "execute_result",
          "data": {
            "text/plain": "(3435, 3447)"
          },
          "metadata": {},
          "execution_count": 18
        }
      ]
    }
  ]
}