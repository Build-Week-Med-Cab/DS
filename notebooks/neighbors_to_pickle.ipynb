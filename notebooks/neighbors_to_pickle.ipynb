{
 "metadata": {
  "language_info": {
   "codemirror_mode": {
    "name": "ipython",
    "version": 3
   },
   "file_extension": ".py",
   "mimetype": "text/x-python",
   "name": "python",
   "nbconvert_exporter": "python",
   "pygments_lexer": "ipython3",
   "version": "3.7.6-final"
  },
  "orig_nbformat": 2,
  "kernelspec": {
   "name": "python37664bitdspipenv4c679a2e85cb436f8d784862c1efd959",
   "display_name": "Python 3.7.6 64-bit ('DS': pipenv)"
  }
 },
 "nbformat": 4,
 "nbformat_minor": 2,
 "cells": [
  {
   "cell_type": "code",
   "execution_count": 1,
   "metadata": {},
   "outputs": [
    {
     "output_type": "execute_result",
     "data": {
      "text/plain": "(1044, 37)"
     },
     "metadata": {},
     "execution_count": 1
    }
   ],
   "source": [
    "import pickle\n",
    "\n",
    "import pandas as pd\n",
    "from sklearn.feature_extraction.text import TfidfVectorizer\n",
    "from sklearn.neighbors import NearestNeighbors\n",
    "\n",
    "leafly = pd.read_json('../data/leafly.json')\n",
    "leafly['aka'] = leafly['aka'].fillna(\"unknown\")\n",
    "leafly = leafly.dropna()\n",
    "leafly.shape"
   ]
  },
  {
   "cell_type": "markdown",
   "metadata": {},
   "source": [
    "## Data Wrangling"
   ]
  },
  {
   "cell_type": "code",
   "execution_count": 2,
   "metadata": {},
   "outputs": [
    {
     "output_type": "execute_result",
     "data": {
      "text/plain": "0       Happy Euphoric Creative Relaxed Uplifted Stres...\n5       Happy Energetic Uplifted Creative Focused Stre...\n7       Euphoric Relaxed Happy Uplifted Creative Pain ...\n9       Happy Relaxed Uplifted Euphoric Hungry Stress ...\n11      Relaxed Happy Euphoric Sleepy Uplifted Stress ...\n                              ...                        \n3423    Euphoric Uplifted Happy Relaxed Energetic Stre...\n3425    Relaxed Euphoric Happy Sleepy Giggly Pain Stre...\n3432    Relaxed Sleepy Euphoric Happy Hungry Insomnia ...\n3434    Happy Energetic Relaxed Focused Uplifted Stres...\n3437    Happy Creative Aroused Energetic Focused Depre...\nName: feelings_helps_description, Length: 1044, dtype: object"
     },
     "metadata": {},
     "execution_count": 2
    }
   ],
   "source": [
    "leafly['feelings'] = leafly['feeling_1'] + ' ' + leafly['feeling_2'] + ' ' + leafly['feeling_3'] + ' ' + leafly['feeling_4'] + ' ' + leafly['feeling_5']\n",
    "\n",
    "leafly['helps'] = leafly['helps_1'] + ' ' + leafly['helps_2'] + ' ' + leafly['helps_3'] + ' ' + leafly['helps_4'] + ' ' + leafly['helps_5']\n",
    "\n",
    "leafly['feelings_helps_description'] = leafly[\"feelings\"] + ' ' + leafly[\"helps\"] + ' ' + leafly['description']\n",
    "\n",
    "leafly['feelings_helps_description']"
   ]
  },
  {
   "cell_type": "code",
   "execution_count": 3,
   "metadata": {},
   "outputs": [
    {
     "output_type": "execute_result",
     "data": {
      "text/plain": "'Relaxed Happy Euphoric Hungry Focused Stress Anxiety Nausea Pain Depression Blurple, also known as Blue Dream Purple, is a balanced hybrid cross between Blue Dream and Mendocino Purps. Its effects position themselves cerebrally at first, with gentle body relaxation that keeps you feeling light and free of tension. Drawing from both sides of the family, Blurple carries a sweet, dessert-like berry and grape aroma that comes to life on the inhale. This strain earns its name as bluish purple hues swirl throughout Blurple’s green buds.'"
     },
     "metadata": {},
     "execution_count": 3
    }
   ],
   "source": [
    "leafly['feelings_helps_description'][45]"
   ]
  },
  {
   "cell_type": "markdown",
   "metadata": {},
   "source": [
    "## Build preprocessor and model"
   ]
  },
  {
   "cell_type": "code",
   "execution_count": 4,
   "metadata": {},
   "outputs": [
    {
     "output_type": "execute_result",
     "data": {
      "text/plain": "NearestNeighbors(algorithm='kd_tree', n_neighbors=4)"
     },
     "metadata": {},
     "execution_count": 4
    }
   ],
   "source": [
    "tfidf = TfidfVectorizer(stop_words = 'english',ngram_range = (1,2),max_features = 2000)\n",
    "dtm = tfidf.fit_transform(leafly['feelings_helps_description'])\n",
    "dtm = pd.DataFrame(dtm.todense(), columns=tfidf.get_feature_names())\n",
    "nn = NearestNeighbors(n_neighbors=4, algorithm='kd_tree')\n",
    "nn.fit(dtm)"
   ]
  },
  {
   "cell_type": "markdown",
   "metadata": {},
   "source": [
    "## Pickle preprocessor and model"
   ]
  },
  {
   "cell_type": "code",
   "execution_count": 5,
   "metadata": {},
   "outputs": [
    {
     "output_type": "execute_result",
     "data": {
      "text/plain": "'0.23.2'"
     },
     "metadata": {},
     "execution_count": 5
    }
   ],
   "source": [
    "import sklearn\n",
    "sklearn.__version__"
   ]
  },
  {
   "cell_type": "code",
   "execution_count": 6,
   "metadata": {},
   "outputs": [],
   "source": [
    "with open('../pickles/nn_model.pkl', 'wb') as nn_pkl:\n",
    "    pickle.dump(nn, nn_pkl)\n",
    "\n",
    "with open('../pickles/tfidf.pkl', 'wb') as tfidf_pkl:\n",
    "    pickle.dump(tfidf, tfidf_pkl)"
   ]
  },
  {
   "cell_type": "markdown",
   "metadata": {},
   "source": [
    "## Pickle minified data\n"
   ]
  },
  {
   "cell_type": "code",
   "execution_count": 7,
   "metadata": {},
   "outputs": [],
   "source": [
    "min_data = leafly[['strain', 'type', 'feeling_1', 'feeling_2', 'feeling_3', 'feeling_4', 'feeling_5', 'helps_1', 'helps_2', 'helps_3', 'helps_4', 'helps_5', 'description']].to_records()\n",
    "\n",
    "with open('../pickles/min_data.pkl', 'wb') as data_pkl:\n",
    "    pickle.dump(min_data, data_pkl)"
   ]
  }
 ]
}