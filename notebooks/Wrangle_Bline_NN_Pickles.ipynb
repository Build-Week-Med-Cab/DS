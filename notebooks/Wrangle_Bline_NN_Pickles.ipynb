{
  "nbformat": 4,
  "nbformat_minor": 0,
  "metadata": {
    "colab": {
      "name": "Wrangle_Bline_NN_Pickles.ipynb",
      "provenance": [],
      "collapsed_sections": [],
      "toc_visible": true
    },
    "kernelspec": {
      "name": "python3",
      "display_name": "Python 3"
    },
    "accelerator": "GPU"
  },
  "cells": [
    {
      "cell_type": "markdown",
      "metadata": {
        "id": "DHM828Ov9aUn",
        "colab_type": "text"
      },
      "source": [
        "# Quick summary\n",
        "\n",
        "- Kaggle\n",
        "  -  2351 rows, 2264 with \"None\" effect dropped\n",
        "  -  Rating (out of 5)\n",
        "  -  Up to 5 effects (majority have 5)\n",
        "    -  most likely in order, based on what I saw on the website\n",
        "  -  Up to 4 flavors (majority have 3)\n",
        "\n",
        "- Leafly\n",
        "  -  3447 rows, 1254 with NAN effects reports dropped\n",
        "  -  Rating (out of 5)\n",
        "    - includes number of ratings\n",
        "  -  Feelings, helps with, and negative effects\n",
        "    -  top 5 reported results in each category\n",
        "    -  includes number of reports\n",
        "    -  includes percentage of reports for that result\n",
        "    -  5 feelings & helps with for all rows that are not nan\n",
        "  -  No flavors (possibly merge from kaggle?)\n"
      ]
    },
    {
      "cell_type": "code",
      "metadata": {
        "id": "UCOteYvg3M--",
        "colab_type": "code",
        "colab": {
          "base_uri": "https://localhost:8080/",
          "height": 34
        },
        "outputId": "41bb0936-91d2-40f0-9ad4-54b3b20aa6ae"
      },
      "source": [
        "# Import data\n",
        "\n",
        "import pandas as pd\n",
        "\n",
        "kaggle = pd.read_csv('cannabis.csv')\n",
        "leafly = pd.read_json('leafly.json')\n",
        "kaggle.shape, leafly.shape"
      ],
      "execution_count": 5,
      "outputs": [
        {
          "output_type": "execute_result",
          "data": {
            "text/plain": [
              "((2351, 6), (3447, 37))"
            ]
          },
          "metadata": {
            "tags": []
          },
          "execution_count": 5
        }
      ]
    },
    {
      "cell_type": "code",
      "metadata": {
        "id": "G8jELPTJ3boO",
        "colab_type": "code",
        "colab": {
          "base_uri": "https://localhost:8080/",
          "height": 204
        },
        "outputId": "9fd4fff7-c5e1-4697-c797-05cbbb3b3994"
      },
      "source": [
        "# Kaggle df head\n",
        "\n",
        "kaggle.head()"
      ],
      "execution_count": 6,
      "outputs": [
        {
          "output_type": "execute_result",
          "data": {
            "text/html": [
              "<div>\n",
              "<style scoped>\n",
              "    .dataframe tbody tr th:only-of-type {\n",
              "        vertical-align: middle;\n",
              "    }\n",
              "\n",
              "    .dataframe tbody tr th {\n",
              "        vertical-align: top;\n",
              "    }\n",
              "\n",
              "    .dataframe thead th {\n",
              "        text-align: right;\n",
              "    }\n",
              "</style>\n",
              "<table border=\"1\" class=\"dataframe\">\n",
              "  <thead>\n",
              "    <tr style=\"text-align: right;\">\n",
              "      <th></th>\n",
              "      <th>Strain</th>\n",
              "      <th>Type</th>\n",
              "      <th>Rating</th>\n",
              "      <th>Effects</th>\n",
              "      <th>Flavor</th>\n",
              "      <th>Description</th>\n",
              "    </tr>\n",
              "  </thead>\n",
              "  <tbody>\n",
              "    <tr>\n",
              "      <th>0</th>\n",
              "      <td>100-Og</td>\n",
              "      <td>hybrid</td>\n",
              "      <td>4.0</td>\n",
              "      <td>Creative,Energetic,Tingly,Euphoric,Relaxed</td>\n",
              "      <td>Earthy,Sweet,Citrus</td>\n",
              "      <td>$100 OG is a 50/50 hybrid strain that packs a ...</td>\n",
              "    </tr>\n",
              "    <tr>\n",
              "      <th>1</th>\n",
              "      <td>98-White-Widow</td>\n",
              "      <td>hybrid</td>\n",
              "      <td>4.7</td>\n",
              "      <td>Relaxed,Aroused,Creative,Happy,Energetic</td>\n",
              "      <td>Flowery,Violet,Diesel</td>\n",
              "      <td>The ‘98 Aloha White Widow is an especially pot...</td>\n",
              "    </tr>\n",
              "    <tr>\n",
              "      <th>2</th>\n",
              "      <td>1024</td>\n",
              "      <td>sativa</td>\n",
              "      <td>4.4</td>\n",
              "      <td>Uplifted,Happy,Relaxed,Energetic,Creative</td>\n",
              "      <td>Spicy/Herbal,Sage,Woody</td>\n",
              "      <td>1024 is a sativa-dominant hybrid bred in Spain...</td>\n",
              "    </tr>\n",
              "    <tr>\n",
              "      <th>3</th>\n",
              "      <td>13-Dawgs</td>\n",
              "      <td>hybrid</td>\n",
              "      <td>4.2</td>\n",
              "      <td>Tingly,Creative,Hungry,Relaxed,Uplifted</td>\n",
              "      <td>Apricot,Citrus,Grapefruit</td>\n",
              "      <td>13 Dawgs is a hybrid of G13 and Chemdawg genet...</td>\n",
              "    </tr>\n",
              "    <tr>\n",
              "      <th>4</th>\n",
              "      <td>24K-Gold</td>\n",
              "      <td>hybrid</td>\n",
              "      <td>4.6</td>\n",
              "      <td>Happy,Relaxed,Euphoric,Uplifted,Talkative</td>\n",
              "      <td>Citrus,Earthy,Orange</td>\n",
              "      <td>Also known as Kosher Tangie, 24k Gold is a 60%...</td>\n",
              "    </tr>\n",
              "  </tbody>\n",
              "</table>\n",
              "</div>"
            ],
            "text/plain": [
              "           Strain  ...                                        Description\n",
              "0          100-Og  ...  $100 OG is a 50/50 hybrid strain that packs a ...\n",
              "1  98-White-Widow  ...  The ‘98 Aloha White Widow is an especially pot...\n",
              "2            1024  ...  1024 is a sativa-dominant hybrid bred in Spain...\n",
              "3        13-Dawgs  ...  13 Dawgs is a hybrid of G13 and Chemdawg genet...\n",
              "4        24K-Gold  ...  Also known as Kosher Tangie, 24k Gold is a 60%...\n",
              "\n",
              "[5 rows x 6 columns]"
            ]
          },
          "metadata": {
            "tags": []
          },
          "execution_count": 6
        }
      ]
    },
    {
      "cell_type": "code",
      "metadata": {
        "id": "VBiOQMNU3go0",
        "colab_type": "code",
        "colab": {
          "base_uri": "https://localhost:8080/",
          "height": 513
        },
        "outputId": "134379a1-3956-456b-8f86-f354a8a0cd10"
      },
      "source": [
        "# Leafly df head\n",
        "\n",
        "leafly.head()"
      ],
      "execution_count": 7,
      "outputs": [
        {
          "output_type": "execute_result",
          "data": {
            "text/html": [
              "<div>\n",
              "<style scoped>\n",
              "    .dataframe tbody tr th:only-of-type {\n",
              "        vertical-align: middle;\n",
              "    }\n",
              "\n",
              "    .dataframe tbody tr th {\n",
              "        vertical-align: top;\n",
              "    }\n",
              "\n",
              "    .dataframe thead th {\n",
              "        text-align: right;\n",
              "    }\n",
              "</style>\n",
              "<table border=\"1\" class=\"dataframe\">\n",
              "  <thead>\n",
              "    <tr style=\"text-align: right;\">\n",
              "      <th></th>\n",
              "      <th>strain</th>\n",
              "      <th>aka</th>\n",
              "      <th>type</th>\n",
              "      <th>rating</th>\n",
              "      <th>num_reviews</th>\n",
              "      <th>num_effects_reports</th>\n",
              "      <th>feeling_1</th>\n",
              "      <th>feeling_1_pct</th>\n",
              "      <th>feeling_2</th>\n",
              "      <th>feeling_2_pct</th>\n",
              "      <th>feeling_3</th>\n",
              "      <th>feeling_3_pct</th>\n",
              "      <th>feeling_4</th>\n",
              "      <th>feeling_4_pct</th>\n",
              "      <th>feeling_5</th>\n",
              "      <th>feeling_5_pct</th>\n",
              "      <th>helps_1</th>\n",
              "      <th>helps_1_pct</th>\n",
              "      <th>helps_2</th>\n",
              "      <th>helps_2_pct</th>\n",
              "      <th>helps_3</th>\n",
              "      <th>helps_3_pct</th>\n",
              "      <th>helps_4</th>\n",
              "      <th>helps_4_pct</th>\n",
              "      <th>helps_5</th>\n",
              "      <th>helps_5_pct</th>\n",
              "      <th>negative_1</th>\n",
              "      <th>negative_1_pct</th>\n",
              "      <th>negative_2</th>\n",
              "      <th>negative_2_pct</th>\n",
              "      <th>negative_3</th>\n",
              "      <th>negative_3_pct</th>\n",
              "      <th>negative_4</th>\n",
              "      <th>negative_4_pct</th>\n",
              "      <th>negative_5</th>\n",
              "      <th>negative_5_pct</th>\n",
              "      <th>description</th>\n",
              "    </tr>\n",
              "  </thead>\n",
              "  <tbody>\n",
              "    <tr>\n",
              "      <th>0</th>\n",
              "      <td>707</td>\n",
              "      <td>707 Headband</td>\n",
              "      <td>Hybrid</td>\n",
              "      <td>4.3</td>\n",
              "      <td>404.0</td>\n",
              "      <td>290.0</td>\n",
              "      <td>Happy</td>\n",
              "      <td>0.5</td>\n",
              "      <td>Euphoric</td>\n",
              "      <td>0.48</td>\n",
              "      <td>Creative</td>\n",
              "      <td>0.44</td>\n",
              "      <td>Relaxed</td>\n",
              "      <td>0.43</td>\n",
              "      <td>Uplifted</td>\n",
              "      <td>0.43</td>\n",
              "      <td>Stress</td>\n",
              "      <td>0.44</td>\n",
              "      <td>Pain</td>\n",
              "      <td>0.36</td>\n",
              "      <td>Anxiety</td>\n",
              "      <td>0.33</td>\n",
              "      <td>Depression</td>\n",
              "      <td>0.3</td>\n",
              "      <td>Nausea</td>\n",
              "      <td>0.18</td>\n",
              "      <td>Dry mouth</td>\n",
              "      <td>0.33</td>\n",
              "      <td>Dry eyes</td>\n",
              "      <td>0.17</td>\n",
              "      <td>Dizzy</td>\n",
              "      <td>0.07</td>\n",
              "      <td>Headache</td>\n",
              "      <td>0.07</td>\n",
              "      <td>Paranoid</td>\n",
              "      <td>0.07</td>\n",
              "      <td>This strain emerged from the Humboldt County, ...</td>\n",
              "    </tr>\n",
              "    <tr>\n",
              "      <th>1</th>\n",
              "      <td>ArcticBlue</td>\n",
              "      <td>None</td>\n",
              "      <td>Hybrid</td>\n",
              "      <td>4.8</td>\n",
              "      <td>21.0</td>\n",
              "      <td>NaN</td>\n",
              "      <td>None</td>\n",
              "      <td>NaN</td>\n",
              "      <td>None</td>\n",
              "      <td>NaN</td>\n",
              "      <td>None</td>\n",
              "      <td>NaN</td>\n",
              "      <td>None</td>\n",
              "      <td>NaN</td>\n",
              "      <td>None</td>\n",
              "      <td>NaN</td>\n",
              "      <td>None</td>\n",
              "      <td>NaN</td>\n",
              "      <td>None</td>\n",
              "      <td>NaN</td>\n",
              "      <td>None</td>\n",
              "      <td>NaN</td>\n",
              "      <td>None</td>\n",
              "      <td>NaN</td>\n",
              "      <td>None</td>\n",
              "      <td>NaN</td>\n",
              "      <td>None</td>\n",
              "      <td>NaN</td>\n",
              "      <td>None</td>\n",
              "      <td>NaN</td>\n",
              "      <td>None</td>\n",
              "      <td>NaN</td>\n",
              "      <td>None</td>\n",
              "      <td>NaN</td>\n",
              "      <td>None</td>\n",
              "      <td>NaN</td>\n",
              "      <td>ArcticBlue is a 60/40 indica-dominant hybrid c...</td>\n",
              "    </tr>\n",
              "    <tr>\n",
              "      <th>2</th>\n",
              "      <td>Atomic Goat</td>\n",
              "      <td>Atomic Golden Goat</td>\n",
              "      <td>Hybrid</td>\n",
              "      <td>4.8</td>\n",
              "      <td>12.0</td>\n",
              "      <td>NaN</td>\n",
              "      <td>None</td>\n",
              "      <td>NaN</td>\n",
              "      <td>None</td>\n",
              "      <td>NaN</td>\n",
              "      <td>None</td>\n",
              "      <td>NaN</td>\n",
              "      <td>None</td>\n",
              "      <td>NaN</td>\n",
              "      <td>None</td>\n",
              "      <td>NaN</td>\n",
              "      <td>None</td>\n",
              "      <td>NaN</td>\n",
              "      <td>None</td>\n",
              "      <td>NaN</td>\n",
              "      <td>None</td>\n",
              "      <td>NaN</td>\n",
              "      <td>None</td>\n",
              "      <td>NaN</td>\n",
              "      <td>None</td>\n",
              "      <td>NaN</td>\n",
              "      <td>None</td>\n",
              "      <td>NaN</td>\n",
              "      <td>None</td>\n",
              "      <td>NaN</td>\n",
              "      <td>None</td>\n",
              "      <td>NaN</td>\n",
              "      <td>None</td>\n",
              "      <td>NaN</td>\n",
              "      <td>None</td>\n",
              "      <td>NaN</td>\n",
              "      <td>Atomic Goat is a Seattle-born staple that came...</td>\n",
              "    </tr>\n",
              "    <tr>\n",
              "      <th>3</th>\n",
              "      <td>Alaska Thunder Grape</td>\n",
              "      <td>None</td>\n",
              "      <td>Hybrid</td>\n",
              "      <td>4.2</td>\n",
              "      <td>6.0</td>\n",
              "      <td>NaN</td>\n",
              "      <td>None</td>\n",
              "      <td>NaN</td>\n",
              "      <td>None</td>\n",
              "      <td>NaN</td>\n",
              "      <td>None</td>\n",
              "      <td>NaN</td>\n",
              "      <td>None</td>\n",
              "      <td>NaN</td>\n",
              "      <td>None</td>\n",
              "      <td>NaN</td>\n",
              "      <td>None</td>\n",
              "      <td>NaN</td>\n",
              "      <td>None</td>\n",
              "      <td>NaN</td>\n",
              "      <td>None</td>\n",
              "      <td>NaN</td>\n",
              "      <td>None</td>\n",
              "      <td>NaN</td>\n",
              "      <td>None</td>\n",
              "      <td>NaN</td>\n",
              "      <td>None</td>\n",
              "      <td>NaN</td>\n",
              "      <td>None</td>\n",
              "      <td>NaN</td>\n",
              "      <td>None</td>\n",
              "      <td>NaN</td>\n",
              "      <td>None</td>\n",
              "      <td>NaN</td>\n",
              "      <td>None</td>\n",
              "      <td>NaN</td>\n",
              "      <td>From Sonoma County comes Alaska Thunder Grape,...</td>\n",
              "    </tr>\n",
              "    <tr>\n",
              "      <th>4</th>\n",
              "      <td>B.B. King</td>\n",
              "      <td>None</td>\n",
              "      <td>Indica</td>\n",
              "      <td>3.8</td>\n",
              "      <td>17.0</td>\n",
              "      <td>NaN</td>\n",
              "      <td>None</td>\n",
              "      <td>NaN</td>\n",
              "      <td>None</td>\n",
              "      <td>NaN</td>\n",
              "      <td>None</td>\n",
              "      <td>NaN</td>\n",
              "      <td>None</td>\n",
              "      <td>NaN</td>\n",
              "      <td>None</td>\n",
              "      <td>NaN</td>\n",
              "      <td>None</td>\n",
              "      <td>NaN</td>\n",
              "      <td>None</td>\n",
              "      <td>NaN</td>\n",
              "      <td>None</td>\n",
              "      <td>NaN</td>\n",
              "      <td>None</td>\n",
              "      <td>NaN</td>\n",
              "      <td>None</td>\n",
              "      <td>NaN</td>\n",
              "      <td>None</td>\n",
              "      <td>NaN</td>\n",
              "      <td>None</td>\n",
              "      <td>NaN</td>\n",
              "      <td>None</td>\n",
              "      <td>NaN</td>\n",
              "      <td>None</td>\n",
              "      <td>NaN</td>\n",
              "      <td>None</td>\n",
              "      <td>NaN</td>\n",
              "      <td>B.B. King, named in honor of the Blues musicia...</td>\n",
              "    </tr>\n",
              "  </tbody>\n",
              "</table>\n",
              "</div>"
            ],
            "text/plain": [
              "                 strain  ...                                        description\n",
              "0                   707  ...  This strain emerged from the Humboldt County, ...\n",
              "1            ArcticBlue  ...  ArcticBlue is a 60/40 indica-dominant hybrid c...\n",
              "2           Atomic Goat  ...  Atomic Goat is a Seattle-born staple that came...\n",
              "3  Alaska Thunder Grape  ...  From Sonoma County comes Alaska Thunder Grape,...\n",
              "4             B.B. King  ...  B.B. King, named in honor of the Blues musicia...\n",
              "\n",
              "[5 rows x 37 columns]"
            ]
          },
          "metadata": {
            "tags": []
          },
          "execution_count": 7
        }
      ]
    },
    {
      "cell_type": "code",
      "metadata": {
        "id": "PBwQ80gx3iaP",
        "colab_type": "code",
        "colab": {
          "base_uri": "https://localhost:8080/",
          "height": 136
        },
        "outputId": "1fa56ecb-3385-4a99-de94-7e4949e6319b"
      },
      "source": [
        "# Kaggle null values count\n",
        "\n",
        "kaggle.isna().sum()"
      ],
      "execution_count": 8,
      "outputs": [
        {
          "output_type": "execute_result",
          "data": {
            "text/plain": [
              "Strain          0\n",
              "Type            0\n",
              "Rating          0\n",
              "Effects         0\n",
              "Flavor         46\n",
              "Description    33\n",
              "dtype: int64"
            ]
          },
          "metadata": {
            "tags": []
          },
          "execution_count": 8
        }
      ]
    },
    {
      "cell_type": "code",
      "metadata": {
        "id": "ZDID8EsY3xht",
        "colab_type": "code",
        "colab": {
          "base_uri": "https://localhost:8080/",
          "height": 663
        },
        "outputId": "8a655847-344e-49db-acbf-46778ba36371"
      },
      "source": [
        "# Leafly null values count\n",
        "\n",
        "leafly.isna().sum()"
      ],
      "execution_count": 9,
      "outputs": [
        {
          "output_type": "execute_result",
          "data": {
            "text/plain": [
              "strain                    0\n",
              "aka                    2913\n",
              "type                      0\n",
              "rating                  284\n",
              "num_reviews             284\n",
              "num_effects_reports    2193\n",
              "feeling_1              2193\n",
              "feeling_1_pct          2193\n",
              "feeling_2              2193\n",
              "feeling_2_pct          2193\n",
              "feeling_3              2193\n",
              "feeling_3_pct          2193\n",
              "feeling_4              2193\n",
              "feeling_4_pct          2193\n",
              "feeling_5              2193\n",
              "feeling_5_pct          2193\n",
              "helps_1                2193\n",
              "helps_1_pct            2193\n",
              "helps_2                2193\n",
              "helps_2_pct            2193\n",
              "helps_3                2193\n",
              "helps_3_pct            2193\n",
              "helps_4                2193\n",
              "helps_4_pct            2193\n",
              "helps_5                2193\n",
              "helps_5_pct            2193\n",
              "negative_1             2193\n",
              "negative_1_pct         2193\n",
              "negative_2             2193\n",
              "negative_2_pct         2193\n",
              "negative_3             2209\n",
              "negative_3_pct         2209\n",
              "negative_4             2273\n",
              "negative_4_pct         2273\n",
              "negative_5             2403\n",
              "negative_5_pct         2403\n",
              "description               0\n",
              "dtype: int64"
            ]
          },
          "metadata": {
            "tags": []
          },
          "execution_count": 9
        }
      ]
    },
    {
      "cell_type": "markdown",
      "metadata": {
        "id": "3qgU8_Vx7uAg",
        "colab_type": "text"
      },
      "source": [
        "## Without none|nulls in effects|feelings\n",
        "\n",
        "-  Leafly still has nulls for some negative effects"
      ]
    },
    {
      "cell_type": "code",
      "metadata": {
        "id": "-StMj_qR5gA9",
        "colab_type": "code",
        "colab": {
          "base_uri": "https://localhost:8080/",
          "height": 34
        },
        "outputId": "ce1e368e-2ac4-40e1-d298-e86f3b9a822e"
      },
      "source": [
        "kaggle[~(kaggle['Effects'] == 'None')].shape"
      ],
      "execution_count": 10,
      "outputs": [
        {
          "output_type": "execute_result",
          "data": {
            "text/plain": [
              "(2264, 6)"
            ]
          },
          "metadata": {
            "tags": []
          },
          "execution_count": 10
        }
      ]
    },
    {
      "cell_type": "code",
      "metadata": {
        "id": "Gsp_PXFw6IRo",
        "colab_type": "code",
        "colab": {
          "base_uri": "https://localhost:8080/",
          "height": 34
        },
        "outputId": "c863d67b-c86b-4cbe-a23b-a92541d289b0"
      },
      "source": [
        "leafly[leafly['num_effects_reports'].notna()].shape"
      ],
      "execution_count": 11,
      "outputs": [
        {
          "output_type": "execute_result",
          "data": {
            "text/plain": [
              "(1254, 37)"
            ]
          },
          "metadata": {
            "tags": []
          },
          "execution_count": 11
        }
      ]
    },
    {
      "cell_type": "code",
      "metadata": {
        "id": "xpUzU3fm-8s1",
        "colab_type": "code",
        "colab": {
          "base_uri": "https://localhost:8080/",
          "height": 663
        },
        "outputId": "27e68bde-4132-4323-a3af-62b182928f36"
      },
      "source": [
        "leafly[leafly['num_effects_reports'].notna()].isnull().sum()"
      ],
      "execution_count": 12,
      "outputs": [
        {
          "output_type": "execute_result",
          "data": {
            "text/plain": [
              "strain                   0\n",
              "aka                    899\n",
              "type                     0\n",
              "rating                   0\n",
              "num_reviews              0\n",
              "num_effects_reports      0\n",
              "feeling_1                0\n",
              "feeling_1_pct            0\n",
              "feeling_2                0\n",
              "feeling_2_pct            0\n",
              "feeling_3                0\n",
              "feeling_3_pct            0\n",
              "feeling_4                0\n",
              "feeling_4_pct            0\n",
              "feeling_5                0\n",
              "feeling_5_pct            0\n",
              "helps_1                  0\n",
              "helps_1_pct              0\n",
              "helps_2                  0\n",
              "helps_2_pct              0\n",
              "helps_3                  0\n",
              "helps_3_pct              0\n",
              "helps_4                  0\n",
              "helps_4_pct              0\n",
              "helps_5                  0\n",
              "helps_5_pct              0\n",
              "negative_1               0\n",
              "negative_1_pct           0\n",
              "negative_2               0\n",
              "negative_2_pct           0\n",
              "negative_3              16\n",
              "negative_3_pct          16\n",
              "negative_4              80\n",
              "negative_4_pct          80\n",
              "negative_5             210\n",
              "negative_5_pct         210\n",
              "description              0\n",
              "dtype: int64"
            ]
          },
          "metadata": {
            "tags": []
          },
          "execution_count": 12
        }
      ]
    },
    {
      "cell_type": "markdown",
      "metadata": {
        "id": "EpZgHeX876VJ",
        "colab_type": "text"
      },
      "source": [
        "## Effects\n",
        "\n",
        "- Leafly feelings are almost identical to Kaggle's effects\n",
        "  -  Kaggle includes 'dry' and 'mouth'\n",
        "- Leafly has conditions that each strain helps with\n",
        "- Leafly has negative conditions\n",
        "  - including 'dry mouth'"
      ]
    },
    {
      "cell_type": "code",
      "metadata": {
        "id": "x0VwDWZX4AHw",
        "colab_type": "code",
        "cellView": "form",
        "colab": {
          "base_uri": "https://localhost:8080/",
          "height": 306
        },
        "outputId": "6c24fd13-19f1-47d0-e76c-b416791eae45"
      },
      "source": [
        "#@title Kaggle: effects\n",
        "kaggle_effects = set()\n",
        "for row in kaggle['Effects'].str.lower().str.split(','):\n",
        "  kaggle_effects.update(set(row))\n",
        "len(kaggle_effects), kaggle_effects"
      ],
      "execution_count": 13,
      "outputs": [
        {
          "output_type": "execute_result",
          "data": {
            "text/plain": [
              "(16,\n",
              " {'aroused',\n",
              "  'creative',\n",
              "  'dry',\n",
              "  'energetic',\n",
              "  'euphoric',\n",
              "  'focused',\n",
              "  'giggly',\n",
              "  'happy',\n",
              "  'hungry',\n",
              "  'mouth',\n",
              "  'none',\n",
              "  'relaxed',\n",
              "  'sleepy',\n",
              "  'talkative',\n",
              "  'tingly',\n",
              "  'uplifted'})"
            ]
          },
          "metadata": {
            "tags": []
          },
          "execution_count": 13
        }
      ]
    },
    {
      "cell_type": "code",
      "metadata": {
        "id": "pwmp8GyMB6qj",
        "colab_type": "code",
        "cellView": "form",
        "colab": {
          "base_uri": "https://localhost:8080/",
          "height": 119
        },
        "outputId": "581f1373-85fb-4cb8-b1d9-16bdb8f0992c"
      },
      "source": [
        "#@title Kaggle: number of effects value counts\n",
        "kaggle['Effects'].str.lower().str.split(',').str.len().value_counts(dropna=False).sort_index()"
      ],
      "execution_count": 14,
      "outputs": [
        {
          "output_type": "execute_result",
          "data": {
            "text/plain": [
              "1      97\n",
              "2      15\n",
              "3      27\n",
              "4      32\n",
              "5    2180\n",
              "Name: Effects, dtype: int64"
            ]
          },
          "metadata": {
            "tags": []
          },
          "execution_count": 14
        }
      ]
    },
    {
      "cell_type": "code",
      "metadata": {
        "id": "9VZYu83E6-eF",
        "colab_type": "code",
        "cellView": "form",
        "colab": {
          "base_uri": "https://localhost:8080/",
          "height": 272
        },
        "outputId": "48d636bb-fccb-4129-a51a-581efaba4f74"
      },
      "source": [
        "#@title Leafly Feelings\n",
        "leafly_feelings = set()\n",
        "for i in range(1,6):\n",
        "  leafly_feelings.update(leafly[f'feeling_{i}'].str.lower().unique())\n",
        "len(leafly_feelings), leafly_feelings"
      ],
      "execution_count": 15,
      "outputs": [
        {
          "output_type": "execute_result",
          "data": {
            "text/plain": [
              "(14,\n",
              " {None,\n",
              "  'aroused',\n",
              "  'creative',\n",
              "  'energetic',\n",
              "  'euphoric',\n",
              "  'focused',\n",
              "  'giggly',\n",
              "  'happy',\n",
              "  'hungry',\n",
              "  'relaxed',\n",
              "  'sleepy',\n",
              "  'talkative',\n",
              "  'tingly',\n",
              "  'uplifted'})"
            ]
          },
          "metadata": {
            "tags": []
          },
          "execution_count": 15
        }
      ]
    },
    {
      "cell_type": "code",
      "metadata": {
        "id": "4k3iWB-87L-L",
        "colab_type": "code",
        "cellView": "form",
        "colab": {
          "base_uri": "https://localhost:8080/",
          "height": 527
        },
        "outputId": "ac2c2d34-157c-4c13-caac-6a3876aa95e5"
      },
      "source": [
        "#@title Leafly: helps with\n",
        "leafly_helps = set()\n",
        "for i in range(1,6):\n",
        "  leafly_helps.update(leafly[f'helps_{i}'].str.lower().unique())\n",
        "len(leafly_helps), leafly_helps"
      ],
      "execution_count": 16,
      "outputs": [
        {
          "output_type": "execute_result",
          "data": {
            "text/plain": [
              "(29,\n",
              " {None,\n",
              "  'add/adhd',\n",
              "  'anorexia',\n",
              "  'anxiety',\n",
              "  'arthritis',\n",
              "  'asthma',\n",
              "  'bipolar disorder',\n",
              "  'cancer',\n",
              "  'cramps',\n",
              "  \"crohn's disease\",\n",
              "  'depression',\n",
              "  'epilepsy',\n",
              "  'eye pressure',\n",
              "  'fatigue',\n",
              "  'fibromyalgia',\n",
              "  'gastrointestinal disorder',\n",
              "  'headaches',\n",
              "  'hypertension',\n",
              "  'inflammation',\n",
              "  'insomnia',\n",
              "  'lack of appetite',\n",
              "  'migraines',\n",
              "  'muscle spasms',\n",
              "  'nausea',\n",
              "  'pain',\n",
              "  'ptsd',\n",
              "  'spasticity',\n",
              "  'spinal cord injury',\n",
              "  'stress'})"
            ]
          },
          "metadata": {
            "tags": []
          },
          "execution_count": 16
        }
      ]
    },
    {
      "cell_type": "code",
      "metadata": {
        "id": "UBUKeI628cGr",
        "colab_type": "code",
        "cellView": "form",
        "colab": {
          "base_uri": "https://localhost:8080/",
          "height": 51
        },
        "outputId": "dc0be8b3-b0f1-4b0e-8f0c-eb52ac9896a2"
      },
      "source": [
        "#@title Leafly: negative\n",
        "leafly_negative = set()\n",
        "for i in range(1,6):\n",
        "  leafly_negative.update(leafly[f'negative_{i}'].str.lower().unique())\n",
        "len(leafly_negative), leafly_negative"
      ],
      "execution_count": 17,
      "outputs": [
        {
          "output_type": "execute_result",
          "data": {
            "text/plain": [
              "(7,\n",
              " {None, 'anxious', 'dizzy', 'dry eyes', 'dry mouth', 'headache', 'paranoid'})"
            ]
          },
          "metadata": {
            "tags": []
          },
          "execution_count": 17
        }
      ]
    },
    {
      "cell_type": "markdown",
      "metadata": {
        "id": "IJoKk5GCAk4e",
        "colab_type": "text"
      },
      "source": [
        "## Kaggle Flavors\n",
        "\n",
        "- could probably add to leafly dataframe"
      ]
    },
    {
      "cell_type": "code",
      "metadata": {
        "id": "2fEEbZ2dArvI",
        "colab_type": "code",
        "colab": {
          "base_uri": "https://localhost:8080/",
          "height": 119
        },
        "outputId": "c7fd6eff-0aa2-4ab7-9202-445b5413f81a"
      },
      "source": [
        "kaggle['Flavor'].str.lower().str.split(',').str.len().value_counts(dropna=False).sort_index()"
      ],
      "execution_count": 18,
      "outputs": [
        {
          "output_type": "execute_result",
          "data": {
            "text/plain": [
              "1.0     144\n",
              "2.0      44\n",
              "3.0    2074\n",
              "4.0      43\n",
              "NaN      46\n",
              "Name: Flavor, dtype: int64"
            ]
          },
          "metadata": {
            "tags": []
          },
          "execution_count": 18
        }
      ]
    },
    {
      "cell_type": "code",
      "metadata": {
        "id": "kv4NeNZ-A2pD",
        "colab_type": "code",
        "colab": {
          "base_uri": "https://localhost:8080/",
          "height": 34
        },
        "outputId": "cb2236e4-8adf-46ea-8096-a45b5394e27d"
      },
      "source": [
        "kaggle['Flavor'].isna().sum()"
      ],
      "execution_count": 19,
      "outputs": [
        {
          "output_type": "execute_result",
          "data": {
            "text/plain": [
              "46"
            ]
          },
          "metadata": {
            "tags": []
          },
          "execution_count": 19
        }
      ]
    },
    {
      "cell_type": "markdown",
      "metadata": {
        "id": "dkN8S7i0DNXM",
        "colab_type": "text"
      },
      "source": [
        "## Uniqueness of names"
      ]
    },
    {
      "cell_type": "code",
      "metadata": {
        "id": "6vAc1PmADPj5",
        "colab_type": "code",
        "colab": {
          "base_uri": "https://localhost:8080/",
          "height": 34
        },
        "outputId": "81bc7648-1686-43ab-a8f2-89ac48ec0364"
      },
      "source": [
        "kaggle['Strain'].nunique(), kaggle.shape[0]"
      ],
      "execution_count": 20,
      "outputs": [
        {
          "output_type": "execute_result",
          "data": {
            "text/plain": [
              "(2350, 2351)"
            ]
          },
          "metadata": {
            "tags": []
          },
          "execution_count": 20
        }
      ]
    },
    {
      "cell_type": "code",
      "metadata": {
        "id": "Tv_ddwrzDTs6",
        "colab_type": "code",
        "colab": {
          "base_uri": "https://localhost:8080/",
          "height": 34
        },
        "outputId": "140e67d8-099e-4831-e180-c9bc4851096c"
      },
      "source": [
        "leafly['strain'].nunique(), leafly.shape[0]"
      ],
      "execution_count": 21,
      "outputs": [
        {
          "output_type": "execute_result",
          "data": {
            "text/plain": [
              "(3435, 3447)"
            ]
          },
          "metadata": {
            "tags": []
          },
          "execution_count": 21
        }
      ]
    },
    {
      "cell_type": "markdown",
      "metadata": {
        "id": "bJlA_v7Rtwoc",
        "colab_type": "text"
      },
      "source": [
        "## Drop nans\n"
      ]
    },
    {
      "cell_type": "code",
      "metadata": {
        "id": "tzSzfldyv9Wl",
        "colab_type": "code",
        "colab": {
          "base_uri": "https://localhost:8080/",
          "height": 34
        },
        "outputId": "e0b4155f-6a52-4fb5-8833-177895f88536"
      },
      "source": [
        "# Check kaggle shape\n",
        "\n",
        "kaggle.shape"
      ],
      "execution_count": 22,
      "outputs": [
        {
          "output_type": "execute_result",
          "data": {
            "text/plain": [
              "(2351, 6)"
            ]
          },
          "metadata": {
            "tags": []
          },
          "execution_count": 22
        }
      ]
    },
    {
      "cell_type": "code",
      "metadata": {
        "id": "GydL_Rm0v2Zo",
        "colab_type": "code",
        "colab": {}
      },
      "source": [
        "# Drop nans from kaggle\n",
        "\n",
        "kaggle = kaggle.dropna()"
      ],
      "execution_count": 23,
      "outputs": []
    },
    {
      "cell_type": "code",
      "metadata": {
        "id": "eQ9gpXnzv2jj",
        "colab_type": "code",
        "colab": {
          "base_uri": "https://localhost:8080/",
          "height": 34
        },
        "outputId": "844125f1-4b0c-4e0c-fc23-94a080ab7941"
      },
      "source": [
        "# Check kaggle shape again\n",
        "\n",
        "kaggle.shape"
      ],
      "execution_count": 24,
      "outputs": [
        {
          "output_type": "execute_result",
          "data": {
            "text/plain": [
              "(2277, 6)"
            ]
          },
          "metadata": {
            "tags": []
          },
          "execution_count": 24
        }
      ]
    },
    {
      "cell_type": "code",
      "metadata": {
        "id": "7fQcc2B9FzuB",
        "colab_type": "code",
        "colab": {
          "base_uri": "https://localhost:8080/",
          "height": 136
        },
        "outputId": "37aceaf0-87ed-405b-c362-48104cde116f"
      },
      "source": [
        "# Check kaggle for nans\n",
        "\n",
        "kaggle.isna().sum()"
      ],
      "execution_count": 25,
      "outputs": [
        {
          "output_type": "execute_result",
          "data": {
            "text/plain": [
              "Strain         0\n",
              "Type           0\n",
              "Rating         0\n",
              "Effects        0\n",
              "Flavor         0\n",
              "Description    0\n",
              "dtype: int64"
            ]
          },
          "metadata": {
            "tags": []
          },
          "execution_count": 25
        }
      ]
    },
    {
      "cell_type": "code",
      "metadata": {
        "id": "sFrtws1Ov2po",
        "colab_type": "code",
        "colab": {
          "base_uri": "https://localhost:8080/",
          "height": 34
        },
        "outputId": "4b4b35f0-8533-49ad-c18f-09846debc8f2"
      },
      "source": [
        "# Check leafly shape\n",
        "\n",
        "leafly.shape"
      ],
      "execution_count": 26,
      "outputs": [
        {
          "output_type": "execute_result",
          "data": {
            "text/plain": [
              "(3447, 37)"
            ]
          },
          "metadata": {
            "tags": []
          },
          "execution_count": 26
        }
      ]
    },
    {
      "cell_type": "code",
      "metadata": {
        "id": "GcyFEMFDy3hk",
        "colab_type": "code",
        "colab": {}
      },
      "source": [
        "# Replace nans in aka column with \"unknown\" so they don't get dropped\n",
        "\n",
        "leafly['aka'] = leafly['aka'].fillna(\"unknown\")"
      ],
      "execution_count": 27,
      "outputs": []
    },
    {
      "cell_type": "code",
      "metadata": {
        "id": "TRQ2EwHXtuQB",
        "colab_type": "code",
        "colab": {}
      },
      "source": [
        "# Drop nans from leafly\n",
        "\n",
        "leafly = leafly.dropna()"
      ],
      "execution_count": 28,
      "outputs": []
    },
    {
      "cell_type": "code",
      "metadata": {
        "id": "OTcOZJcxu9Y5",
        "colab_type": "code",
        "colab": {
          "base_uri": "https://localhost:8080/",
          "height": 34
        },
        "outputId": "ab2a5654-c30e-4fe4-f68f-b4a544373219"
      },
      "source": [
        "# Check Leafly Shape again\n",
        "\n",
        "leafly.shape"
      ],
      "execution_count": 29,
      "outputs": [
        {
          "output_type": "execute_result",
          "data": {
            "text/plain": [
              "(1044, 37)"
            ]
          },
          "metadata": {
            "tags": []
          },
          "execution_count": 29
        }
      ]
    },
    {
      "cell_type": "code",
      "metadata": {
        "id": "p-SrKTWrF-aa",
        "colab_type": "code",
        "colab": {
          "base_uri": "https://localhost:8080/",
          "height": 663
        },
        "outputId": "eeb0b916-8608-4492-998e-e4c45856c971"
      },
      "source": [
        "# Check leafly for nans\n",
        "\n",
        "leafly.isna().sum()"
      ],
      "execution_count": 30,
      "outputs": [
        {
          "output_type": "execute_result",
          "data": {
            "text/plain": [
              "strain                 0\n",
              "aka                    0\n",
              "type                   0\n",
              "rating                 0\n",
              "num_reviews            0\n",
              "num_effects_reports    0\n",
              "feeling_1              0\n",
              "feeling_1_pct          0\n",
              "feeling_2              0\n",
              "feeling_2_pct          0\n",
              "feeling_3              0\n",
              "feeling_3_pct          0\n",
              "feeling_4              0\n",
              "feeling_4_pct          0\n",
              "feeling_5              0\n",
              "feeling_5_pct          0\n",
              "helps_1                0\n",
              "helps_1_pct            0\n",
              "helps_2                0\n",
              "helps_2_pct            0\n",
              "helps_3                0\n",
              "helps_3_pct            0\n",
              "helps_4                0\n",
              "helps_4_pct            0\n",
              "helps_5                0\n",
              "helps_5_pct            0\n",
              "negative_1             0\n",
              "negative_1_pct         0\n",
              "negative_2             0\n",
              "negative_2_pct         0\n",
              "negative_3             0\n",
              "negative_3_pct         0\n",
              "negative_4             0\n",
              "negative_4_pct         0\n",
              "negative_5             0\n",
              "negative_5_pct         0\n",
              "description            0\n",
              "dtype: int64"
            ]
          },
          "metadata": {
            "tags": []
          },
          "execution_count": 30
        }
      ]
    },
    {
      "cell_type": "code",
      "metadata": {
        "id": "XlIU-rMLui8U",
        "colab_type": "code",
        "colab": {
          "base_uri": "https://localhost:8080/",
          "height": 496
        },
        "outputId": "696f24b0-6eca-4c23-b577-00d2cc8af6d6"
      },
      "source": [
        "# Check leafly for anything missing/prepare to combine columns\n",
        "\n",
        "leafly.head()"
      ],
      "execution_count": 31,
      "outputs": [
        {
          "output_type": "execute_result",
          "data": {
            "text/html": [
              "<div>\n",
              "<style scoped>\n",
              "    .dataframe tbody tr th:only-of-type {\n",
              "        vertical-align: middle;\n",
              "    }\n",
              "\n",
              "    .dataframe tbody tr th {\n",
              "        vertical-align: top;\n",
              "    }\n",
              "\n",
              "    .dataframe thead th {\n",
              "        text-align: right;\n",
              "    }\n",
              "</style>\n",
              "<table border=\"1\" class=\"dataframe\">\n",
              "  <thead>\n",
              "    <tr style=\"text-align: right;\">\n",
              "      <th></th>\n",
              "      <th>strain</th>\n",
              "      <th>aka</th>\n",
              "      <th>type</th>\n",
              "      <th>rating</th>\n",
              "      <th>num_reviews</th>\n",
              "      <th>num_effects_reports</th>\n",
              "      <th>feeling_1</th>\n",
              "      <th>feeling_1_pct</th>\n",
              "      <th>feeling_2</th>\n",
              "      <th>feeling_2_pct</th>\n",
              "      <th>feeling_3</th>\n",
              "      <th>feeling_3_pct</th>\n",
              "      <th>feeling_4</th>\n",
              "      <th>feeling_4_pct</th>\n",
              "      <th>feeling_5</th>\n",
              "      <th>feeling_5_pct</th>\n",
              "      <th>helps_1</th>\n",
              "      <th>helps_1_pct</th>\n",
              "      <th>helps_2</th>\n",
              "      <th>helps_2_pct</th>\n",
              "      <th>helps_3</th>\n",
              "      <th>helps_3_pct</th>\n",
              "      <th>helps_4</th>\n",
              "      <th>helps_4_pct</th>\n",
              "      <th>helps_5</th>\n",
              "      <th>helps_5_pct</th>\n",
              "      <th>negative_1</th>\n",
              "      <th>negative_1_pct</th>\n",
              "      <th>negative_2</th>\n",
              "      <th>negative_2_pct</th>\n",
              "      <th>negative_3</th>\n",
              "      <th>negative_3_pct</th>\n",
              "      <th>negative_4</th>\n",
              "      <th>negative_4_pct</th>\n",
              "      <th>negative_5</th>\n",
              "      <th>negative_5_pct</th>\n",
              "      <th>description</th>\n",
              "    </tr>\n",
              "  </thead>\n",
              "  <tbody>\n",
              "    <tr>\n",
              "      <th>0</th>\n",
              "      <td>707</td>\n",
              "      <td>707 Headband</td>\n",
              "      <td>Hybrid</td>\n",
              "      <td>4.3</td>\n",
              "      <td>404.0</td>\n",
              "      <td>290.0</td>\n",
              "      <td>Happy</td>\n",
              "      <td>0.50</td>\n",
              "      <td>Euphoric</td>\n",
              "      <td>0.48</td>\n",
              "      <td>Creative</td>\n",
              "      <td>0.44</td>\n",
              "      <td>Relaxed</td>\n",
              "      <td>0.43</td>\n",
              "      <td>Uplifted</td>\n",
              "      <td>0.43</td>\n",
              "      <td>Stress</td>\n",
              "      <td>0.44</td>\n",
              "      <td>Pain</td>\n",
              "      <td>0.36</td>\n",
              "      <td>Anxiety</td>\n",
              "      <td>0.33</td>\n",
              "      <td>Depression</td>\n",
              "      <td>0.30</td>\n",
              "      <td>Nausea</td>\n",
              "      <td>0.18</td>\n",
              "      <td>Dry mouth</td>\n",
              "      <td>0.33</td>\n",
              "      <td>Dry eyes</td>\n",
              "      <td>0.17</td>\n",
              "      <td>Dizzy</td>\n",
              "      <td>0.07</td>\n",
              "      <td>Headache</td>\n",
              "      <td>0.07</td>\n",
              "      <td>Paranoid</td>\n",
              "      <td>0.07</td>\n",
              "      <td>This strain emerged from the Humboldt County, ...</td>\n",
              "    </tr>\n",
              "    <tr>\n",
              "      <th>5</th>\n",
              "      <td>Allen Wrench</td>\n",
              "      <td>unknown</td>\n",
              "      <td>Sativa</td>\n",
              "      <td>4.3</td>\n",
              "      <td>183.0</td>\n",
              "      <td>134.0</td>\n",
              "      <td>Happy</td>\n",
              "      <td>0.61</td>\n",
              "      <td>Energetic</td>\n",
              "      <td>0.53</td>\n",
              "      <td>Uplifted</td>\n",
              "      <td>0.52</td>\n",
              "      <td>Creative</td>\n",
              "      <td>0.52</td>\n",
              "      <td>Focused</td>\n",
              "      <td>0.49</td>\n",
              "      <td>Stress</td>\n",
              "      <td>0.32</td>\n",
              "      <td>Depression</td>\n",
              "      <td>0.29</td>\n",
              "      <td>Anxiety</td>\n",
              "      <td>0.20</td>\n",
              "      <td>Pain</td>\n",
              "      <td>0.17</td>\n",
              "      <td>Fatigue</td>\n",
              "      <td>0.16</td>\n",
              "      <td>Dry mouth</td>\n",
              "      <td>0.29</td>\n",
              "      <td>Dry eyes</td>\n",
              "      <td>0.10</td>\n",
              "      <td>Anxious</td>\n",
              "      <td>0.05</td>\n",
              "      <td>Paranoid</td>\n",
              "      <td>0.05</td>\n",
              "      <td>Dizzy</td>\n",
              "      <td>0.05</td>\n",
              "      <td>A popular strain for sativa-lovers, Allen Wren...</td>\n",
              "    </tr>\n",
              "    <tr>\n",
              "      <th>7</th>\n",
              "      <td>Big Wreck</td>\n",
              "      <td>unknown</td>\n",
              "      <td>Indica</td>\n",
              "      <td>4.2</td>\n",
              "      <td>58.0</td>\n",
              "      <td>45.0</td>\n",
              "      <td>Euphoric</td>\n",
              "      <td>0.60</td>\n",
              "      <td>Relaxed</td>\n",
              "      <td>0.55</td>\n",
              "      <td>Happy</td>\n",
              "      <td>0.44</td>\n",
              "      <td>Uplifted</td>\n",
              "      <td>0.40</td>\n",
              "      <td>Creative</td>\n",
              "      <td>0.35</td>\n",
              "      <td>Pain</td>\n",
              "      <td>0.35</td>\n",
              "      <td>Stress</td>\n",
              "      <td>0.35</td>\n",
              "      <td>Insomnia</td>\n",
              "      <td>0.26</td>\n",
              "      <td>Anxiety</td>\n",
              "      <td>0.24</td>\n",
              "      <td>Migraines</td>\n",
              "      <td>0.24</td>\n",
              "      <td>Dry mouth</td>\n",
              "      <td>0.35</td>\n",
              "      <td>Dry eyes</td>\n",
              "      <td>0.13</td>\n",
              "      <td>Anxious</td>\n",
              "      <td>0.04</td>\n",
              "      <td>Dizzy</td>\n",
              "      <td>0.04</td>\n",
              "      <td>Headache</td>\n",
              "      <td>0.02</td>\n",
              "      <td>Big Wreck is the ndica-dominant cross of Big B...</td>\n",
              "    </tr>\n",
              "    <tr>\n",
              "      <th>9</th>\n",
              "      <td>Blueberry Yum Yum</td>\n",
              "      <td>unknown</td>\n",
              "      <td>Hybrid</td>\n",
              "      <td>4.6</td>\n",
              "      <td>121.0</td>\n",
              "      <td>78.0</td>\n",
              "      <td>Happy</td>\n",
              "      <td>0.76</td>\n",
              "      <td>Relaxed</td>\n",
              "      <td>0.65</td>\n",
              "      <td>Uplifted</td>\n",
              "      <td>0.61</td>\n",
              "      <td>Euphoric</td>\n",
              "      <td>0.60</td>\n",
              "      <td>Hungry</td>\n",
              "      <td>0.35</td>\n",
              "      <td>Stress</td>\n",
              "      <td>0.47</td>\n",
              "      <td>Depression</td>\n",
              "      <td>0.34</td>\n",
              "      <td>Anxiety</td>\n",
              "      <td>0.34</td>\n",
              "      <td>Pain</td>\n",
              "      <td>0.32</td>\n",
              "      <td>Insomnia</td>\n",
              "      <td>0.26</td>\n",
              "      <td>Dry mouth</td>\n",
              "      <td>0.28</td>\n",
              "      <td>Dry eyes</td>\n",
              "      <td>0.10</td>\n",
              "      <td>Dizzy</td>\n",
              "      <td>0.05</td>\n",
              "      <td>Paranoid</td>\n",
              "      <td>0.03</td>\n",
              "      <td>Anxious</td>\n",
              "      <td>0.01</td>\n",
              "      <td>Blueberry Yum Yum is a hybrid strain whose pop...</td>\n",
              "    </tr>\n",
              "    <tr>\n",
              "      <th>11</th>\n",
              "      <td>Blue Cheese</td>\n",
              "      <td>unknown</td>\n",
              "      <td>Indica</td>\n",
              "      <td>4.2</td>\n",
              "      <td>2618.0</td>\n",
              "      <td>1852.0</td>\n",
              "      <td>Relaxed</td>\n",
              "      <td>0.62</td>\n",
              "      <td>Happy</td>\n",
              "      <td>0.55</td>\n",
              "      <td>Euphoric</td>\n",
              "      <td>0.51</td>\n",
              "      <td>Sleepy</td>\n",
              "      <td>0.38</td>\n",
              "      <td>Uplifted</td>\n",
              "      <td>0.35</td>\n",
              "      <td>Stress</td>\n",
              "      <td>0.40</td>\n",
              "      <td>Pain</td>\n",
              "      <td>0.31</td>\n",
              "      <td>Anxiety</td>\n",
              "      <td>0.30</td>\n",
              "      <td>Insomnia</td>\n",
              "      <td>0.24</td>\n",
              "      <td>Depression</td>\n",
              "      <td>0.24</td>\n",
              "      <td>Dry mouth</td>\n",
              "      <td>0.36</td>\n",
              "      <td>Dry eyes</td>\n",
              "      <td>0.21</td>\n",
              "      <td>Dizzy</td>\n",
              "      <td>0.08</td>\n",
              "      <td>Paranoid</td>\n",
              "      <td>0.05</td>\n",
              "      <td>Headache</td>\n",
              "      <td>0.04</td>\n",
              "      <td>Blue Cheese is an indica cross created by cros...</td>\n",
              "    </tr>\n",
              "  </tbody>\n",
              "</table>\n",
              "</div>"
            ],
            "text/plain": [
              "               strain  ...                                        description\n",
              "0                 707  ...  This strain emerged from the Humboldt County, ...\n",
              "5        Allen Wrench  ...  A popular strain for sativa-lovers, Allen Wren...\n",
              "7           Big Wreck  ...  Big Wreck is the ndica-dominant cross of Big B...\n",
              "9   Blueberry Yum Yum  ...  Blueberry Yum Yum is a hybrid strain whose pop...\n",
              "11        Blue Cheese  ...  Blue Cheese is an indica cross created by cros...\n",
              "\n",
              "[5 rows x 37 columns]"
            ]
          },
          "metadata": {
            "tags": []
          },
          "execution_count": 31
        }
      ]
    },
    {
      "cell_type": "code",
      "metadata": {
        "id": "q9zer66JQPOh",
        "colab_type": "code",
        "colab": {}
      },
      "source": [
        "# Combine feelings into one column for one hot encoding\n",
        "\n",
        "leafly['feelings'] = leafly['feeling_1'] + ',' + leafly['feeling_2'] + ',' + leafly['feeling_3'] + ',' + leafly['feeling_4'] + ',' + leafly['feeling_5']"
      ],
      "execution_count": 32,
      "outputs": []
    },
    {
      "cell_type": "code",
      "metadata": {
        "id": "_WLrGw91Q6Er",
        "colab_type": "code",
        "colab": {
          "base_uri": "https://localhost:8080/",
          "height": 221
        },
        "outputId": "006ef676-10cf-442f-ff65-dcb895eac0b4"
      },
      "source": [
        "# Check feelings\n",
        "\n",
        "leafly['feelings']"
      ],
      "execution_count": 33,
      "outputs": [
        {
          "output_type": "execute_result",
          "data": {
            "text/plain": [
              "0        Happy,Euphoric,Creative,Relaxed,Uplifted\n",
              "5       Happy,Energetic,Uplifted,Creative,Focused\n",
              "7        Euphoric,Relaxed,Happy,Uplifted,Creative\n",
              "9          Happy,Relaxed,Uplifted,Euphoric,Hungry\n",
              "11         Relaxed,Happy,Euphoric,Sleepy,Uplifted\n",
              "                          ...                    \n",
              "3423    Euphoric,Uplifted,Happy,Relaxed,Energetic\n",
              "3425         Relaxed,Euphoric,Happy,Sleepy,Giggly\n",
              "3432         Relaxed,Sleepy,Euphoric,Happy,Hungry\n",
              "3434     Happy,Energetic,Relaxed,Focused,Uplifted\n",
              "3437     Happy,Creative,Aroused,Energetic,Focused\n",
              "Name: feelings, Length: 1044, dtype: object"
            ]
          },
          "metadata": {
            "tags": []
          },
          "execution_count": 33
        }
      ]
    },
    {
      "cell_type": "code",
      "metadata": {
        "id": "5N7MMpudR5bx",
        "colab_type": "code",
        "colab": {}
      },
      "source": [
        "# Combine helps into one column for one hot encoding\n",
        "\n",
        "leafly['helps'] = leafly['helps_1'] + ',' + leafly['helps_2'] + ',' + leafly['helps_3'] + ',' + leafly['helps_4'] + ',' + leafly['helps_5']"
      ],
      "execution_count": 34,
      "outputs": []
    },
    {
      "cell_type": "code",
      "metadata": {
        "id": "r_1pE_5ESa2e",
        "colab_type": "code",
        "colab": {
          "base_uri": "https://localhost:8080/",
          "height": 221
        },
        "outputId": "5f63dfee-2962-4345-fe8a-a298855272af"
      },
      "source": [
        "# Check helps\n",
        "\n",
        "leafly['helps']"
      ],
      "execution_count": 35,
      "outputs": [
        {
          "output_type": "execute_result",
          "data": {
            "text/plain": [
              "0              Stress,Pain,Anxiety,Depression,Nausea\n",
              "5             Stress,Depression,Anxiety,Pain,Fatigue\n",
              "7             Pain,Stress,Insomnia,Anxiety,Migraines\n",
              "9            Stress,Depression,Anxiety,Pain,Insomnia\n",
              "11           Stress,Pain,Anxiety,Insomnia,Depression\n",
              "                            ...                     \n",
              "3423        Stress,Depression,Pain,Anxiety,Headaches\n",
              "3425    Pain,Stress,Insomnia,Inflammation,Depression\n",
              "3432       Insomnia,Pain,Stress,Inflammation,Anxiety\n",
              "3434          Stress,Depression,Pain,Fatigue,Anxiety\n",
              "3437         Depression,Stress,ADD/ADHD,Anxiety,Pain\n",
              "Name: helps, Length: 1044, dtype: object"
            ]
          },
          "metadata": {
            "tags": []
          },
          "execution_count": 35
        }
      ]
    },
    {
      "cell_type": "code",
      "metadata": {
        "id": "OA5NIAh4SkHi",
        "colab_type": "code",
        "colab": {}
      },
      "source": [
        "# Combine feelings and helps columns\n",
        "\n",
        "leafly[\"feelings_helps\"] = leafly['feelings'] + ',' + leafly['helps'] "
      ],
      "execution_count": 36,
      "outputs": []
    },
    {
      "cell_type": "code",
      "metadata": {
        "id": "KnD1S524S6VS",
        "colab_type": "code",
        "colab": {
          "base_uri": "https://localhost:8080/",
          "height": 221
        },
        "outputId": "65530f4d-c3cc-4c38-f9b5-949c3fa2df53"
      },
      "source": [
        "# Check feelings_helps\n",
        "\n",
        "leafly['feelings_helps']"
      ],
      "execution_count": 37,
      "outputs": [
        {
          "output_type": "execute_result",
          "data": {
            "text/plain": [
              "0       Happy,Euphoric,Creative,Relaxed,Uplifted,Stres...\n",
              "5       Happy,Energetic,Uplifted,Creative,Focused,Stre...\n",
              "7       Euphoric,Relaxed,Happy,Uplifted,Creative,Pain,...\n",
              "9       Happy,Relaxed,Uplifted,Euphoric,Hungry,Stress,...\n",
              "11      Relaxed,Happy,Euphoric,Sleepy,Uplifted,Stress,...\n",
              "                              ...                        \n",
              "3423    Euphoric,Uplifted,Happy,Relaxed,Energetic,Stre...\n",
              "3425    Relaxed,Euphoric,Happy,Sleepy,Giggly,Pain,Stre...\n",
              "3432    Relaxed,Sleepy,Euphoric,Happy,Hungry,Insomnia,...\n",
              "3434    Happy,Energetic,Relaxed,Focused,Uplifted,Stres...\n",
              "3437    Happy,Creative,Aroused,Energetic,Focused,Depre...\n",
              "Name: feelings_helps, Length: 1044, dtype: object"
            ]
          },
          "metadata": {
            "tags": []
          },
          "execution_count": 37
        }
      ]
    },
    {
      "cell_type": "markdown",
      "metadata": {
        "id": "Btman3EDE-Dj",
        "colab_type": "text"
      },
      "source": [
        "# Machine Learning Baseline - Neural Network"
      ]
    },
    {
      "cell_type": "code",
      "metadata": {
        "id": "vRoWo5iyE88Z",
        "colab_type": "code",
        "colab": {}
      },
      "source": [
        "# Imports\n",
        "\n",
        "from sklearn.model_selection import train_test_split\n",
        "import pandas as pd\n",
        "import numpy as np\n",
        "import tensorflow as tf\n",
        "from tensorflow.keras.models import Sequential\n",
        "from tensorflow.keras.layers import Dense, Embedding, Input\n",
        "from tensorflow.keras import layers\n",
        "from sklearn.feature_extraction.text import CountVectorizer, TfidfVectorizer\n",
        "from tensorflow.keras.layers import LSTM\n",
        "from sklearn.model_selection import train_test_split\n",
        "from sklearn.metrics import accuracy_score\n",
        "from sklearn import preprocessing\n",
        "import pickle"
      ],
      "execution_count": 38,
      "outputs": []
    },
    {
      "cell_type": "code",
      "metadata": {
        "id": "7r5wg0HFFEgy",
        "colab_type": "code",
        "colab": {}
      },
      "source": [
        "# Instantiate feelings_helps column for training\n",
        "\n",
        "X = leafly['feelings_helps']"
      ],
      "execution_count": 39,
      "outputs": []
    },
    {
      "cell_type": "code",
      "metadata": {
        "id": "aqTylQVLHhTc",
        "colab_type": "code",
        "colab": {
          "base_uri": "https://localhost:8080/",
          "height": 34
        },
        "outputId": "3103dee1-9ec7-4753-d2f1-119f1b333a1e"
      },
      "source": [
        "# Check x shape\n",
        "\n",
        "X.shape"
      ],
      "execution_count": 40,
      "outputs": [
        {
          "output_type": "execute_result",
          "data": {
            "text/plain": [
              "(1044,)"
            ]
          },
          "metadata": {
            "tags": []
          },
          "execution_count": 40
        }
      ]
    },
    {
      "cell_type": "code",
      "metadata": {
        "id": "XUY87GteNg7F",
        "colab_type": "code",
        "colab": {}
      },
      "source": [
        "# Instantiate strain for target\n",
        "\n",
        "y = leafly['strain']"
      ],
      "execution_count": 41,
      "outputs": []
    },
    {
      "cell_type": "code",
      "metadata": {
        "id": "P0FciLpgOGab",
        "colab_type": "code",
        "colab": {
          "base_uri": "https://localhost:8080/",
          "height": 34
        },
        "outputId": "21b4fdba-88b4-4042-ae3e-224d12227caf"
      },
      "source": [
        "# Check y shape\n",
        "\n",
        "y.shape"
      ],
      "execution_count": 42,
      "outputs": [
        {
          "output_type": "execute_result",
          "data": {
            "text/plain": [
              "(1044,)"
            ]
          },
          "metadata": {
            "tags": []
          },
          "execution_count": 42
        }
      ]
    },
    {
      "cell_type": "code",
      "metadata": {
        "id": "N_v3b7nnOIbP",
        "colab_type": "code",
        "colab": {
          "base_uri": "https://localhost:8080/",
          "height": 221
        },
        "outputId": "1342b9af-bf09-463e-a768-b4b91192c353"
      },
      "source": [
        "# Check y\n",
        "\n",
        "print(y)"
      ],
      "execution_count": 43,
      "outputs": [
        {
          "output_type": "stream",
          "text": [
            "0                     707\n",
            "5            Allen Wrench\n",
            "7               Big Wreck\n",
            "9       Blueberry Yum Yum\n",
            "11            Blue Cheese\n",
            "              ...        \n",
            "3423             The Flav\n",
            "3425           The Doctor\n",
            "3432            The Black\n",
            "3434                 Thai\n",
            "3437            Thai Haze\n",
            "Name: strain, Length: 1044, dtype: object\n"
          ],
          "name": "stdout"
        }
      ]
    },
    {
      "cell_type": "code",
      "metadata": {
        "id": "HiuEI2CcOUPV",
        "colab_type": "code",
        "colab": {}
      },
      "source": [
        "# Since the neural network cannot take in straight text, vectorize X data\n",
        "\n",
        "# Create the transformer\n",
        "\n",
        "vect = CountVectorizer()\n",
        "\n",
        "# Build vocab\n",
        "\n",
        "vect.fit(X)\n",
        "\n",
        "# Transform text\n",
        "\n",
        "dtm = vect.transform(X)"
      ],
      "execution_count": 44,
      "outputs": []
    },
    {
      "cell_type": "code",
      "metadata": {
        "id": "Joga-Te1Oa4a",
        "colab_type": "code",
        "colab": {
          "base_uri": "https://localhost:8080/",
          "height": 54
        },
        "outputId": "44a0c855-8b08-46d3-8122-c221c1505834"
      },
      "source": [
        "# Checking to see that the feature names are correct\n",
        "\n",
        "print(vect.get_feature_names())"
      ],
      "execution_count": 45,
      "outputs": [
        {
          "output_type": "stream",
          "text": [
            "['add', 'adhd', 'anxiety', 'appetite', 'aroused', 'arthritis', 'asthma', 'bipolar', 'cramps', 'creative', 'crohn', 'depression', 'disease', 'disorder', 'energetic', 'epilepsy', 'euphoric', 'eye', 'fatigue', 'fibromyalgia', 'focused', 'gastrointestinal', 'giggly', 'happy', 'headaches', 'hungry', 'inflammation', 'insomnia', 'lack', 'migraines', 'muscle', 'nausea', 'of', 'pain', 'pressure', 'ptsd', 'relaxed', 'sleepy', 'spasms', 'stress', 'talkative', 'tingly', 'uplifted']\n"
          ],
          "name": "stdout"
        }
      ]
    },
    {
      "cell_type": "code",
      "metadata": {
        "id": "gw52Wi1VObBC",
        "colab_type": "code",
        "colab": {}
      },
      "source": [
        "# Now I am going to use todense() to turn X into a matrix\n",
        "\n",
        "X = dtm.todense()"
      ],
      "execution_count": 46,
      "outputs": []
    },
    {
      "cell_type": "code",
      "metadata": {
        "id": "p-GwggBFOp5k",
        "colab_type": "code",
        "colab": {
          "base_uri": "https://localhost:8080/",
          "height": 136
        },
        "outputId": "7d256781-4427-4b49-bf9e-1c57daa4af17"
      },
      "source": [
        "# Make sure it turned into a matrix correctly\n",
        "\n",
        "X"
      ],
      "execution_count": 47,
      "outputs": [
        {
          "output_type": "execute_result",
          "data": {
            "text/plain": [
              "matrix([[0, 0, 1, ..., 0, 0, 1],\n",
              "        [0, 0, 1, ..., 0, 0, 1],\n",
              "        [0, 0, 1, ..., 0, 0, 1],\n",
              "        ...,\n",
              "        [0, 0, 1, ..., 0, 0, 0],\n",
              "        [0, 0, 1, ..., 0, 0, 1],\n",
              "        [1, 1, 1, ..., 0, 0, 0]])"
            ]
          },
          "metadata": {
            "tags": []
          },
          "execution_count": 47
        }
      ]
    },
    {
      "cell_type": "code",
      "metadata": {
        "id": "Dg6s40E9OqBw",
        "colab_type": "code",
        "colab": {}
      },
      "source": [
        "# Create label encoder for y\n",
        "\n",
        "# Label encoder turns y into a numeric representation of the data\n",
        "\n",
        "le = preprocessing.LabelEncoder()\n",
        "y = le.fit_transform(y)"
      ],
      "execution_count": 48,
      "outputs": []
    },
    {
      "cell_type": "code",
      "metadata": {
        "id": "s5IVZ2eaPWL6",
        "colab_type": "code",
        "colab": {
          "base_uri": "https://localhost:8080/",
          "height": 34
        },
        "outputId": "7129c866-8cde-44fc-8325-fc98403cc118"
      },
      "source": [
        "# Check y is an array\n",
        "\n",
        "y"
      ],
      "execution_count": 49,
      "outputs": [
        {
          "output_type": "execute_result",
          "data": {
            "text/plain": [
              "array([  6,  45,  85, ..., 947, 945, 946])"
            ]
          },
          "metadata": {
            "tags": []
          },
          "execution_count": 49
        }
      ]
    },
    {
      "cell_type": "code",
      "metadata": {
        "id": "rJ4gtHmjOqKY",
        "colab_type": "code",
        "colab": {
          "base_uri": "https://localhost:8080/",
          "height": 34
        },
        "outputId": "de8ccd7e-67c9-48bb-824f-72b5dd4ce8aa"
      },
      "source": [
        "# Check X shape\n",
        "\n",
        "X.shape"
      ],
      "execution_count": 50,
      "outputs": [
        {
          "output_type": "execute_result",
          "data": {
            "text/plain": [
              "(1044, 43)"
            ]
          },
          "metadata": {
            "tags": []
          },
          "execution_count": 50
        }
      ]
    },
    {
      "cell_type": "code",
      "metadata": {
        "id": "kjhK-eAoOrj_",
        "colab_type": "code",
        "colab": {
          "base_uri": "https://localhost:8080/",
          "height": 34
        },
        "outputId": "bf828164-f6eb-4ada-9379-e1423281ab35"
      },
      "source": [
        "# Check y shape\n",
        "\n",
        "y.shape"
      ],
      "execution_count": 51,
      "outputs": [
        {
          "output_type": "execute_result",
          "data": {
            "text/plain": [
              "(1044,)"
            ]
          },
          "metadata": {
            "tags": []
          },
          "execution_count": 51
        }
      ]
    },
    {
      "cell_type": "code",
      "metadata": {
        "id": "DK3De_CSOrsq",
        "colab_type": "code",
        "colab": {}
      },
      "source": [
        "# Create Neural Network for baseline model\n",
        "\n",
        "# Customized optimizer\n",
        "\n",
        "# AdamamsGrad is using a super low learning_rate which means the changes between epochs will be smaller\n",
        "\n",
        "AdamamsGrad = tf.keras.optimizers.Adam(\n",
        "    learning_rate=0.0001,\n",
        "    amsgrad=False,\n",
        ")"
      ],
      "execution_count": 52,
      "outputs": []
    },
    {
      "cell_type": "code",
      "metadata": {
        "id": "YcCaAu4POr35",
        "colab_type": "code",
        "colab": {
          "base_uri": "https://localhost:8080/",
          "height": 289
        },
        "outputId": "fa683562-1300-447e-ac9c-b0f008e14520"
      },
      "source": [
        "# Instantiating Sequential model type and create model structure\n",
        "\n",
        "\n",
        "model = Sequential()\n",
        "\n",
        "model.add(Input(38))\n",
        "model.add(Dense(64, activation='relu'))\n",
        "model.add(Dense(128, activation='relu'))\n",
        "model.add(Dense(256, activation='relu'))\n",
        "model.add(Dense(2350, activation='softmax'))\n",
        "\n",
        "model.compile(loss='sparse_categorical_crossentropy',\n",
        "              optimizer=AdamamsGrad, \n",
        "              metrics=['accuracy'])\n",
        "\n",
        "model.summary()"
      ],
      "execution_count": 53,
      "outputs": [
        {
          "output_type": "stream",
          "text": [
            "Model: \"sequential\"\n",
            "_________________________________________________________________\n",
            "Layer (type)                 Output Shape              Param #   \n",
            "=================================================================\n",
            "dense (Dense)                (None, 64)                2496      \n",
            "_________________________________________________________________\n",
            "dense_1 (Dense)              (None, 128)               8320      \n",
            "_________________________________________________________________\n",
            "dense_2 (Dense)              (None, 256)               33024     \n",
            "_________________________________________________________________\n",
            "dense_3 (Dense)              (None, 2350)              603950    \n",
            "=================================================================\n",
            "Total params: 647,790\n",
            "Trainable params: 647,790\n",
            "Non-trainable params: 0\n",
            "_________________________________________________________________\n"
          ],
          "name": "stdout"
        }
      ]
    },
    {
      "cell_type": "code",
      "metadata": {
        "id": "2MRP0MktUZnp",
        "colab_type": "code",
        "colab": {}
      },
      "source": [
        "# Fit model and get baseline accuracy\n",
        "\n",
        "#model.fit(X,y, epochs=1000)\n",
        "\n",
        "#  0s 8ms/step - loss: 2.0142 - accuracy: 0.3505"
      ],
      "execution_count": 54,
      "outputs": []
    },
    {
      "cell_type": "markdown",
      "metadata": {
        "id": "cuTgNF0Q1OWo",
        "colab_type": "text"
      },
      "source": [
        "## Machine Learning Recommendation Model - Nearest Neighbors"
      ]
    },
    {
      "cell_type": "code",
      "metadata": {
        "id": "gIYSiDHG1Xnw",
        "colab_type": "code",
        "colab": {}
      },
      "source": [
        "# Imports\n",
        "\n",
        "import pandas as pd\n",
        "import re\n",
        "import string\n",
        "import matplotlib.pyplot as plt\n",
        "import numpy as np\n",
        "import spacy\n",
        "from sklearn.feature_extraction.text import CountVectorizer, TfidfVectorizer\n",
        "from sklearn.neighbors import NearestNeighbors"
      ],
      "execution_count": 55,
      "outputs": []
    },
    {
      "cell_type": "code",
      "metadata": {
        "id": "TkmN6ZHwzShj",
        "colab_type": "code",
        "colab": {
          "base_uri": "https://localhost:8080/",
          "height": 496
        },
        "outputId": "9cdacc49-794b-4dcb-9c6c-16925877d988"
      },
      "source": [
        "leafly.head()"
      ],
      "execution_count": 56,
      "outputs": [
        {
          "output_type": "execute_result",
          "data": {
            "text/html": [
              "<div>\n",
              "<style scoped>\n",
              "    .dataframe tbody tr th:only-of-type {\n",
              "        vertical-align: middle;\n",
              "    }\n",
              "\n",
              "    .dataframe tbody tr th {\n",
              "        vertical-align: top;\n",
              "    }\n",
              "\n",
              "    .dataframe thead th {\n",
              "        text-align: right;\n",
              "    }\n",
              "</style>\n",
              "<table border=\"1\" class=\"dataframe\">\n",
              "  <thead>\n",
              "    <tr style=\"text-align: right;\">\n",
              "      <th></th>\n",
              "      <th>strain</th>\n",
              "      <th>aka</th>\n",
              "      <th>type</th>\n",
              "      <th>rating</th>\n",
              "      <th>num_reviews</th>\n",
              "      <th>num_effects_reports</th>\n",
              "      <th>feeling_1</th>\n",
              "      <th>feeling_1_pct</th>\n",
              "      <th>feeling_2</th>\n",
              "      <th>feeling_2_pct</th>\n",
              "      <th>feeling_3</th>\n",
              "      <th>feeling_3_pct</th>\n",
              "      <th>feeling_4</th>\n",
              "      <th>feeling_4_pct</th>\n",
              "      <th>feeling_5</th>\n",
              "      <th>feeling_5_pct</th>\n",
              "      <th>helps_1</th>\n",
              "      <th>helps_1_pct</th>\n",
              "      <th>helps_2</th>\n",
              "      <th>helps_2_pct</th>\n",
              "      <th>helps_3</th>\n",
              "      <th>helps_3_pct</th>\n",
              "      <th>helps_4</th>\n",
              "      <th>helps_4_pct</th>\n",
              "      <th>helps_5</th>\n",
              "      <th>helps_5_pct</th>\n",
              "      <th>negative_1</th>\n",
              "      <th>negative_1_pct</th>\n",
              "      <th>negative_2</th>\n",
              "      <th>negative_2_pct</th>\n",
              "      <th>negative_3</th>\n",
              "      <th>negative_3_pct</th>\n",
              "      <th>negative_4</th>\n",
              "      <th>negative_4_pct</th>\n",
              "      <th>negative_5</th>\n",
              "      <th>negative_5_pct</th>\n",
              "      <th>description</th>\n",
              "      <th>feelings</th>\n",
              "      <th>helps</th>\n",
              "      <th>feelings_helps</th>\n",
              "    </tr>\n",
              "  </thead>\n",
              "  <tbody>\n",
              "    <tr>\n",
              "      <th>0</th>\n",
              "      <td>707</td>\n",
              "      <td>707 Headband</td>\n",
              "      <td>Hybrid</td>\n",
              "      <td>4.3</td>\n",
              "      <td>404.0</td>\n",
              "      <td>290.0</td>\n",
              "      <td>Happy</td>\n",
              "      <td>0.50</td>\n",
              "      <td>Euphoric</td>\n",
              "      <td>0.48</td>\n",
              "      <td>Creative</td>\n",
              "      <td>0.44</td>\n",
              "      <td>Relaxed</td>\n",
              "      <td>0.43</td>\n",
              "      <td>Uplifted</td>\n",
              "      <td>0.43</td>\n",
              "      <td>Stress</td>\n",
              "      <td>0.44</td>\n",
              "      <td>Pain</td>\n",
              "      <td>0.36</td>\n",
              "      <td>Anxiety</td>\n",
              "      <td>0.33</td>\n",
              "      <td>Depression</td>\n",
              "      <td>0.30</td>\n",
              "      <td>Nausea</td>\n",
              "      <td>0.18</td>\n",
              "      <td>Dry mouth</td>\n",
              "      <td>0.33</td>\n",
              "      <td>Dry eyes</td>\n",
              "      <td>0.17</td>\n",
              "      <td>Dizzy</td>\n",
              "      <td>0.07</td>\n",
              "      <td>Headache</td>\n",
              "      <td>0.07</td>\n",
              "      <td>Paranoid</td>\n",
              "      <td>0.07</td>\n",
              "      <td>This strain emerged from the Humboldt County, ...</td>\n",
              "      <td>Happy,Euphoric,Creative,Relaxed,Uplifted</td>\n",
              "      <td>Stress,Pain,Anxiety,Depression,Nausea</td>\n",
              "      <td>Happy,Euphoric,Creative,Relaxed,Uplifted,Stres...</td>\n",
              "    </tr>\n",
              "    <tr>\n",
              "      <th>5</th>\n",
              "      <td>Allen Wrench</td>\n",
              "      <td>unknown</td>\n",
              "      <td>Sativa</td>\n",
              "      <td>4.3</td>\n",
              "      <td>183.0</td>\n",
              "      <td>134.0</td>\n",
              "      <td>Happy</td>\n",
              "      <td>0.61</td>\n",
              "      <td>Energetic</td>\n",
              "      <td>0.53</td>\n",
              "      <td>Uplifted</td>\n",
              "      <td>0.52</td>\n",
              "      <td>Creative</td>\n",
              "      <td>0.52</td>\n",
              "      <td>Focused</td>\n",
              "      <td>0.49</td>\n",
              "      <td>Stress</td>\n",
              "      <td>0.32</td>\n",
              "      <td>Depression</td>\n",
              "      <td>0.29</td>\n",
              "      <td>Anxiety</td>\n",
              "      <td>0.20</td>\n",
              "      <td>Pain</td>\n",
              "      <td>0.17</td>\n",
              "      <td>Fatigue</td>\n",
              "      <td>0.16</td>\n",
              "      <td>Dry mouth</td>\n",
              "      <td>0.29</td>\n",
              "      <td>Dry eyes</td>\n",
              "      <td>0.10</td>\n",
              "      <td>Anxious</td>\n",
              "      <td>0.05</td>\n",
              "      <td>Paranoid</td>\n",
              "      <td>0.05</td>\n",
              "      <td>Dizzy</td>\n",
              "      <td>0.05</td>\n",
              "      <td>A popular strain for sativa-lovers, Allen Wren...</td>\n",
              "      <td>Happy,Energetic,Uplifted,Creative,Focused</td>\n",
              "      <td>Stress,Depression,Anxiety,Pain,Fatigue</td>\n",
              "      <td>Happy,Energetic,Uplifted,Creative,Focused,Stre...</td>\n",
              "    </tr>\n",
              "    <tr>\n",
              "      <th>7</th>\n",
              "      <td>Big Wreck</td>\n",
              "      <td>unknown</td>\n",
              "      <td>Indica</td>\n",
              "      <td>4.2</td>\n",
              "      <td>58.0</td>\n",
              "      <td>45.0</td>\n",
              "      <td>Euphoric</td>\n",
              "      <td>0.60</td>\n",
              "      <td>Relaxed</td>\n",
              "      <td>0.55</td>\n",
              "      <td>Happy</td>\n",
              "      <td>0.44</td>\n",
              "      <td>Uplifted</td>\n",
              "      <td>0.40</td>\n",
              "      <td>Creative</td>\n",
              "      <td>0.35</td>\n",
              "      <td>Pain</td>\n",
              "      <td>0.35</td>\n",
              "      <td>Stress</td>\n",
              "      <td>0.35</td>\n",
              "      <td>Insomnia</td>\n",
              "      <td>0.26</td>\n",
              "      <td>Anxiety</td>\n",
              "      <td>0.24</td>\n",
              "      <td>Migraines</td>\n",
              "      <td>0.24</td>\n",
              "      <td>Dry mouth</td>\n",
              "      <td>0.35</td>\n",
              "      <td>Dry eyes</td>\n",
              "      <td>0.13</td>\n",
              "      <td>Anxious</td>\n",
              "      <td>0.04</td>\n",
              "      <td>Dizzy</td>\n",
              "      <td>0.04</td>\n",
              "      <td>Headache</td>\n",
              "      <td>0.02</td>\n",
              "      <td>Big Wreck is the ndica-dominant cross of Big B...</td>\n",
              "      <td>Euphoric,Relaxed,Happy,Uplifted,Creative</td>\n",
              "      <td>Pain,Stress,Insomnia,Anxiety,Migraines</td>\n",
              "      <td>Euphoric,Relaxed,Happy,Uplifted,Creative,Pain,...</td>\n",
              "    </tr>\n",
              "    <tr>\n",
              "      <th>9</th>\n",
              "      <td>Blueberry Yum Yum</td>\n",
              "      <td>unknown</td>\n",
              "      <td>Hybrid</td>\n",
              "      <td>4.6</td>\n",
              "      <td>121.0</td>\n",
              "      <td>78.0</td>\n",
              "      <td>Happy</td>\n",
              "      <td>0.76</td>\n",
              "      <td>Relaxed</td>\n",
              "      <td>0.65</td>\n",
              "      <td>Uplifted</td>\n",
              "      <td>0.61</td>\n",
              "      <td>Euphoric</td>\n",
              "      <td>0.60</td>\n",
              "      <td>Hungry</td>\n",
              "      <td>0.35</td>\n",
              "      <td>Stress</td>\n",
              "      <td>0.47</td>\n",
              "      <td>Depression</td>\n",
              "      <td>0.34</td>\n",
              "      <td>Anxiety</td>\n",
              "      <td>0.34</td>\n",
              "      <td>Pain</td>\n",
              "      <td>0.32</td>\n",
              "      <td>Insomnia</td>\n",
              "      <td>0.26</td>\n",
              "      <td>Dry mouth</td>\n",
              "      <td>0.28</td>\n",
              "      <td>Dry eyes</td>\n",
              "      <td>0.10</td>\n",
              "      <td>Dizzy</td>\n",
              "      <td>0.05</td>\n",
              "      <td>Paranoid</td>\n",
              "      <td>0.03</td>\n",
              "      <td>Anxious</td>\n",
              "      <td>0.01</td>\n",
              "      <td>Blueberry Yum Yum is a hybrid strain whose pop...</td>\n",
              "      <td>Happy,Relaxed,Uplifted,Euphoric,Hungry</td>\n",
              "      <td>Stress,Depression,Anxiety,Pain,Insomnia</td>\n",
              "      <td>Happy,Relaxed,Uplifted,Euphoric,Hungry,Stress,...</td>\n",
              "    </tr>\n",
              "    <tr>\n",
              "      <th>11</th>\n",
              "      <td>Blue Cheese</td>\n",
              "      <td>unknown</td>\n",
              "      <td>Indica</td>\n",
              "      <td>4.2</td>\n",
              "      <td>2618.0</td>\n",
              "      <td>1852.0</td>\n",
              "      <td>Relaxed</td>\n",
              "      <td>0.62</td>\n",
              "      <td>Happy</td>\n",
              "      <td>0.55</td>\n",
              "      <td>Euphoric</td>\n",
              "      <td>0.51</td>\n",
              "      <td>Sleepy</td>\n",
              "      <td>0.38</td>\n",
              "      <td>Uplifted</td>\n",
              "      <td>0.35</td>\n",
              "      <td>Stress</td>\n",
              "      <td>0.40</td>\n",
              "      <td>Pain</td>\n",
              "      <td>0.31</td>\n",
              "      <td>Anxiety</td>\n",
              "      <td>0.30</td>\n",
              "      <td>Insomnia</td>\n",
              "      <td>0.24</td>\n",
              "      <td>Depression</td>\n",
              "      <td>0.24</td>\n",
              "      <td>Dry mouth</td>\n",
              "      <td>0.36</td>\n",
              "      <td>Dry eyes</td>\n",
              "      <td>0.21</td>\n",
              "      <td>Dizzy</td>\n",
              "      <td>0.08</td>\n",
              "      <td>Paranoid</td>\n",
              "      <td>0.05</td>\n",
              "      <td>Headache</td>\n",
              "      <td>0.04</td>\n",
              "      <td>Blue Cheese is an indica cross created by cros...</td>\n",
              "      <td>Relaxed,Happy,Euphoric,Sleepy,Uplifted</td>\n",
              "      <td>Stress,Pain,Anxiety,Insomnia,Depression</td>\n",
              "      <td>Relaxed,Happy,Euphoric,Sleepy,Uplifted,Stress,...</td>\n",
              "    </tr>\n",
              "  </tbody>\n",
              "</table>\n",
              "</div>"
            ],
            "text/plain": [
              "               strain  ...                                     feelings_helps\n",
              "0                 707  ...  Happy,Euphoric,Creative,Relaxed,Uplifted,Stres...\n",
              "5        Allen Wrench  ...  Happy,Energetic,Uplifted,Creative,Focused,Stre...\n",
              "7           Big Wreck  ...  Euphoric,Relaxed,Happy,Uplifted,Creative,Pain,...\n",
              "9   Blueberry Yum Yum  ...  Happy,Relaxed,Uplifted,Euphoric,Hungry,Stress,...\n",
              "11        Blue Cheese  ...  Relaxed,Happy,Euphoric,Sleepy,Uplifted,Stress,...\n",
              "\n",
              "[5 rows x 40 columns]"
            ]
          },
          "metadata": {
            "tags": []
          },
          "execution_count": 56
        }
      ]
    },
    {
      "cell_type": "code",
      "metadata": {
        "id": "uZJDJwGJzSpK",
        "colab_type": "code",
        "colab": {}
      },
      "source": [
        "# Remove commas and add spaces\n",
        "\n",
        "leafly['feelings'] = leafly['feelings'].str.replace(',', ' ')\n",
        "leafly['helps']= leafly['helps'].str.replace(',',' ')"
      ],
      "execution_count": 57,
      "outputs": []
    },
    {
      "cell_type": "code",
      "metadata": {
        "id": "2CKPhbmKzSxe",
        "colab_type": "code",
        "colab": {}
      },
      "source": [
        "# Combine all text columns into one\n",
        "\n",
        "leafly['feelings_helps_description'] = leafly[\"feelings\"] + ' ' + leafly[\"helps\"] + ' ' + leafly['description']"
      ],
      "execution_count": 58,
      "outputs": []
    },
    {
      "cell_type": "code",
      "metadata": {
        "id": "XFf3eouszS5S",
        "colab_type": "code",
        "colab": {
          "base_uri": "https://localhost:8080/",
          "height": 564
        },
        "outputId": "2db222f4-2e44-4aed-99b2-7bd6616168d9"
      },
      "source": [
        "# Verify new column\n",
        "\n",
        "leafly.head()"
      ],
      "execution_count": 59,
      "outputs": [
        {
          "output_type": "execute_result",
          "data": {
            "text/html": [
              "<div>\n",
              "<style scoped>\n",
              "    .dataframe tbody tr th:only-of-type {\n",
              "        vertical-align: middle;\n",
              "    }\n",
              "\n",
              "    .dataframe tbody tr th {\n",
              "        vertical-align: top;\n",
              "    }\n",
              "\n",
              "    .dataframe thead th {\n",
              "        text-align: right;\n",
              "    }\n",
              "</style>\n",
              "<table border=\"1\" class=\"dataframe\">\n",
              "  <thead>\n",
              "    <tr style=\"text-align: right;\">\n",
              "      <th></th>\n",
              "      <th>strain</th>\n",
              "      <th>aka</th>\n",
              "      <th>type</th>\n",
              "      <th>rating</th>\n",
              "      <th>num_reviews</th>\n",
              "      <th>num_effects_reports</th>\n",
              "      <th>feeling_1</th>\n",
              "      <th>feeling_1_pct</th>\n",
              "      <th>feeling_2</th>\n",
              "      <th>feeling_2_pct</th>\n",
              "      <th>feeling_3</th>\n",
              "      <th>feeling_3_pct</th>\n",
              "      <th>feeling_4</th>\n",
              "      <th>feeling_4_pct</th>\n",
              "      <th>feeling_5</th>\n",
              "      <th>feeling_5_pct</th>\n",
              "      <th>helps_1</th>\n",
              "      <th>helps_1_pct</th>\n",
              "      <th>helps_2</th>\n",
              "      <th>helps_2_pct</th>\n",
              "      <th>helps_3</th>\n",
              "      <th>helps_3_pct</th>\n",
              "      <th>helps_4</th>\n",
              "      <th>helps_4_pct</th>\n",
              "      <th>helps_5</th>\n",
              "      <th>helps_5_pct</th>\n",
              "      <th>negative_1</th>\n",
              "      <th>negative_1_pct</th>\n",
              "      <th>negative_2</th>\n",
              "      <th>negative_2_pct</th>\n",
              "      <th>negative_3</th>\n",
              "      <th>negative_3_pct</th>\n",
              "      <th>negative_4</th>\n",
              "      <th>negative_4_pct</th>\n",
              "      <th>negative_5</th>\n",
              "      <th>negative_5_pct</th>\n",
              "      <th>description</th>\n",
              "      <th>feelings</th>\n",
              "      <th>helps</th>\n",
              "      <th>feelings_helps</th>\n",
              "      <th>feelings_helps_description</th>\n",
              "    </tr>\n",
              "  </thead>\n",
              "  <tbody>\n",
              "    <tr>\n",
              "      <th>0</th>\n",
              "      <td>707</td>\n",
              "      <td>707 Headband</td>\n",
              "      <td>Hybrid</td>\n",
              "      <td>4.3</td>\n",
              "      <td>404.0</td>\n",
              "      <td>290.0</td>\n",
              "      <td>Happy</td>\n",
              "      <td>0.50</td>\n",
              "      <td>Euphoric</td>\n",
              "      <td>0.48</td>\n",
              "      <td>Creative</td>\n",
              "      <td>0.44</td>\n",
              "      <td>Relaxed</td>\n",
              "      <td>0.43</td>\n",
              "      <td>Uplifted</td>\n",
              "      <td>0.43</td>\n",
              "      <td>Stress</td>\n",
              "      <td>0.44</td>\n",
              "      <td>Pain</td>\n",
              "      <td>0.36</td>\n",
              "      <td>Anxiety</td>\n",
              "      <td>0.33</td>\n",
              "      <td>Depression</td>\n",
              "      <td>0.30</td>\n",
              "      <td>Nausea</td>\n",
              "      <td>0.18</td>\n",
              "      <td>Dry mouth</td>\n",
              "      <td>0.33</td>\n",
              "      <td>Dry eyes</td>\n",
              "      <td>0.17</td>\n",
              "      <td>Dizzy</td>\n",
              "      <td>0.07</td>\n",
              "      <td>Headache</td>\n",
              "      <td>0.07</td>\n",
              "      <td>Paranoid</td>\n",
              "      <td>0.07</td>\n",
              "      <td>This strain emerged from the Humboldt County, ...</td>\n",
              "      <td>Happy Euphoric Creative Relaxed Uplifted</td>\n",
              "      <td>Stress Pain Anxiety Depression Nausea</td>\n",
              "      <td>Happy,Euphoric,Creative,Relaxed,Uplifted,Stres...</td>\n",
              "      <td>Happy Euphoric Creative Relaxed Uplifted Stres...</td>\n",
              "    </tr>\n",
              "    <tr>\n",
              "      <th>5</th>\n",
              "      <td>Allen Wrench</td>\n",
              "      <td>unknown</td>\n",
              "      <td>Sativa</td>\n",
              "      <td>4.3</td>\n",
              "      <td>183.0</td>\n",
              "      <td>134.0</td>\n",
              "      <td>Happy</td>\n",
              "      <td>0.61</td>\n",
              "      <td>Energetic</td>\n",
              "      <td>0.53</td>\n",
              "      <td>Uplifted</td>\n",
              "      <td>0.52</td>\n",
              "      <td>Creative</td>\n",
              "      <td>0.52</td>\n",
              "      <td>Focused</td>\n",
              "      <td>0.49</td>\n",
              "      <td>Stress</td>\n",
              "      <td>0.32</td>\n",
              "      <td>Depression</td>\n",
              "      <td>0.29</td>\n",
              "      <td>Anxiety</td>\n",
              "      <td>0.20</td>\n",
              "      <td>Pain</td>\n",
              "      <td>0.17</td>\n",
              "      <td>Fatigue</td>\n",
              "      <td>0.16</td>\n",
              "      <td>Dry mouth</td>\n",
              "      <td>0.29</td>\n",
              "      <td>Dry eyes</td>\n",
              "      <td>0.10</td>\n",
              "      <td>Anxious</td>\n",
              "      <td>0.05</td>\n",
              "      <td>Paranoid</td>\n",
              "      <td>0.05</td>\n",
              "      <td>Dizzy</td>\n",
              "      <td>0.05</td>\n",
              "      <td>A popular strain for sativa-lovers, Allen Wren...</td>\n",
              "      <td>Happy Energetic Uplifted Creative Focused</td>\n",
              "      <td>Stress Depression Anxiety Pain Fatigue</td>\n",
              "      <td>Happy,Energetic,Uplifted,Creative,Focused,Stre...</td>\n",
              "      <td>Happy Energetic Uplifted Creative Focused Stre...</td>\n",
              "    </tr>\n",
              "    <tr>\n",
              "      <th>7</th>\n",
              "      <td>Big Wreck</td>\n",
              "      <td>unknown</td>\n",
              "      <td>Indica</td>\n",
              "      <td>4.2</td>\n",
              "      <td>58.0</td>\n",
              "      <td>45.0</td>\n",
              "      <td>Euphoric</td>\n",
              "      <td>0.60</td>\n",
              "      <td>Relaxed</td>\n",
              "      <td>0.55</td>\n",
              "      <td>Happy</td>\n",
              "      <td>0.44</td>\n",
              "      <td>Uplifted</td>\n",
              "      <td>0.40</td>\n",
              "      <td>Creative</td>\n",
              "      <td>0.35</td>\n",
              "      <td>Pain</td>\n",
              "      <td>0.35</td>\n",
              "      <td>Stress</td>\n",
              "      <td>0.35</td>\n",
              "      <td>Insomnia</td>\n",
              "      <td>0.26</td>\n",
              "      <td>Anxiety</td>\n",
              "      <td>0.24</td>\n",
              "      <td>Migraines</td>\n",
              "      <td>0.24</td>\n",
              "      <td>Dry mouth</td>\n",
              "      <td>0.35</td>\n",
              "      <td>Dry eyes</td>\n",
              "      <td>0.13</td>\n",
              "      <td>Anxious</td>\n",
              "      <td>0.04</td>\n",
              "      <td>Dizzy</td>\n",
              "      <td>0.04</td>\n",
              "      <td>Headache</td>\n",
              "      <td>0.02</td>\n",
              "      <td>Big Wreck is the ndica-dominant cross of Big B...</td>\n",
              "      <td>Euphoric Relaxed Happy Uplifted Creative</td>\n",
              "      <td>Pain Stress Insomnia Anxiety Migraines</td>\n",
              "      <td>Euphoric,Relaxed,Happy,Uplifted,Creative,Pain,...</td>\n",
              "      <td>Euphoric Relaxed Happy Uplifted Creative Pain ...</td>\n",
              "    </tr>\n",
              "    <tr>\n",
              "      <th>9</th>\n",
              "      <td>Blueberry Yum Yum</td>\n",
              "      <td>unknown</td>\n",
              "      <td>Hybrid</td>\n",
              "      <td>4.6</td>\n",
              "      <td>121.0</td>\n",
              "      <td>78.0</td>\n",
              "      <td>Happy</td>\n",
              "      <td>0.76</td>\n",
              "      <td>Relaxed</td>\n",
              "      <td>0.65</td>\n",
              "      <td>Uplifted</td>\n",
              "      <td>0.61</td>\n",
              "      <td>Euphoric</td>\n",
              "      <td>0.60</td>\n",
              "      <td>Hungry</td>\n",
              "      <td>0.35</td>\n",
              "      <td>Stress</td>\n",
              "      <td>0.47</td>\n",
              "      <td>Depression</td>\n",
              "      <td>0.34</td>\n",
              "      <td>Anxiety</td>\n",
              "      <td>0.34</td>\n",
              "      <td>Pain</td>\n",
              "      <td>0.32</td>\n",
              "      <td>Insomnia</td>\n",
              "      <td>0.26</td>\n",
              "      <td>Dry mouth</td>\n",
              "      <td>0.28</td>\n",
              "      <td>Dry eyes</td>\n",
              "      <td>0.10</td>\n",
              "      <td>Dizzy</td>\n",
              "      <td>0.05</td>\n",
              "      <td>Paranoid</td>\n",
              "      <td>0.03</td>\n",
              "      <td>Anxious</td>\n",
              "      <td>0.01</td>\n",
              "      <td>Blueberry Yum Yum is a hybrid strain whose pop...</td>\n",
              "      <td>Happy Relaxed Uplifted Euphoric Hungry</td>\n",
              "      <td>Stress Depression Anxiety Pain Insomnia</td>\n",
              "      <td>Happy,Relaxed,Uplifted,Euphoric,Hungry,Stress,...</td>\n",
              "      <td>Happy Relaxed Uplifted Euphoric Hungry Stress ...</td>\n",
              "    </tr>\n",
              "    <tr>\n",
              "      <th>11</th>\n",
              "      <td>Blue Cheese</td>\n",
              "      <td>unknown</td>\n",
              "      <td>Indica</td>\n",
              "      <td>4.2</td>\n",
              "      <td>2618.0</td>\n",
              "      <td>1852.0</td>\n",
              "      <td>Relaxed</td>\n",
              "      <td>0.62</td>\n",
              "      <td>Happy</td>\n",
              "      <td>0.55</td>\n",
              "      <td>Euphoric</td>\n",
              "      <td>0.51</td>\n",
              "      <td>Sleepy</td>\n",
              "      <td>0.38</td>\n",
              "      <td>Uplifted</td>\n",
              "      <td>0.35</td>\n",
              "      <td>Stress</td>\n",
              "      <td>0.40</td>\n",
              "      <td>Pain</td>\n",
              "      <td>0.31</td>\n",
              "      <td>Anxiety</td>\n",
              "      <td>0.30</td>\n",
              "      <td>Insomnia</td>\n",
              "      <td>0.24</td>\n",
              "      <td>Depression</td>\n",
              "      <td>0.24</td>\n",
              "      <td>Dry mouth</td>\n",
              "      <td>0.36</td>\n",
              "      <td>Dry eyes</td>\n",
              "      <td>0.21</td>\n",
              "      <td>Dizzy</td>\n",
              "      <td>0.08</td>\n",
              "      <td>Paranoid</td>\n",
              "      <td>0.05</td>\n",
              "      <td>Headache</td>\n",
              "      <td>0.04</td>\n",
              "      <td>Blue Cheese is an indica cross created by cros...</td>\n",
              "      <td>Relaxed Happy Euphoric Sleepy Uplifted</td>\n",
              "      <td>Stress Pain Anxiety Insomnia Depression</td>\n",
              "      <td>Relaxed,Happy,Euphoric,Sleepy,Uplifted,Stress,...</td>\n",
              "      <td>Relaxed Happy Euphoric Sleepy Uplifted Stress ...</td>\n",
              "    </tr>\n",
              "  </tbody>\n",
              "</table>\n",
              "</div>"
            ],
            "text/plain": [
              "               strain  ...                         feelings_helps_description\n",
              "0                 707  ...  Happy Euphoric Creative Relaxed Uplifted Stres...\n",
              "5        Allen Wrench  ...  Happy Energetic Uplifted Creative Focused Stre...\n",
              "7           Big Wreck  ...  Euphoric Relaxed Happy Uplifted Creative Pain ...\n",
              "9   Blueberry Yum Yum  ...  Happy Relaxed Uplifted Euphoric Hungry Stress ...\n",
              "11        Blue Cheese  ...  Relaxed Happy Euphoric Sleepy Uplifted Stress ...\n",
              "\n",
              "[5 rows x 41 columns]"
            ]
          },
          "metadata": {
            "tags": []
          },
          "execution_count": 59
        }
      ]
    },
    {
      "cell_type": "code",
      "metadata": {
        "id": "vlazs5U30_GO",
        "colab_type": "code",
        "colab": {}
      },
      "source": [
        "# Instantiate Vectorizer \n",
        "\n",
        "tfidf = TfidfVectorizer(stop_words = 'english',ngram_range = (1,2),max_features = 2000)"
      ],
      "execution_count": 60,
      "outputs": []
    },
    {
      "cell_type": "code",
      "metadata": {
        "id": "NEt2lx8g0_Np",
        "colab_type": "code",
        "colab": {}
      },
      "source": [
        "# Instantiate Document-Term Matrix\n",
        "\n",
        "dtm = tfidf.fit_transform(leafly['feelings_helps_description'])\n",
        "dtm = pd.DataFrame(dtm.todense(), columns=tfidf.get_feature_names())"
      ],
      "execution_count": 61,
      "outputs": []
    },
    {
      "cell_type": "code",
      "metadata": {
        "id": "h9mYpevS0_tk",
        "colab_type": "code",
        "colab": {}
      },
      "source": [
        "# Instantiate Nearest Neighbors Model\n",
        "\n",
        "nn = NearestNeighbors(n_neighbors=4, algorithm='kd_tree')"
      ],
      "execution_count": 62,
      "outputs": []
    },
    {
      "cell_type": "code",
      "metadata": {
        "id": "SLjyK4ek0_2C",
        "colab_type": "code",
        "colab": {
          "base_uri": "https://localhost:8080/",
          "height": 68
        },
        "outputId": "edf7d268-a7f4-499f-826a-1cd245167785"
      },
      "source": [
        "# Fit Nearest Neighbors Model\n",
        "\n",
        "nn.fit(dtm)"
      ],
      "execution_count": 63,
      "outputs": [
        {
          "output_type": "execute_result",
          "data": {
            "text/plain": [
              "NearestNeighbors(algorithm='kd_tree', leaf_size=30, metric='minkowski',\n",
              "                 metric_params=None, n_jobs=None, n_neighbors=4, p=2,\n",
              "                 radius=1.0)"
            ]
          },
          "metadata": {
            "tags": []
          },
          "execution_count": 63
        }
      ]
    },
    {
      "cell_type": "code",
      "metadata": {
        "id": "oJqKfyIT2cKB",
        "colab_type": "code",
        "colab": {}
      },
      "source": [
        "import pickle\n",
        "\n",
        "# Dump the trained classifier (nn) with Pickle\n",
        "\n",
        "nn_pickle_filename = 'nn_model.pkl'\n",
        "pickled_model = open(nn_pickle_filename, 'wb')  # Open the file to save as pkl file\n",
        "pickle.dump(nn, pickled_model)\n",
        "pickled_model.close() # Close the pickle instances"
      ],
      "execution_count": 64,
      "outputs": []
    },
    {
      "cell_type": "code",
      "metadata": {
        "id": "tFjld4oX2ioV",
        "colab_type": "code",
        "colab": {
          "base_uri": "https://localhost:8080/",
          "height": 68
        },
        "outputId": "67c4bacc-bf4b-4937-b231-3b7741192484"
      },
      "source": [
        "# Load the saved model\n",
        "\n",
        "model_pkl = open(nn_pickle_filename, 'rb')\n",
        "NN_model = pickle.load(model_pkl)\n",
        "print (\"Loaded model :: \", NN_model)  # print to verify"
      ],
      "execution_count": 65,
      "outputs": [
        {
          "output_type": "stream",
          "text": [
            "Loaded model ::  NearestNeighbors(algorithm='kd_tree', leaf_size=30, metric='minkowski',\n",
            "                 metric_params=None, n_jobs=None, n_neighbors=4, p=2,\n",
            "                 radius=1.0)\n"
          ],
          "name": "stdout"
        }
      ]
    },
    {
      "cell_type": "code",
      "metadata": {
        "id": "w_0jyMcj2w5i",
        "colab_type": "code",
        "colab": {}
      },
      "source": [
        "# Dump the trained classifier (tfidf) with Pickle\n",
        "\n",
        "tfidf_pickle_filename = 'tfidf.pkl'\n",
        "pickled_tfidf = open(tfidf_pickle_filename, 'wb')  # Open the file to save as pkl file\n",
        "pickle.dump(tfidf, pickled_tfidf)\n",
        "pickled_tfidf.close() # Close the pickle instances"
      ],
      "execution_count": 66,
      "outputs": []
    },
    {
      "cell_type": "code",
      "metadata": {
        "id": "g8-nm52j3MXN",
        "colab_type": "code",
        "colab": {
          "base_uri": "https://localhost:8080/",
          "height": 136
        },
        "outputId": "758d1f05-5342-4a26-eaba-2b285beda0b6"
      },
      "source": [
        "# Loading the saved model\n",
        "\n",
        "tfidf_pkl = open(tfidf_pickle_filename , 'rb')\n",
        "tfidf_model = pickle.load(tfidf_pkl)\n",
        "print (\"Loaded model :: \", tfidf_model)  # print to verify"
      ],
      "execution_count": 67,
      "outputs": [
        {
          "output_type": "stream",
          "text": [
            "Loaded model ::  TfidfVectorizer(analyzer='word', binary=False, decode_error='strict',\n",
            "                dtype=<class 'numpy.float64'>, encoding='utf-8',\n",
            "                input='content', lowercase=True, max_df=1.0, max_features=2000,\n",
            "                min_df=1, ngram_range=(1, 2), norm='l2', preprocessor=None,\n",
            "                smooth_idf=True, stop_words='english', strip_accents=None,\n",
            "                sublinear_tf=False, token_pattern='(?u)\\\\b\\\\w\\\\w+\\\\b',\n",
            "                tokenizer=None, use_idf=True, vocabulary=None)\n"
          ],
          "name": "stdout"
        }
      ]
    },
    {
      "cell_type": "code",
      "metadata": {
        "id": "0q78RNlW4aXZ",
        "colab_type": "code",
        "colab": {}
      },
      "source": [
        "# Recommend Function\n",
        "\n",
        "\n",
        "\n",
        "import json\n",
        "\n",
        "\n",
        "try:\n",
        "\n",
        "    def recommend(user_input):\n",
        "        temp_df = NN_model.kneighbors(tfidf_model.transform([user_input]).todense())[1]\n",
        "    \n",
        "\n",
        "    #print(temp_df)\n",
        "    \n",
        "        for i in range(4):\n",
        "            info = leafly.iloc[temp_df[0][i]]['strain']\n",
        "            info_aka = leafly.iloc[temp_df[0][i]]['aka']\n",
        "            info_type = leafly.iloc[temp_df[0][i]]['type']\n",
        "            info_rating = leafly.iloc[temp_df[0][i]]['rating']\n",
        "            info_num_reviews = leafly.iloc[temp_df[0][i]]['num_reviews']\n",
        "            info_effects_reports = leafly.iloc[temp_df[0][i]]['num_effects_reports']\n",
        "            info_feeling_1 = leafly.iloc[temp_df[0][i]]['feeling_1']\n",
        "            info_feeling_1_pct = leafly.iloc[temp_df[0][i]]['feeling_1_pct']\n",
        "            info_feeling_2 = leafly.iloc[temp_df[0][i]]['feeling_2']\n",
        "            info_feeling_2_pct = leafly.iloc[temp_df[0][i]]['feeling_2_pct']\n",
        "            info_feeling_3 = leafly.iloc[temp_df[0][i]]['feeling_3']\n",
        "            info_feeling_3_pct = leafly.iloc[temp_df[0][i]]['feeling_3_pct']\n",
        "            info_feeling_4 = leafly.iloc[temp_df[0][i]]['feeling_4']\n",
        "            info_feeling_4_pct = leafly.iloc[temp_df[0][i]]['feeling_4_pct']\n",
        "            info_feeling_5 = leafly.iloc[temp_df[0][i]]['feeling_5']\n",
        "            info_feeling_5_pct = leafly.iloc[temp_df[0][i]]['feeling_5_pct']\n",
        "            info_helps_1 = leafly.iloc[temp_df[0][i]]['helps_1']\n",
        "            info_helps_1_pct = leafly.iloc[temp_df[0][i]]['helps_1_pct']\n",
        "            info_helps_2 = leafly.iloc[temp_df[0][i]]['helps_2']\n",
        "            info_helps_2_pct = leafly.iloc[temp_df[0][i]]['helps_2_pct']\n",
        "            info_helps_3 = leafly.iloc[temp_df[0][i]]['helps_3']\n",
        "            info_helps_3_pct = leafly.iloc[temp_df[0][i]]['helps_3_pct']\n",
        "            info_helps_4 = leafly.iloc[temp_df[0][i]]['helps_4']\n",
        "            info_helps_4_pct = leafly.iloc[temp_df[0][i]]['helps_4_pct']\n",
        "            info_helps_5 = leafly.iloc[temp_df[0][i]]['helps_5']\n",
        "            info_helps_5_pct = leafly.iloc[temp_df[0][i]]['helps_5_pct']\n",
        "            info_negative_1 = leafly.iloc[temp_df[0][i]]['negative_1']\n",
        "            info_negative_1_pct = leafly.iloc[temp_df[0][i]]['negative_1_pct']\n",
        "            info_negative_2 = leafly.iloc[temp_df[0][i]]['negative_2']\n",
        "            info_negative_2_pct = leafly.iloc[temp_df[0][i]]['negative_2_pct']\n",
        "            info_negative_3 = leafly.iloc[temp_df[0][i]]['negative_3']\n",
        "            info_negative_3_pct = leafly.iloc[temp_df[0][i]]['negative_3_pct']\n",
        "            info_negative_4 = leafly.iloc[temp_df[0][i]]['negative_4']\n",
        "            info_negative_4_pct = leafly.iloc[temp_df[0][i]]['negative_4_pct']\n",
        "            info_negative_5 = leafly.iloc[temp_df[0][i]]['negative_5']\n",
        "            info_negative_5_pct = leafly.iloc[temp_df[0][i]]['negative_5_pct']\n",
        "            info_feelings = leafly.iloc[temp_df[0][i]]['feelings']\n",
        "            info_helps = leafly.iloc[temp_df[0][i]]['helps']\n",
        "            info_description = leafly.iloc[temp_df[0][i]]['description']\n",
        "            info_feelings_helps = leafly.iloc[temp_df[0][i]]['feelings_helps']\n",
        "            info_feelings_helps_description = leafly.iloc[temp_df[0][i]]['feelings_helps_description']\n",
        "            \n",
        "            print(json.dumps(info))\n",
        "            print(json.dumps(info_aka))\n",
        "            print(json.dumps(info_type))\n",
        "            print(json.dumps(info_rating))\n",
        "            print(json.dumps(info_num_reviews))\n",
        "            print(json.dumps(info_feeling_1))\n",
        "            print(json.dumps(info_feeling_1_pct)) \n",
        "            print(json.dumps(info_feeling_2))\n",
        "            print(json.dumps(info_feeling_2_pct)) \n",
        "            print(json.dumps(info_feeling_3))\n",
        "            print(json.dumps(info_feeling_3_pct)) \n",
        "            print(json.dumps(info_feeling_4))\n",
        "            print(json.dumps(info_feeling_4_pct)) \n",
        "            print(json.dumps(info_feeling_5))\n",
        "            print(json.dumps(info_feeling_5_pct)) \n",
        "            print(json.dumps(info_helps_1))\n",
        "            print(json.dumps(info_helps_1_pct)) \n",
        "            print(json.dumps(info_helps_2))\n",
        "            print(json.dumps(info_helps_2_pct)) \n",
        "            print(json.dumps(info_helps_3))\n",
        "            print(json.dumps(info_helps_3_pct)) \n",
        "            print(json.dumps(info_helps_4))\n",
        "            print(json.dumps(info_helps_4_pct)) \n",
        "            print(json.dumps(info_helps_5))\n",
        "            print(json.dumps(info_helps_5_pct)) \n",
        "            print(json.dumps(info_negative_1))\n",
        "            print(json.dumps(info_negative_1_pct))\n",
        "            print(json.dumps(info_negative_2))\n",
        "            print(json.dumps(info_negative_2_pct))\n",
        "            print(json.dumps(info_negative_3))\n",
        "            print(json.dumps(info_negative_3_pct))\n",
        "            print(json.dumps(info_negative_4))\n",
        "            print(json.dumps(info_negative_4_pct))\n",
        "            print(json.dumps(info_negative_5))\n",
        "            print(json.dumps(info_negative_5_pct))\n",
        "            print(json.dumps(info_feelings))\n",
        "            print(json.dumps(info_helps))\n",
        "            print(json.dumps(info_description))\n",
        "            print(json.dumps(info_feelings_helps))\n",
        "            print(json.dumps(info_feelings_helps_description))\n",
        "            \n",
        "            # This is for the data engineers, the return does not work in jupyter lab.  \n",
        "            # Should work in vsCode, or elsewhere for production.\n",
        "    \n",
        "            #return json.dumps(info)\n",
        "            #return json.dumps(info_aka)\n",
        "            #return json.dumps(info_type)\n",
        "            #return json.dumps(info_rating)\n",
        "            #return json.dumps(info_num_reviews)\n",
        "            #return json.dumps(info_feeling_1)\n",
        "            #return json.dumps(info_feeling_1_pct)\n",
        "            #return json.dumps(info_feeling_2)\n",
        "            #return json.dumps(info_feeling_2_pct)\n",
        "            #return json.dumps(info_feeling_3)\n",
        "            #return json.dumps(info_feeling_3_pct)\n",
        "            #return json.dumps(info_feeling_4)\n",
        "            #return json.dumps(info_feeling_4_pct)\n",
        "            #return json.dumps(info_feeling_5)\n",
        "            #return json.dumps(info_feeling_5_pct)\n",
        "            #return json.dumps(info_helps_1)\n",
        "            #return json.dumps(info_helps_1_pct)\n",
        "            #return json.dumps(info_helps_2)\n",
        "            #return json.dumps(info_helps_2_pct)\n",
        "            #return json.dumps(info_helps_3)\n",
        "            #return json.dumps(info_helps_3_pct)\n",
        "            #return json.dumps(info_helps_4)\n",
        "            #return json.dumps(info_helps_4_pct)\n",
        "            #return json.dumps(info_helps_5)\n",
        "            #return json.dumps(info_helps_5_pct))\n",
        "            #return json.dumps(info_negative_1)\n",
        "            #return json.dumps(info_negative_1_pct)\n",
        "            #return json.dumps(info_negative_2)\n",
        "            #return json.dumps(info_negative_2_pct)\n",
        "            #return json.dumps(info_negative_3)\n",
        "            #return json.dumps(info_negative_3_pct)\n",
        "            #return json.dumps(info_negative_4)\n",
        "            #return json.dumps(info_negative_4_pct)\n",
        "            #return json.dumps(info_negative_5)\n",
        "            #return json.dumps(info_negative_5_pct)\n",
        "            #return json.dumps(info_feelings)\n",
        "            #return json.dumps(info_helps)\n",
        "            #return json.dumps(info_description)\n",
        "            #return json.dumps(info_feelings_helps)\n",
        "            #return json.dumps(info_feelings_helps_description)\n",
        "    \n",
        "\n",
        "        # All column names\n",
        "\n",
        "        #strain\taka\ttype\trating\tnum_reviews\tnum_effects_reports\tfeeling_1\tfeeling_1_pct\tfeeling_2\tfeeling_2_pct\tfeeling_3\tfeeling_3_pct\tfeeling_4\tfeeling_4_pct\tfeeling_5\tfeeling_5_pct\thelps_1\thelps_1_pct\thelps_2\thelps_2_pct\thelps_3\thelps_3_pct\thelps_4\thelps_4_pct\thelps_5\thelps_5_pct\tnegative_1\tnegative_1_pct\tnegative_2\tnegative_2_pct\tnegative_3\tnegative_3_pct\tnegative_4\tnegative_4_pct\tnegative_5\tnegative_5_pct\tdescription\tfeelings\thelps\tfeelings_helps\tfeelings_helps_description\n",
        "\n",
        "except Exception:\n",
        "    pass"
      ],
      "execution_count": 84,
      "outputs": []
    },
    {
      "cell_type": "code",
      "metadata": {
        "id": "cQEwULSV4ahL",
        "colab_type": "code",
        "colab": {
          "base_uri": "https://localhost:8080/",
          "height": 1000
        },
        "outputId": "414c2f7e-c8ea-470b-db75-b7551609f8e2"
      },
      "source": [
        "recommend('Relaxed Happy Euphoric Uplifted Hungry Stress Pain Anxiety Depression')"
      ],
      "execution_count": 85,
      "outputs": [
        {
          "output_type": "stream",
          "text": [
            "\"Cherry Cola\"\n",
            "\"Cherry Kola\"\n",
            "\"Indica\"\n",
            "4.7\n",
            "61.0\n",
            "\"Relaxed\"\n",
            "0.76\n",
            "\"Euphoric\"\n",
            "0.62\n",
            "\"Happy\"\n",
            "0.62\n",
            "\"Uplifted\"\n",
            "0.53\n",
            "\"Hungry\"\n",
            "0.37\n",
            "\"Stress\"\n",
            "0.51\n",
            "\"Pain\"\n",
            "0.39\n",
            "\"Anxiety\"\n",
            "0.39\n",
            "\"Depression\"\n",
            "0.34\n",
            "\"Lack of appetite\"\n",
            "0.32\n",
            "\"Dry mouth\"\n",
            "0.23\n",
            "\"Dry eyes\"\n",
            "0.13\n",
            "\"Dizzy\"\n",
            "0.06\n",
            "\"Anxious\"\n",
            "0.04\n",
            "\"Paranoid\"\n",
            "0.04\n",
            "\"Relaxed Euphoric Happy Uplifted Hungry\"\n",
            "\"Stress Pain Anxiety Depression Lack of appetite\"\n",
            "\"Cherry Kola is an indica strain that competed in the 2014 L.A. Cannabis Cup.\"\n",
            "\"Relaxed,Euphoric,Happy,Uplifted,Hungry,Stress,Pain,Anxiety,Depression,Lack of appetite\"\n",
            "\"Relaxed Euphoric Happy Uplifted Hungry Stress Pain Anxiety Depression Lack of appetite Cherry Kola is an indica strain that competed in the 2014 L.A. Cannabis Cup.\"\n",
            "\"Pure OG\"\n",
            "\"unknown\"\n",
            "\"Indica\"\n",
            "4.1\n",
            "78.0\n",
            "\"Relaxed\"\n",
            "0.61\n",
            "\"Sleepy\"\n",
            "0.52\n",
            "\"Happy\"\n",
            "0.47000000000000003\n",
            "\"Euphoric\"\n",
            "0.38\n",
            "\"Hungry\"\n",
            "0.29\n",
            "\"Stress\"\n",
            "0.42\n",
            "\"Insomnia\"\n",
            "0.4\n",
            "\"Pain\"\n",
            "0.4\n",
            "\"Anxiety\"\n",
            "0.31\n",
            "\"Nausea\"\n",
            "0.21\n",
            "\"Dry mouth\"\n",
            "0.38\n",
            "\"Dry eyes\"\n",
            "0.26\n",
            "\"Paranoid\"\n",
            "0.12\n",
            "\"Dizzy\"\n",
            "0.07\n",
            "\"Headache\"\n",
            "0.05\n",
            "\"Relaxed Sleepy Happy Euphoric Hungry\"\n",
            "\"Stress Insomnia Pain Anxiety Nausea\"\n",
            "\"\"\n",
            "\"Relaxed,Sleepy,Happy,Euphoric,Hungry,Stress,Insomnia,Pain,Anxiety,Nausea\"\n",
            "\"Relaxed Sleepy Happy Euphoric Hungry Stress Insomnia Pain Anxiety Nausea \"\n",
            "\"Burmese Kush\"\n",
            "\"unknown\"\n",
            "\"Hybrid\"\n",
            "4.1\n",
            "166.0\n",
            "\"Relaxed\"\n",
            "0.59\n",
            "\"Happy\"\n",
            "0.58\n",
            "\"Euphoric\"\n",
            "0.52\n",
            "\"Uplifted\"\n",
            "0.39\n",
            "\"Hungry\"\n",
            "0.28\n",
            "\"Stress\"\n",
            "0.39\n",
            "\"Pain\"\n",
            "0.29\n",
            "\"Anxiety\"\n",
            "0.26\n",
            "\"Depression\"\n",
            "0.25\n",
            "\"Insomnia\"\n",
            "0.22\n",
            "\"Dry mouth\"\n",
            "0.32\n",
            "\"Dry eyes\"\n",
            "0.18\n",
            "\"Headache\"\n",
            "0.05\n",
            "\"Paranoid\"\n",
            "0.05\n",
            "\"Dizzy\"\n",
            "0.03\n",
            "\"Relaxed Happy Euphoric Uplifted Hungry\"\n",
            "\"Stress Pain Anxiety Depression Insomnia\"\n",
            "\"Bred by T.H. Seeds and including\\u00a0the California classic\\u00a0OG Kush, this plant will be dark green and have a piney aroma with a sweet aftertaste and tends to give consumers\\u00a0a calm, mellow outlook.\\u00a0Growth can be slow to start, so Burmese Kush is best for indoor conditions where growth speeds up, with plants flowering in 7-8 weeks. The effects also tend to come on slowly but can be strong and long-lasting once they do.\"\n",
            "\"Relaxed,Happy,Euphoric,Uplifted,Hungry,Stress,Pain,Anxiety,Depression,Insomnia\"\n",
            "\"Relaxed Happy Euphoric Uplifted Hungry Stress Pain Anxiety Depression Insomnia Bred by T.H. Seeds and including\\u00a0the California classic\\u00a0OG Kush, this plant will be dark green and have a piney aroma with a sweet aftertaste and tends to give consumers\\u00a0a calm, mellow outlook.\\u00a0Growth can be slow to start, so Burmese Kush is best for indoor conditions where growth speeds up, with plants flowering in 7-8 weeks. The effects also tend to come on slowly but can be strong and long-lasting once they do.\"\n",
            "\"Hindu Skunk\"\n",
            "\"Dragonite, Skunk Kush, Hindu Kush Skunk\"\n",
            "\"Indica\"\n",
            "4.1\n",
            "107.0\n",
            "\"Euphoric\"\n",
            "0.62\n",
            "\"Relaxed\"\n",
            "0.5\n",
            "\"Happy\"\n",
            "0.48\n",
            "\"Uplifted\"\n",
            "0.39\n",
            "\"Hungry\"\n",
            "0.32\n",
            "\"Stress\"\n",
            "0.59\n",
            "\"Anxiety\"\n",
            "0.45\n",
            "\"Pain\"\n",
            "0.33\n",
            "\"Depression\"\n",
            "0.32\n",
            "\"Insomnia\"\n",
            "0.32\n",
            "\"Dry mouth\"\n",
            "0.49\n",
            "\"Dry eyes\"\n",
            "0.27\n",
            "\"Dizzy\"\n",
            "0.11\n",
            "\"Headache\"\n",
            "0.07\n",
            "\"Paranoid\"\n",
            "0.04\n",
            "\"Euphoric Relaxed Happy Uplifted Hungry\"\n",
            "\"Stress Anxiety Pain Depression Insomnia\"\n",
            "\"Also known as Skunk Kush,\\u00a0Hindu Skunk is a cross of Hindu Kush and Skunk #1.\\u00a0The taste of the smoke is smooth and provides a strong and very mellow high. \\u00a0\"\n",
            "\"Euphoric,Relaxed,Happy,Uplifted,Hungry,Stress,Anxiety,Pain,Depression,Insomnia\"\n",
            "\"Euphoric Relaxed Happy Uplifted Hungry Stress Anxiety Pain Depression Insomnia Also known as Skunk Kush,\\u00a0Hindu Skunk is a cross of Hindu Kush and Skunk #1.\\u00a0The taste of the smoke is smooth and provides a strong and very mellow high. \\u00a0\"\n"
          ],
          "name": "stdout"
        }
      ]
    },
    {
      "cell_type": "code",
      "metadata": {
        "id": "h7NmhrML4ash",
        "colab_type": "code",
        "colab": {}
      },
      "source": [
        ""
      ],
      "execution_count": null,
      "outputs": []
    }
  ]
}