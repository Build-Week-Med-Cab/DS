{
  "nbformat": 4,
  "nbformat_minor": 0,
  "metadata": {
    "colab": {
      "name": "Wrangle_Bline_NN_Pickles.ipynb",
      "provenance": [],
      "collapsed_sections": [
        "dkN8S7i0DNXM"
      ]
    },
    "kernelspec": {
      "name": "python3",
      "display_name": "Python 3"
    }
  },
  "cells": [
    {
      "cell_type": "markdown",
      "metadata": {
        "id": "DHM828Ov9aUn",
        "colab_type": "text"
      },
      "source": [
        "# Quick summary\n",
        "\n",
        "- Kaggle\n",
        "  -  2351 rows, 2264 with \"None\" effect dropped\n",
        "  -  Rating (out of 5)\n",
        "  -  Up to 5 effects (majority have 5)\n",
        "    -  most likely in order, based on what I saw on the website\n",
        "  -  Up to 4 flavors (majority have 3)\n",
        "\n",
        "- Leafly\n",
        "  -  3447 rows, 1254 with NAN effects reports dropped\n",
        "  -  Rating (out of 5)\n",
        "    - includes number of ratings\n",
        "  -  Feelings, helps with, and negative effects\n",
        "    -  top 5 reported results in each category\n",
        "    -  includes number of reports\n",
        "    -  includes percentage of reports for that result\n",
        "    -  5 feelings & helps with for all rows that are not nan\n",
        "  -  No flavors (possibly merge from kaggle?)\n"
      ]
    },
    {
      "cell_type": "code",
      "metadata": {
        "id": "aEn5LADWFkaS",
        "colab_type": "code",
        "colab": {}
      },
      "source": [
        "import pandas as pd"
      ],
      "execution_count": 198,
      "outputs": []
    },
    {
      "cell_type": "code",
      "metadata": {
        "id": "UCOteYvg3M--",
        "colab_type": "code",
        "colab": {
          "base_uri": "https://localhost:8080/",
          "height": 34
        },
        "outputId": "36f0ef63-f960-4058-ca04-998c52104808"
      },
      "source": [
        "kaggle = pd.read_csv('cannabis.csv')\n",
        "leafly = pd.read_json('leafly.json')\n",
        "kaggle.shape, leafly.shape"
      ],
      "execution_count": 199,
      "outputs": [
        {
          "output_type": "execute_result",
          "data": {
            "text/plain": [
              "((2351, 6), (3447, 37))"
            ]
          },
          "metadata": {
            "tags": []
          },
          "execution_count": 199
        }
      ]
    },
    {
      "cell_type": "code",
      "metadata": {
        "id": "G8jELPTJ3boO",
        "colab_type": "code",
        "colab": {
          "base_uri": "https://localhost:8080/",
          "height": 204
        },
        "outputId": "161a0d57-8981-4fa2-8879-f9b70cec933e"
      },
      "source": [
        "kaggle.head()"
      ],
      "execution_count": 200,
      "outputs": [
        {
          "output_type": "execute_result",
          "data": {
            "text/html": [
              "<div>\n",
              "<style scoped>\n",
              "    .dataframe tbody tr th:only-of-type {\n",
              "        vertical-align: middle;\n",
              "    }\n",
              "\n",
              "    .dataframe tbody tr th {\n",
              "        vertical-align: top;\n",
              "    }\n",
              "\n",
              "    .dataframe thead th {\n",
              "        text-align: right;\n",
              "    }\n",
              "</style>\n",
              "<table border=\"1\" class=\"dataframe\">\n",
              "  <thead>\n",
              "    <tr style=\"text-align: right;\">\n",
              "      <th></th>\n",
              "      <th>Strain</th>\n",
              "      <th>Type</th>\n",
              "      <th>Rating</th>\n",
              "      <th>Effects</th>\n",
              "      <th>Flavor</th>\n",
              "      <th>Description</th>\n",
              "    </tr>\n",
              "  </thead>\n",
              "  <tbody>\n",
              "    <tr>\n",
              "      <th>0</th>\n",
              "      <td>100-Og</td>\n",
              "      <td>hybrid</td>\n",
              "      <td>4.0</td>\n",
              "      <td>Creative,Energetic,Tingly,Euphoric,Relaxed</td>\n",
              "      <td>Earthy,Sweet,Citrus</td>\n",
              "      <td>$100 OG is a 50/50 hybrid strain that packs a ...</td>\n",
              "    </tr>\n",
              "    <tr>\n",
              "      <th>1</th>\n",
              "      <td>98-White-Widow</td>\n",
              "      <td>hybrid</td>\n",
              "      <td>4.7</td>\n",
              "      <td>Relaxed,Aroused,Creative,Happy,Energetic</td>\n",
              "      <td>Flowery,Violet,Diesel</td>\n",
              "      <td>The ‘98 Aloha White Widow is an especially pot...</td>\n",
              "    </tr>\n",
              "    <tr>\n",
              "      <th>2</th>\n",
              "      <td>1024</td>\n",
              "      <td>sativa</td>\n",
              "      <td>4.4</td>\n",
              "      <td>Uplifted,Happy,Relaxed,Energetic,Creative</td>\n",
              "      <td>Spicy/Herbal,Sage,Woody</td>\n",
              "      <td>1024 is a sativa-dominant hybrid bred in Spain...</td>\n",
              "    </tr>\n",
              "    <tr>\n",
              "      <th>3</th>\n",
              "      <td>13-Dawgs</td>\n",
              "      <td>hybrid</td>\n",
              "      <td>4.2</td>\n",
              "      <td>Tingly,Creative,Hungry,Relaxed,Uplifted</td>\n",
              "      <td>Apricot,Citrus,Grapefruit</td>\n",
              "      <td>13 Dawgs is a hybrid of G13 and Chemdawg genet...</td>\n",
              "    </tr>\n",
              "    <tr>\n",
              "      <th>4</th>\n",
              "      <td>24K-Gold</td>\n",
              "      <td>hybrid</td>\n",
              "      <td>4.6</td>\n",
              "      <td>Happy,Relaxed,Euphoric,Uplifted,Talkative</td>\n",
              "      <td>Citrus,Earthy,Orange</td>\n",
              "      <td>Also known as Kosher Tangie, 24k Gold is a 60%...</td>\n",
              "    </tr>\n",
              "  </tbody>\n",
              "</table>\n",
              "</div>"
            ],
            "text/plain": [
              "           Strain  ...                                        Description\n",
              "0          100-Og  ...  $100 OG is a 50/50 hybrid strain that packs a ...\n",
              "1  98-White-Widow  ...  The ‘98 Aloha White Widow is an especially pot...\n",
              "2            1024  ...  1024 is a sativa-dominant hybrid bred in Spain...\n",
              "3        13-Dawgs  ...  13 Dawgs is a hybrid of G13 and Chemdawg genet...\n",
              "4        24K-Gold  ...  Also known as Kosher Tangie, 24k Gold is a 60%...\n",
              "\n",
              "[5 rows x 6 columns]"
            ]
          },
          "metadata": {
            "tags": []
          },
          "execution_count": 200
        }
      ]
    },
    {
      "cell_type": "code",
      "metadata": {
        "id": "VBiOQMNU3go0",
        "colab_type": "code",
        "colab": {
          "base_uri": "https://localhost:8080/",
          "height": 581
        },
        "outputId": "706b9b05-9caa-4cd7-91a4-d7178c027c8b"
      },
      "source": [
        "leafly.head()"
      ],
      "execution_count": 201,
      "outputs": [
        {
          "output_type": "execute_result",
          "data": {
            "text/html": [
              "<div>\n",
              "<style scoped>\n",
              "    .dataframe tbody tr th:only-of-type {\n",
              "        vertical-align: middle;\n",
              "    }\n",
              "\n",
              "    .dataframe tbody tr th {\n",
              "        vertical-align: top;\n",
              "    }\n",
              "\n",
              "    .dataframe thead th {\n",
              "        text-align: right;\n",
              "    }\n",
              "</style>\n",
              "<table border=\"1\" class=\"dataframe\">\n",
              "  <thead>\n",
              "    <tr style=\"text-align: right;\">\n",
              "      <th></th>\n",
              "      <th>strain</th>\n",
              "      <th>aka</th>\n",
              "      <th>type</th>\n",
              "      <th>rating</th>\n",
              "      <th>num_reviews</th>\n",
              "      <th>num_effects_reports</th>\n",
              "      <th>feeling_1</th>\n",
              "      <th>feeling_1_pct</th>\n",
              "      <th>feeling_2</th>\n",
              "      <th>feeling_2_pct</th>\n",
              "      <th>feeling_3</th>\n",
              "      <th>feeling_3_pct</th>\n",
              "      <th>feeling_4</th>\n",
              "      <th>feeling_4_pct</th>\n",
              "      <th>feeling_5</th>\n",
              "      <th>feeling_5_pct</th>\n",
              "      <th>helps_1</th>\n",
              "      <th>helps_1_pct</th>\n",
              "      <th>helps_2</th>\n",
              "      <th>helps_2_pct</th>\n",
              "      <th>helps_3</th>\n",
              "      <th>helps_3_pct</th>\n",
              "      <th>helps_4</th>\n",
              "      <th>helps_4_pct</th>\n",
              "      <th>helps_5</th>\n",
              "      <th>helps_5_pct</th>\n",
              "      <th>negative_1</th>\n",
              "      <th>negative_1_pct</th>\n",
              "      <th>negative_2</th>\n",
              "      <th>negative_2_pct</th>\n",
              "      <th>negative_3</th>\n",
              "      <th>negative_3_pct</th>\n",
              "      <th>negative_4</th>\n",
              "      <th>negative_4_pct</th>\n",
              "      <th>negative_5</th>\n",
              "      <th>negative_5_pct</th>\n",
              "      <th>description</th>\n",
              "    </tr>\n",
              "  </thead>\n",
              "  <tbody>\n",
              "    <tr>\n",
              "      <th>0</th>\n",
              "      <td>707</td>\n",
              "      <td>707 Headband</td>\n",
              "      <td>Hybrid</td>\n",
              "      <td>4.3</td>\n",
              "      <td>404.0</td>\n",
              "      <td>290.0</td>\n",
              "      <td>Happy</td>\n",
              "      <td>0.5</td>\n",
              "      <td>Euphoric</td>\n",
              "      <td>0.48</td>\n",
              "      <td>Creative</td>\n",
              "      <td>0.44</td>\n",
              "      <td>Relaxed</td>\n",
              "      <td>0.43</td>\n",
              "      <td>Uplifted</td>\n",
              "      <td>0.43</td>\n",
              "      <td>Stress</td>\n",
              "      <td>0.44</td>\n",
              "      <td>Pain</td>\n",
              "      <td>0.36</td>\n",
              "      <td>Anxiety</td>\n",
              "      <td>0.33</td>\n",
              "      <td>Depression</td>\n",
              "      <td>0.3</td>\n",
              "      <td>Nausea</td>\n",
              "      <td>0.18</td>\n",
              "      <td>Dry mouth</td>\n",
              "      <td>0.33</td>\n",
              "      <td>Dry eyes</td>\n",
              "      <td>0.17</td>\n",
              "      <td>Dizzy</td>\n",
              "      <td>0.07</td>\n",
              "      <td>Headache</td>\n",
              "      <td>0.07</td>\n",
              "      <td>Paranoid</td>\n",
              "      <td>0.07</td>\n",
              "      <td>This strain emerged from the Humboldt County, ...</td>\n",
              "    </tr>\n",
              "    <tr>\n",
              "      <th>1</th>\n",
              "      <td>ArcticBlue</td>\n",
              "      <td>None</td>\n",
              "      <td>Hybrid</td>\n",
              "      <td>4.8</td>\n",
              "      <td>21.0</td>\n",
              "      <td>NaN</td>\n",
              "      <td>None</td>\n",
              "      <td>NaN</td>\n",
              "      <td>None</td>\n",
              "      <td>NaN</td>\n",
              "      <td>None</td>\n",
              "      <td>NaN</td>\n",
              "      <td>None</td>\n",
              "      <td>NaN</td>\n",
              "      <td>None</td>\n",
              "      <td>NaN</td>\n",
              "      <td>None</td>\n",
              "      <td>NaN</td>\n",
              "      <td>None</td>\n",
              "      <td>NaN</td>\n",
              "      <td>None</td>\n",
              "      <td>NaN</td>\n",
              "      <td>None</td>\n",
              "      <td>NaN</td>\n",
              "      <td>None</td>\n",
              "      <td>NaN</td>\n",
              "      <td>None</td>\n",
              "      <td>NaN</td>\n",
              "      <td>None</td>\n",
              "      <td>NaN</td>\n",
              "      <td>None</td>\n",
              "      <td>NaN</td>\n",
              "      <td>None</td>\n",
              "      <td>NaN</td>\n",
              "      <td>None</td>\n",
              "      <td>NaN</td>\n",
              "      <td>ArcticBlue is a 60/40 indica-dominant hybrid c...</td>\n",
              "    </tr>\n",
              "    <tr>\n",
              "      <th>2</th>\n",
              "      <td>Atomic Goat</td>\n",
              "      <td>Atomic Golden Goat</td>\n",
              "      <td>Hybrid</td>\n",
              "      <td>4.8</td>\n",
              "      <td>12.0</td>\n",
              "      <td>NaN</td>\n",
              "      <td>None</td>\n",
              "      <td>NaN</td>\n",
              "      <td>None</td>\n",
              "      <td>NaN</td>\n",
              "      <td>None</td>\n",
              "      <td>NaN</td>\n",
              "      <td>None</td>\n",
              "      <td>NaN</td>\n",
              "      <td>None</td>\n",
              "      <td>NaN</td>\n",
              "      <td>None</td>\n",
              "      <td>NaN</td>\n",
              "      <td>None</td>\n",
              "      <td>NaN</td>\n",
              "      <td>None</td>\n",
              "      <td>NaN</td>\n",
              "      <td>None</td>\n",
              "      <td>NaN</td>\n",
              "      <td>None</td>\n",
              "      <td>NaN</td>\n",
              "      <td>None</td>\n",
              "      <td>NaN</td>\n",
              "      <td>None</td>\n",
              "      <td>NaN</td>\n",
              "      <td>None</td>\n",
              "      <td>NaN</td>\n",
              "      <td>None</td>\n",
              "      <td>NaN</td>\n",
              "      <td>None</td>\n",
              "      <td>NaN</td>\n",
              "      <td>Atomic Goat is a Seattle-born staple that came...</td>\n",
              "    </tr>\n",
              "    <tr>\n",
              "      <th>3</th>\n",
              "      <td>Alaska Thunder Grape</td>\n",
              "      <td>None</td>\n",
              "      <td>Hybrid</td>\n",
              "      <td>4.2</td>\n",
              "      <td>6.0</td>\n",
              "      <td>NaN</td>\n",
              "      <td>None</td>\n",
              "      <td>NaN</td>\n",
              "      <td>None</td>\n",
              "      <td>NaN</td>\n",
              "      <td>None</td>\n",
              "      <td>NaN</td>\n",
              "      <td>None</td>\n",
              "      <td>NaN</td>\n",
              "      <td>None</td>\n",
              "      <td>NaN</td>\n",
              "      <td>None</td>\n",
              "      <td>NaN</td>\n",
              "      <td>None</td>\n",
              "      <td>NaN</td>\n",
              "      <td>None</td>\n",
              "      <td>NaN</td>\n",
              "      <td>None</td>\n",
              "      <td>NaN</td>\n",
              "      <td>None</td>\n",
              "      <td>NaN</td>\n",
              "      <td>None</td>\n",
              "      <td>NaN</td>\n",
              "      <td>None</td>\n",
              "      <td>NaN</td>\n",
              "      <td>None</td>\n",
              "      <td>NaN</td>\n",
              "      <td>None</td>\n",
              "      <td>NaN</td>\n",
              "      <td>None</td>\n",
              "      <td>NaN</td>\n",
              "      <td>From Sonoma County comes Alaska Thunder Grape,...</td>\n",
              "    </tr>\n",
              "    <tr>\n",
              "      <th>4</th>\n",
              "      <td>B.B. King</td>\n",
              "      <td>None</td>\n",
              "      <td>Indica</td>\n",
              "      <td>3.8</td>\n",
              "      <td>17.0</td>\n",
              "      <td>NaN</td>\n",
              "      <td>None</td>\n",
              "      <td>NaN</td>\n",
              "      <td>None</td>\n",
              "      <td>NaN</td>\n",
              "      <td>None</td>\n",
              "      <td>NaN</td>\n",
              "      <td>None</td>\n",
              "      <td>NaN</td>\n",
              "      <td>None</td>\n",
              "      <td>NaN</td>\n",
              "      <td>None</td>\n",
              "      <td>NaN</td>\n",
              "      <td>None</td>\n",
              "      <td>NaN</td>\n",
              "      <td>None</td>\n",
              "      <td>NaN</td>\n",
              "      <td>None</td>\n",
              "      <td>NaN</td>\n",
              "      <td>None</td>\n",
              "      <td>NaN</td>\n",
              "      <td>None</td>\n",
              "      <td>NaN</td>\n",
              "      <td>None</td>\n",
              "      <td>NaN</td>\n",
              "      <td>None</td>\n",
              "      <td>NaN</td>\n",
              "      <td>None</td>\n",
              "      <td>NaN</td>\n",
              "      <td>None</td>\n",
              "      <td>NaN</td>\n",
              "      <td>B.B. King, named in honor of the Blues musicia...</td>\n",
              "    </tr>\n",
              "  </tbody>\n",
              "</table>\n",
              "</div>"
            ],
            "text/plain": [
              "                 strain  ...                                        description\n",
              "0                   707  ...  This strain emerged from the Humboldt County, ...\n",
              "1            ArcticBlue  ...  ArcticBlue is a 60/40 indica-dominant hybrid c...\n",
              "2           Atomic Goat  ...  Atomic Goat is a Seattle-born staple that came...\n",
              "3  Alaska Thunder Grape  ...  From Sonoma County comes Alaska Thunder Grape,...\n",
              "4             B.B. King  ...  B.B. King, named in honor of the Blues musicia...\n",
              "\n",
              "[5 rows x 37 columns]"
            ]
          },
          "metadata": {
            "tags": []
          },
          "execution_count": 201
        }
      ]
    },
    {
      "cell_type": "code",
      "metadata": {
        "id": "PBwQ80gx3iaP",
        "colab_type": "code",
        "colab": {
          "base_uri": "https://localhost:8080/",
          "height": 136
        },
        "outputId": "b692404b-961b-4fe0-95fd-ef2ef7b0d658"
      },
      "source": [
        "kaggle.isna().sum()"
      ],
      "execution_count": 202,
      "outputs": [
        {
          "output_type": "execute_result",
          "data": {
            "text/plain": [
              "Strain          0\n",
              "Type            0\n",
              "Rating          0\n",
              "Effects         0\n",
              "Flavor         46\n",
              "Description    33\n",
              "dtype: int64"
            ]
          },
          "metadata": {
            "tags": []
          },
          "execution_count": 202
        }
      ]
    },
    {
      "cell_type": "code",
      "metadata": {
        "id": "ZDID8EsY3xht",
        "colab_type": "code",
        "colab": {
          "base_uri": "https://localhost:8080/",
          "height": 663
        },
        "outputId": "7c8a0e55-9f52-41ac-b1c3-ac37d089f7f6"
      },
      "source": [
        "leafly.isna().sum()"
      ],
      "execution_count": 203,
      "outputs": [
        {
          "output_type": "execute_result",
          "data": {
            "text/plain": [
              "strain                    0\n",
              "aka                    2913\n",
              "type                      0\n",
              "rating                  284\n",
              "num_reviews             284\n",
              "num_effects_reports    2193\n",
              "feeling_1              2193\n",
              "feeling_1_pct          2193\n",
              "feeling_2              2193\n",
              "feeling_2_pct          2193\n",
              "feeling_3              2193\n",
              "feeling_3_pct          2193\n",
              "feeling_4              2193\n",
              "feeling_4_pct          2193\n",
              "feeling_5              2193\n",
              "feeling_5_pct          2193\n",
              "helps_1                2193\n",
              "helps_1_pct            2193\n",
              "helps_2                2193\n",
              "helps_2_pct            2193\n",
              "helps_3                2193\n",
              "helps_3_pct            2193\n",
              "helps_4                2193\n",
              "helps_4_pct            2193\n",
              "helps_5                2193\n",
              "helps_5_pct            2193\n",
              "negative_1             2193\n",
              "negative_1_pct         2193\n",
              "negative_2             2193\n",
              "negative_2_pct         2193\n",
              "negative_3             2209\n",
              "negative_3_pct         2209\n",
              "negative_4             2273\n",
              "negative_4_pct         2273\n",
              "negative_5             2403\n",
              "negative_5_pct         2403\n",
              "description               0\n",
              "dtype: int64"
            ]
          },
          "metadata": {
            "tags": []
          },
          "execution_count": 203
        }
      ]
    },
    {
      "cell_type": "markdown",
      "metadata": {
        "id": "3qgU8_Vx7uAg",
        "colab_type": "text"
      },
      "source": [
        "## Without none|nulls in effects|feelings\n",
        "\n",
        "-  Leafly still has nulls for some negative effects"
      ]
    },
    {
      "cell_type": "code",
      "metadata": {
        "id": "-StMj_qR5gA9",
        "colab_type": "code",
        "colab": {
          "base_uri": "https://localhost:8080/",
          "height": 34
        },
        "outputId": "8db96eec-0c02-4a12-dfa6-03d4871774eb"
      },
      "source": [
        "kaggle[~(kaggle['Effects'] == 'None')].shape"
      ],
      "execution_count": 204,
      "outputs": [
        {
          "output_type": "execute_result",
          "data": {
            "text/plain": [
              "(2264, 6)"
            ]
          },
          "metadata": {
            "tags": []
          },
          "execution_count": 204
        }
      ]
    },
    {
      "cell_type": "code",
      "metadata": {
        "id": "Gsp_PXFw6IRo",
        "colab_type": "code",
        "colab": {
          "base_uri": "https://localhost:8080/",
          "height": 34
        },
        "outputId": "f05e0c59-3977-4a5a-9298-101e87f5927b"
      },
      "source": [
        "leafly[leafly['num_effects_reports'].notna()].shape"
      ],
      "execution_count": 205,
      "outputs": [
        {
          "output_type": "execute_result",
          "data": {
            "text/plain": [
              "(1254, 37)"
            ]
          },
          "metadata": {
            "tags": []
          },
          "execution_count": 205
        }
      ]
    },
    {
      "cell_type": "code",
      "metadata": {
        "id": "xpUzU3fm-8s1",
        "colab_type": "code",
        "colab": {
          "base_uri": "https://localhost:8080/",
          "height": 663
        },
        "outputId": "df75e896-7ee4-4fcc-9430-2cdc75596001"
      },
      "source": [
        "leafly[leafly['num_effects_reports'].notna()].isnull().sum()"
      ],
      "execution_count": 206,
      "outputs": [
        {
          "output_type": "execute_result",
          "data": {
            "text/plain": [
              "strain                   0\n",
              "aka                    899\n",
              "type                     0\n",
              "rating                   0\n",
              "num_reviews              0\n",
              "num_effects_reports      0\n",
              "feeling_1                0\n",
              "feeling_1_pct            0\n",
              "feeling_2                0\n",
              "feeling_2_pct            0\n",
              "feeling_3                0\n",
              "feeling_3_pct            0\n",
              "feeling_4                0\n",
              "feeling_4_pct            0\n",
              "feeling_5                0\n",
              "feeling_5_pct            0\n",
              "helps_1                  0\n",
              "helps_1_pct              0\n",
              "helps_2                  0\n",
              "helps_2_pct              0\n",
              "helps_3                  0\n",
              "helps_3_pct              0\n",
              "helps_4                  0\n",
              "helps_4_pct              0\n",
              "helps_5                  0\n",
              "helps_5_pct              0\n",
              "negative_1               0\n",
              "negative_1_pct           0\n",
              "negative_2               0\n",
              "negative_2_pct           0\n",
              "negative_3              16\n",
              "negative_3_pct          16\n",
              "negative_4              80\n",
              "negative_4_pct          80\n",
              "negative_5             210\n",
              "negative_5_pct         210\n",
              "description              0\n",
              "dtype: int64"
            ]
          },
          "metadata": {
            "tags": []
          },
          "execution_count": 206
        }
      ]
    },
    {
      "cell_type": "markdown",
      "metadata": {
        "id": "EpZgHeX876VJ",
        "colab_type": "text"
      },
      "source": [
        "## Effects\n",
        "\n",
        "- Leafly feelings are almost identical to Kaggle's effects\n",
        "  -  Kaggle includes 'dry' and 'mouth'\n",
        "- Leafly has conditions that each strain helps with\n",
        "- Leafly has negative conditions\n",
        "  - including 'dry mouth'"
      ]
    },
    {
      "cell_type": "code",
      "metadata": {
        "id": "x0VwDWZX4AHw",
        "colab_type": "code",
        "cellView": "form",
        "colab": {
          "base_uri": "https://localhost:8080/",
          "height": 306
        },
        "outputId": "7dcbf657-9cc0-4165-8280-3a4ebee3f19e"
      },
      "source": [
        "#@title Kaggle: effects\n",
        "kaggle_effects = set()\n",
        "for row in kaggle['Effects'].str.lower().str.split(','):\n",
        "  kaggle_effects.update(set(row))\n",
        "len(kaggle_effects), kaggle_effects"
      ],
      "execution_count": 207,
      "outputs": [
        {
          "output_type": "execute_result",
          "data": {
            "text/plain": [
              "(16,\n",
              " {'aroused',\n",
              "  'creative',\n",
              "  'dry',\n",
              "  'energetic',\n",
              "  'euphoric',\n",
              "  'focused',\n",
              "  'giggly',\n",
              "  'happy',\n",
              "  'hungry',\n",
              "  'mouth',\n",
              "  'none',\n",
              "  'relaxed',\n",
              "  'sleepy',\n",
              "  'talkative',\n",
              "  'tingly',\n",
              "  'uplifted'})"
            ]
          },
          "metadata": {
            "tags": []
          },
          "execution_count": 207
        }
      ]
    },
    {
      "cell_type": "code",
      "metadata": {
        "id": "pwmp8GyMB6qj",
        "colab_type": "code",
        "cellView": "form",
        "colab": {
          "base_uri": "https://localhost:8080/",
          "height": 119
        },
        "outputId": "17886c46-8b96-49b3-f5d2-91026dff53ea"
      },
      "source": [
        "#@title Kaggle: number of effects value counts\n",
        "kaggle['Effects'].str.lower().str.split(',').str.len().value_counts(dropna=False).sort_index()"
      ],
      "execution_count": 208,
      "outputs": [
        {
          "output_type": "execute_result",
          "data": {
            "text/plain": [
              "1      97\n",
              "2      15\n",
              "3      27\n",
              "4      32\n",
              "5    2180\n",
              "Name: Effects, dtype: int64"
            ]
          },
          "metadata": {
            "tags": []
          },
          "execution_count": 208
        }
      ]
    },
    {
      "cell_type": "code",
      "metadata": {
        "id": "9VZYu83E6-eF",
        "colab_type": "code",
        "cellView": "form",
        "colab": {
          "base_uri": "https://localhost:8080/",
          "height": 272
        },
        "outputId": "41569b8d-1594-49cc-e8df-040e40313ac1"
      },
      "source": [
        "#@title Leafly Feelings\n",
        "leafly_feelings = set()\n",
        "for i in range(1,6):\n",
        "  leafly_feelings.update(leafly[f'feeling_{i}'].str.lower().unique())\n",
        "len(leafly_feelings), leafly_feelings"
      ],
      "execution_count": 209,
      "outputs": [
        {
          "output_type": "execute_result",
          "data": {
            "text/plain": [
              "(14,\n",
              " {None,\n",
              "  'aroused',\n",
              "  'creative',\n",
              "  'energetic',\n",
              "  'euphoric',\n",
              "  'focused',\n",
              "  'giggly',\n",
              "  'happy',\n",
              "  'hungry',\n",
              "  'relaxed',\n",
              "  'sleepy',\n",
              "  'talkative',\n",
              "  'tingly',\n",
              "  'uplifted'})"
            ]
          },
          "metadata": {
            "tags": []
          },
          "execution_count": 209
        }
      ]
    },
    {
      "cell_type": "code",
      "metadata": {
        "id": "4k3iWB-87L-L",
        "colab_type": "code",
        "cellView": "form",
        "colab": {
          "base_uri": "https://localhost:8080/",
          "height": 527
        },
        "outputId": "7da16a12-3fc6-48e0-fd3f-dc7e74f7ccfc"
      },
      "source": [
        "#@title Leafly: helps with\n",
        "leafly_helps = set()\n",
        "for i in range(1,6):\n",
        "  leafly_helps.update(leafly[f'helps_{i}'].str.lower().unique())\n",
        "len(leafly_helps), leafly_helps"
      ],
      "execution_count": 210,
      "outputs": [
        {
          "output_type": "execute_result",
          "data": {
            "text/plain": [
              "(29,\n",
              " {None,\n",
              "  'add/adhd',\n",
              "  'anorexia',\n",
              "  'anxiety',\n",
              "  'arthritis',\n",
              "  'asthma',\n",
              "  'bipolar disorder',\n",
              "  'cancer',\n",
              "  'cramps',\n",
              "  \"crohn's disease\",\n",
              "  'depression',\n",
              "  'epilepsy',\n",
              "  'eye pressure',\n",
              "  'fatigue',\n",
              "  'fibromyalgia',\n",
              "  'gastrointestinal disorder',\n",
              "  'headaches',\n",
              "  'hypertension',\n",
              "  'inflammation',\n",
              "  'insomnia',\n",
              "  'lack of appetite',\n",
              "  'migraines',\n",
              "  'muscle spasms',\n",
              "  'nausea',\n",
              "  'pain',\n",
              "  'ptsd',\n",
              "  'spasticity',\n",
              "  'spinal cord injury',\n",
              "  'stress'})"
            ]
          },
          "metadata": {
            "tags": []
          },
          "execution_count": 210
        }
      ]
    },
    {
      "cell_type": "code",
      "metadata": {
        "id": "UBUKeI628cGr",
        "colab_type": "code",
        "cellView": "form",
        "colab": {
          "base_uri": "https://localhost:8080/",
          "height": 51
        },
        "outputId": "c9224490-b2b7-4847-f8ad-eef90cc1ad82"
      },
      "source": [
        "#@title Leafly: negative\n",
        "leafly_negative = set()\n",
        "for i in range(1,6):\n",
        "  leafly_negative.update(leafly[f'negative_{i}'].str.lower().unique())\n",
        "len(leafly_negative), leafly_negative"
      ],
      "execution_count": 211,
      "outputs": [
        {
          "output_type": "execute_result",
          "data": {
            "text/plain": [
              "(7,\n",
              " {None, 'anxious', 'dizzy', 'dry eyes', 'dry mouth', 'headache', 'paranoid'})"
            ]
          },
          "metadata": {
            "tags": []
          },
          "execution_count": 211
        }
      ]
    },
    {
      "cell_type": "markdown",
      "metadata": {
        "id": "IJoKk5GCAk4e",
        "colab_type": "text"
      },
      "source": [
        "## Kaggle Flavors\n",
        "\n",
        "- could probably add to leafly dataframe"
      ]
    },
    {
      "cell_type": "code",
      "metadata": {
        "id": "2fEEbZ2dArvI",
        "colab_type": "code",
        "colab": {
          "base_uri": "https://localhost:8080/",
          "height": 119
        },
        "outputId": "e0e98e04-296f-4129-e382-163bc697debd"
      },
      "source": [
        "kaggle['Flavor'].str.lower().str.split(',').str.len().value_counts(dropna=False).sort_index()"
      ],
      "execution_count": 212,
      "outputs": [
        {
          "output_type": "execute_result",
          "data": {
            "text/plain": [
              "1.0     144\n",
              "2.0      44\n",
              "3.0    2074\n",
              "4.0      43\n",
              "NaN      46\n",
              "Name: Flavor, dtype: int64"
            ]
          },
          "metadata": {
            "tags": []
          },
          "execution_count": 212
        }
      ]
    },
    {
      "cell_type": "code",
      "metadata": {
        "id": "kv4NeNZ-A2pD",
        "colab_type": "code",
        "colab": {
          "base_uri": "https://localhost:8080/",
          "height": 34
        },
        "outputId": "45957170-bc96-41bf-ae70-08ebf3e17ff1"
      },
      "source": [
        "kaggle['Flavor'].isna().sum()"
      ],
      "execution_count": 213,
      "outputs": [
        {
          "output_type": "execute_result",
          "data": {
            "text/plain": [
              "46"
            ]
          },
          "metadata": {
            "tags": []
          },
          "execution_count": 213
        }
      ]
    },
    {
      "cell_type": "markdown",
      "metadata": {
        "id": "dkN8S7i0DNXM",
        "colab_type": "text"
      },
      "source": [
        "## Uniqueness of names"
      ]
    },
    {
      "cell_type": "code",
      "metadata": {
        "id": "6vAc1PmADPj5",
        "colab_type": "code",
        "colab": {
          "base_uri": "https://localhost:8080/",
          "height": 0
        },
        "outputId": "43aa29b0-999a-4574-921b-b9db141d421e"
      },
      "source": [
        "kaggle['Strain'].nunique(), kaggle.shape[0]"
      ],
      "execution_count": 214,
      "outputs": [
        {
          "output_type": "execute_result",
          "data": {
            "text/plain": [
              "(2350, 2351)"
            ]
          },
          "metadata": {
            "tags": []
          },
          "execution_count": 214
        }
      ]
    },
    {
      "cell_type": "code",
      "metadata": {
        "id": "Tv_ddwrzDTs6",
        "colab_type": "code",
        "colab": {
          "base_uri": "https://localhost:8080/",
          "height": 0
        },
        "outputId": "fb6cf0c7-dc80-45ec-a2d3-3434e7827060"
      },
      "source": [
        "leafly['strain'].nunique(), leafly.shape[0]"
      ],
      "execution_count": 215,
      "outputs": [
        {
          "output_type": "execute_result",
          "data": {
            "text/plain": [
              "(3435, 3447)"
            ]
          },
          "metadata": {
            "tags": []
          },
          "execution_count": 215
        }
      ]
    },
    {
      "cell_type": "markdown",
      "metadata": {
        "id": "bJlA_v7Rtwoc",
        "colab_type": "text"
      },
      "source": [
        "## Drop nans\n"
      ]
    },
    {
      "cell_type": "code",
      "metadata": {
        "id": "tzSzfldyv9Wl",
        "colab_type": "code",
        "colab": {
          "base_uri": "https://localhost:8080/",
          "height": 34
        },
        "outputId": "f03881c9-d11f-404d-a886-7edd6093fd00"
      },
      "source": [
        "# Check kaggle shape\n",
        "\n",
        "kaggle.shape"
      ],
      "execution_count": 216,
      "outputs": [
        {
          "output_type": "execute_result",
          "data": {
            "text/plain": [
              "(2351, 6)"
            ]
          },
          "metadata": {
            "tags": []
          },
          "execution_count": 216
        }
      ]
    },
    {
      "cell_type": "code",
      "metadata": {
        "id": "GydL_Rm0v2Zo",
        "colab_type": "code",
        "colab": {}
      },
      "source": [
        "# Drop nans from kaggle\n",
        "\n",
        "kaggle = kaggle.dropna()"
      ],
      "execution_count": 217,
      "outputs": []
    },
    {
      "cell_type": "code",
      "metadata": {
        "id": "eQ9gpXnzv2jj",
        "colab_type": "code",
        "colab": {
          "base_uri": "https://localhost:8080/",
          "height": 34
        },
        "outputId": "d46279db-dad1-4641-db0a-e40d5d61ffa5"
      },
      "source": [
        "# Check kaggle shape again\n",
        "\n",
        "kaggle.shape"
      ],
      "execution_count": 218,
      "outputs": [
        {
          "output_type": "execute_result",
          "data": {
            "text/plain": [
              "(2277, 6)"
            ]
          },
          "metadata": {
            "tags": []
          },
          "execution_count": 218
        }
      ]
    },
    {
      "cell_type": "code",
      "metadata": {
        "id": "7fQcc2B9FzuB",
        "colab_type": "code",
        "colab": {
          "base_uri": "https://localhost:8080/",
          "height": 136
        },
        "outputId": "ba93753e-a9eb-49e4-aa0c-a3f731de933d"
      },
      "source": [
        "# Check kaggle for nans\n",
        "\n",
        "kaggle.isna().sum()"
      ],
      "execution_count": 219,
      "outputs": [
        {
          "output_type": "execute_result",
          "data": {
            "text/plain": [
              "Strain         0\n",
              "Type           0\n",
              "Rating         0\n",
              "Effects        0\n",
              "Flavor         0\n",
              "Description    0\n",
              "dtype: int64"
            ]
          },
          "metadata": {
            "tags": []
          },
          "execution_count": 219
        }
      ]
    },
    {
      "cell_type": "code",
      "metadata": {
        "id": "snMon7SKJQCI",
        "colab_type": "code",
        "colab": {
          "base_uri": "https://localhost:8080/",
          "height": 419
        },
        "outputId": "00294f16-3a58-49d9-9bc7-f10ca2ba4bbe"
      },
      "source": [
        "# Check kaggle for nulls, again\n",
        "\n",
        "kaggle.isnull()"
      ],
      "execution_count": 220,
      "outputs": [
        {
          "output_type": "execute_result",
          "data": {
            "text/html": [
              "<div>\n",
              "<style scoped>\n",
              "    .dataframe tbody tr th:only-of-type {\n",
              "        vertical-align: middle;\n",
              "    }\n",
              "\n",
              "    .dataframe tbody tr th {\n",
              "        vertical-align: top;\n",
              "    }\n",
              "\n",
              "    .dataframe thead th {\n",
              "        text-align: right;\n",
              "    }\n",
              "</style>\n",
              "<table border=\"1\" class=\"dataframe\">\n",
              "  <thead>\n",
              "    <tr style=\"text-align: right;\">\n",
              "      <th></th>\n",
              "      <th>Strain</th>\n",
              "      <th>Type</th>\n",
              "      <th>Rating</th>\n",
              "      <th>Effects</th>\n",
              "      <th>Flavor</th>\n",
              "      <th>Description</th>\n",
              "    </tr>\n",
              "  </thead>\n",
              "  <tbody>\n",
              "    <tr>\n",
              "      <th>0</th>\n",
              "      <td>False</td>\n",
              "      <td>False</td>\n",
              "      <td>False</td>\n",
              "      <td>False</td>\n",
              "      <td>False</td>\n",
              "      <td>False</td>\n",
              "    </tr>\n",
              "    <tr>\n",
              "      <th>1</th>\n",
              "      <td>False</td>\n",
              "      <td>False</td>\n",
              "      <td>False</td>\n",
              "      <td>False</td>\n",
              "      <td>False</td>\n",
              "      <td>False</td>\n",
              "    </tr>\n",
              "    <tr>\n",
              "      <th>2</th>\n",
              "      <td>False</td>\n",
              "      <td>False</td>\n",
              "      <td>False</td>\n",
              "      <td>False</td>\n",
              "      <td>False</td>\n",
              "      <td>False</td>\n",
              "    </tr>\n",
              "    <tr>\n",
              "      <th>3</th>\n",
              "      <td>False</td>\n",
              "      <td>False</td>\n",
              "      <td>False</td>\n",
              "      <td>False</td>\n",
              "      <td>False</td>\n",
              "      <td>False</td>\n",
              "    </tr>\n",
              "    <tr>\n",
              "      <th>4</th>\n",
              "      <td>False</td>\n",
              "      <td>False</td>\n",
              "      <td>False</td>\n",
              "      <td>False</td>\n",
              "      <td>False</td>\n",
              "      <td>False</td>\n",
              "    </tr>\n",
              "    <tr>\n",
              "      <th>...</th>\n",
              "      <td>...</td>\n",
              "      <td>...</td>\n",
              "      <td>...</td>\n",
              "      <td>...</td>\n",
              "      <td>...</td>\n",
              "      <td>...</td>\n",
              "    </tr>\n",
              "    <tr>\n",
              "      <th>2346</th>\n",
              "      <td>False</td>\n",
              "      <td>False</td>\n",
              "      <td>False</td>\n",
              "      <td>False</td>\n",
              "      <td>False</td>\n",
              "      <td>False</td>\n",
              "    </tr>\n",
              "    <tr>\n",
              "      <th>2347</th>\n",
              "      <td>False</td>\n",
              "      <td>False</td>\n",
              "      <td>False</td>\n",
              "      <td>False</td>\n",
              "      <td>False</td>\n",
              "      <td>False</td>\n",
              "    </tr>\n",
              "    <tr>\n",
              "      <th>2348</th>\n",
              "      <td>False</td>\n",
              "      <td>False</td>\n",
              "      <td>False</td>\n",
              "      <td>False</td>\n",
              "      <td>False</td>\n",
              "      <td>False</td>\n",
              "    </tr>\n",
              "    <tr>\n",
              "      <th>2349</th>\n",
              "      <td>False</td>\n",
              "      <td>False</td>\n",
              "      <td>False</td>\n",
              "      <td>False</td>\n",
              "      <td>False</td>\n",
              "      <td>False</td>\n",
              "    </tr>\n",
              "    <tr>\n",
              "      <th>2350</th>\n",
              "      <td>False</td>\n",
              "      <td>False</td>\n",
              "      <td>False</td>\n",
              "      <td>False</td>\n",
              "      <td>False</td>\n",
              "      <td>False</td>\n",
              "    </tr>\n",
              "  </tbody>\n",
              "</table>\n",
              "<p>2277 rows × 6 columns</p>\n",
              "</div>"
            ],
            "text/plain": [
              "      Strain   Type  Rating  Effects  Flavor  Description\n",
              "0      False  False   False    False   False        False\n",
              "1      False  False   False    False   False        False\n",
              "2      False  False   False    False   False        False\n",
              "3      False  False   False    False   False        False\n",
              "4      False  False   False    False   False        False\n",
              "...      ...    ...     ...      ...     ...          ...\n",
              "2346   False  False   False    False   False        False\n",
              "2347   False  False   False    False   False        False\n",
              "2348   False  False   False    False   False        False\n",
              "2349   False  False   False    False   False        False\n",
              "2350   False  False   False    False   False        False\n",
              "\n",
              "[2277 rows x 6 columns]"
            ]
          },
          "metadata": {
            "tags": []
          },
          "execution_count": 220
        }
      ]
    },
    {
      "cell_type": "code",
      "metadata": {
        "id": "P6WKAk5uEu3o",
        "colab_type": "code",
        "colab": {
          "base_uri": "https://localhost:8080/",
          "height": 204
        },
        "outputId": "5b4abffc-ea22-44cf-abb1-7cf76b9b3bd1"
      },
      "source": [
        "# Check kaggle head\n",
        "\n",
        "kaggle.head()"
      ],
      "execution_count": 221,
      "outputs": [
        {
          "output_type": "execute_result",
          "data": {
            "text/html": [
              "<div>\n",
              "<style scoped>\n",
              "    .dataframe tbody tr th:only-of-type {\n",
              "        vertical-align: middle;\n",
              "    }\n",
              "\n",
              "    .dataframe tbody tr th {\n",
              "        vertical-align: top;\n",
              "    }\n",
              "\n",
              "    .dataframe thead th {\n",
              "        text-align: right;\n",
              "    }\n",
              "</style>\n",
              "<table border=\"1\" class=\"dataframe\">\n",
              "  <thead>\n",
              "    <tr style=\"text-align: right;\">\n",
              "      <th></th>\n",
              "      <th>Strain</th>\n",
              "      <th>Type</th>\n",
              "      <th>Rating</th>\n",
              "      <th>Effects</th>\n",
              "      <th>Flavor</th>\n",
              "      <th>Description</th>\n",
              "    </tr>\n",
              "  </thead>\n",
              "  <tbody>\n",
              "    <tr>\n",
              "      <th>0</th>\n",
              "      <td>100-Og</td>\n",
              "      <td>hybrid</td>\n",
              "      <td>4.0</td>\n",
              "      <td>Creative,Energetic,Tingly,Euphoric,Relaxed</td>\n",
              "      <td>Earthy,Sweet,Citrus</td>\n",
              "      <td>$100 OG is a 50/50 hybrid strain that packs a ...</td>\n",
              "    </tr>\n",
              "    <tr>\n",
              "      <th>1</th>\n",
              "      <td>98-White-Widow</td>\n",
              "      <td>hybrid</td>\n",
              "      <td>4.7</td>\n",
              "      <td>Relaxed,Aroused,Creative,Happy,Energetic</td>\n",
              "      <td>Flowery,Violet,Diesel</td>\n",
              "      <td>The ‘98 Aloha White Widow is an especially pot...</td>\n",
              "    </tr>\n",
              "    <tr>\n",
              "      <th>2</th>\n",
              "      <td>1024</td>\n",
              "      <td>sativa</td>\n",
              "      <td>4.4</td>\n",
              "      <td>Uplifted,Happy,Relaxed,Energetic,Creative</td>\n",
              "      <td>Spicy/Herbal,Sage,Woody</td>\n",
              "      <td>1024 is a sativa-dominant hybrid bred in Spain...</td>\n",
              "    </tr>\n",
              "    <tr>\n",
              "      <th>3</th>\n",
              "      <td>13-Dawgs</td>\n",
              "      <td>hybrid</td>\n",
              "      <td>4.2</td>\n",
              "      <td>Tingly,Creative,Hungry,Relaxed,Uplifted</td>\n",
              "      <td>Apricot,Citrus,Grapefruit</td>\n",
              "      <td>13 Dawgs is a hybrid of G13 and Chemdawg genet...</td>\n",
              "    </tr>\n",
              "    <tr>\n",
              "      <th>4</th>\n",
              "      <td>24K-Gold</td>\n",
              "      <td>hybrid</td>\n",
              "      <td>4.6</td>\n",
              "      <td>Happy,Relaxed,Euphoric,Uplifted,Talkative</td>\n",
              "      <td>Citrus,Earthy,Orange</td>\n",
              "      <td>Also known as Kosher Tangie, 24k Gold is a 60%...</td>\n",
              "    </tr>\n",
              "  </tbody>\n",
              "</table>\n",
              "</div>"
            ],
            "text/plain": [
              "           Strain  ...                                        Description\n",
              "0          100-Og  ...  $100 OG is a 50/50 hybrid strain that packs a ...\n",
              "1  98-White-Widow  ...  The ‘98 Aloha White Widow is an especially pot...\n",
              "2            1024  ...  1024 is a sativa-dominant hybrid bred in Spain...\n",
              "3        13-Dawgs  ...  13 Dawgs is a hybrid of G13 and Chemdawg genet...\n",
              "4        24K-Gold  ...  Also known as Kosher Tangie, 24k Gold is a 60%...\n",
              "\n",
              "[5 rows x 6 columns]"
            ]
          },
          "metadata": {
            "tags": []
          },
          "execution_count": 221
        }
      ]
    },
    {
      "cell_type": "code",
      "metadata": {
        "id": "sFrtws1Ov2po",
        "colab_type": "code",
        "colab": {
          "base_uri": "https://localhost:8080/",
          "height": 34
        },
        "outputId": "8ab347f4-1b9a-4911-9be4-1576918f21e9"
      },
      "source": [
        "# Check leafly shape\n",
        "\n",
        "leafly.shape"
      ],
      "execution_count": 222,
      "outputs": [
        {
          "output_type": "execute_result",
          "data": {
            "text/plain": [
              "(3447, 37)"
            ]
          },
          "metadata": {
            "tags": []
          },
          "execution_count": 222
        }
      ]
    },
    {
      "cell_type": "code",
      "metadata": {
        "id": "TRQ2EwHXtuQB",
        "colab_type": "code",
        "colab": {}
      },
      "source": [
        "# Drop nans from leafly\n",
        "\n",
        "leafly = leafly.dropna()"
      ],
      "execution_count": 223,
      "outputs": []
    },
    {
      "cell_type": "code",
      "metadata": {
        "id": "OTcOZJcxu9Y5",
        "colab_type": "code",
        "colab": {
          "base_uri": "https://localhost:8080/",
          "height": 34
        },
        "outputId": "3554406a-d093-41df-91fe-79d10997a6dd"
      },
      "source": [
        "# Check Leafly Shape again\n",
        "\n",
        "leafly.shape"
      ],
      "execution_count": 224,
      "outputs": [
        {
          "output_type": "execute_result",
          "data": {
            "text/plain": [
              "(311, 37)"
            ]
          },
          "metadata": {
            "tags": []
          },
          "execution_count": 224
        }
      ]
    },
    {
      "cell_type": "code",
      "metadata": {
        "id": "p-SrKTWrF-aa",
        "colab_type": "code",
        "colab": {
          "base_uri": "https://localhost:8080/",
          "height": 663
        },
        "outputId": "458ae3c5-5f65-4180-f415-45be8cb7245c"
      },
      "source": [
        "# Check leafly for nans\n",
        "\n",
        "leafly.isna().sum()"
      ],
      "execution_count": 225,
      "outputs": [
        {
          "output_type": "execute_result",
          "data": {
            "text/plain": [
              "strain                 0\n",
              "aka                    0\n",
              "type                   0\n",
              "rating                 0\n",
              "num_reviews            0\n",
              "num_effects_reports    0\n",
              "feeling_1              0\n",
              "feeling_1_pct          0\n",
              "feeling_2              0\n",
              "feeling_2_pct          0\n",
              "feeling_3              0\n",
              "feeling_3_pct          0\n",
              "feeling_4              0\n",
              "feeling_4_pct          0\n",
              "feeling_5              0\n",
              "feeling_5_pct          0\n",
              "helps_1                0\n",
              "helps_1_pct            0\n",
              "helps_2                0\n",
              "helps_2_pct            0\n",
              "helps_3                0\n",
              "helps_3_pct            0\n",
              "helps_4                0\n",
              "helps_4_pct            0\n",
              "helps_5                0\n",
              "helps_5_pct            0\n",
              "negative_1             0\n",
              "negative_1_pct         0\n",
              "negative_2             0\n",
              "negative_2_pct         0\n",
              "negative_3             0\n",
              "negative_3_pct         0\n",
              "negative_4             0\n",
              "negative_4_pct         0\n",
              "negative_5             0\n",
              "negative_5_pct         0\n",
              "description            0\n",
              "dtype: int64"
            ]
          },
          "metadata": {
            "tags": []
          },
          "execution_count": 225
        }
      ]
    },
    {
      "cell_type": "code",
      "metadata": {
        "id": "XlIU-rMLui8U",
        "colab_type": "code",
        "colab": {
          "base_uri": "https://localhost:8080/",
          "height": 513
        },
        "outputId": "2ac48b28-1aff-4c74-d06b-fea332991cfa"
      },
      "source": [
        "# Check leafly for anything missing\n",
        "\n",
        "leafly.head()"
      ],
      "execution_count": 226,
      "outputs": [
        {
          "output_type": "execute_result",
          "data": {
            "text/html": [
              "<div>\n",
              "<style scoped>\n",
              "    .dataframe tbody tr th:only-of-type {\n",
              "        vertical-align: middle;\n",
              "    }\n",
              "\n",
              "    .dataframe tbody tr th {\n",
              "        vertical-align: top;\n",
              "    }\n",
              "\n",
              "    .dataframe thead th {\n",
              "        text-align: right;\n",
              "    }\n",
              "</style>\n",
              "<table border=\"1\" class=\"dataframe\">\n",
              "  <thead>\n",
              "    <tr style=\"text-align: right;\">\n",
              "      <th></th>\n",
              "      <th>strain</th>\n",
              "      <th>aka</th>\n",
              "      <th>type</th>\n",
              "      <th>rating</th>\n",
              "      <th>num_reviews</th>\n",
              "      <th>num_effects_reports</th>\n",
              "      <th>feeling_1</th>\n",
              "      <th>feeling_1_pct</th>\n",
              "      <th>feeling_2</th>\n",
              "      <th>feeling_2_pct</th>\n",
              "      <th>feeling_3</th>\n",
              "      <th>feeling_3_pct</th>\n",
              "      <th>feeling_4</th>\n",
              "      <th>feeling_4_pct</th>\n",
              "      <th>feeling_5</th>\n",
              "      <th>feeling_5_pct</th>\n",
              "      <th>helps_1</th>\n",
              "      <th>helps_1_pct</th>\n",
              "      <th>helps_2</th>\n",
              "      <th>helps_2_pct</th>\n",
              "      <th>helps_3</th>\n",
              "      <th>helps_3_pct</th>\n",
              "      <th>helps_4</th>\n",
              "      <th>helps_4_pct</th>\n",
              "      <th>helps_5</th>\n",
              "      <th>helps_5_pct</th>\n",
              "      <th>negative_1</th>\n",
              "      <th>negative_1_pct</th>\n",
              "      <th>negative_2</th>\n",
              "      <th>negative_2_pct</th>\n",
              "      <th>negative_3</th>\n",
              "      <th>negative_3_pct</th>\n",
              "      <th>negative_4</th>\n",
              "      <th>negative_4_pct</th>\n",
              "      <th>negative_5</th>\n",
              "      <th>negative_5_pct</th>\n",
              "      <th>description</th>\n",
              "    </tr>\n",
              "  </thead>\n",
              "  <tbody>\n",
              "    <tr>\n",
              "      <th>0</th>\n",
              "      <td>707</td>\n",
              "      <td>707 Headband</td>\n",
              "      <td>Hybrid</td>\n",
              "      <td>4.3</td>\n",
              "      <td>404.0</td>\n",
              "      <td>290.0</td>\n",
              "      <td>Happy</td>\n",
              "      <td>0.50</td>\n",
              "      <td>Euphoric</td>\n",
              "      <td>0.48</td>\n",
              "      <td>Creative</td>\n",
              "      <td>0.44</td>\n",
              "      <td>Relaxed</td>\n",
              "      <td>0.43</td>\n",
              "      <td>Uplifted</td>\n",
              "      <td>0.43</td>\n",
              "      <td>Stress</td>\n",
              "      <td>0.44</td>\n",
              "      <td>Pain</td>\n",
              "      <td>0.36</td>\n",
              "      <td>Anxiety</td>\n",
              "      <td>0.33</td>\n",
              "      <td>Depression</td>\n",
              "      <td>0.30</td>\n",
              "      <td>Nausea</td>\n",
              "      <td>0.18</td>\n",
              "      <td>Dry mouth</td>\n",
              "      <td>0.33</td>\n",
              "      <td>Dry eyes</td>\n",
              "      <td>0.17</td>\n",
              "      <td>Dizzy</td>\n",
              "      <td>0.07</td>\n",
              "      <td>Headache</td>\n",
              "      <td>0.07</td>\n",
              "      <td>Paranoid</td>\n",
              "      <td>0.07</td>\n",
              "      <td>This strain emerged from the Humboldt County, ...</td>\n",
              "    </tr>\n",
              "    <tr>\n",
              "      <th>42</th>\n",
              "      <td>Boy Scout Cookies</td>\n",
              "      <td>BSC, Boy Scout</td>\n",
              "      <td>Hybrid</td>\n",
              "      <td>4.6</td>\n",
              "      <td>53.0</td>\n",
              "      <td>31.0</td>\n",
              "      <td>Happy</td>\n",
              "      <td>0.77</td>\n",
              "      <td>Relaxed</td>\n",
              "      <td>0.74</td>\n",
              "      <td>Euphoric</td>\n",
              "      <td>0.54</td>\n",
              "      <td>Hungry</td>\n",
              "      <td>0.41</td>\n",
              "      <td>Uplifted</td>\n",
              "      <td>0.41</td>\n",
              "      <td>Depression</td>\n",
              "      <td>0.45</td>\n",
              "      <td>Stress</td>\n",
              "      <td>0.45</td>\n",
              "      <td>Pain</td>\n",
              "      <td>0.38</td>\n",
              "      <td>Anxiety</td>\n",
              "      <td>0.38</td>\n",
              "      <td>Lack of appetite</td>\n",
              "      <td>0.25</td>\n",
              "      <td>Dry mouth</td>\n",
              "      <td>0.45</td>\n",
              "      <td>Dry eyes</td>\n",
              "      <td>0.16</td>\n",
              "      <td>Anxious</td>\n",
              "      <td>0.06</td>\n",
              "      <td>Dizzy</td>\n",
              "      <td>0.06</td>\n",
              "      <td>Headache</td>\n",
              "      <td>0.06</td>\n",
              "      <td>BSC is a hybrid that follows in the footsteps ...</td>\n",
              "    </tr>\n",
              "    <tr>\n",
              "      <th>45</th>\n",
              "      <td>Blurple</td>\n",
              "      <td>Blue Dream Purple</td>\n",
              "      <td>Hybrid</td>\n",
              "      <td>4.1</td>\n",
              "      <td>38.0</td>\n",
              "      <td>25.0</td>\n",
              "      <td>Relaxed</td>\n",
              "      <td>0.56</td>\n",
              "      <td>Happy</td>\n",
              "      <td>0.52</td>\n",
              "      <td>Euphoric</td>\n",
              "      <td>0.44</td>\n",
              "      <td>Hungry</td>\n",
              "      <td>0.36</td>\n",
              "      <td>Focused</td>\n",
              "      <td>0.28</td>\n",
              "      <td>Stress</td>\n",
              "      <td>0.28</td>\n",
              "      <td>Anxiety</td>\n",
              "      <td>0.24</td>\n",
              "      <td>Nausea</td>\n",
              "      <td>0.20</td>\n",
              "      <td>Pain</td>\n",
              "      <td>0.20</td>\n",
              "      <td>Depression</td>\n",
              "      <td>0.16</td>\n",
              "      <td>Dry mouth</td>\n",
              "      <td>0.24</td>\n",
              "      <td>Anxious</td>\n",
              "      <td>0.08</td>\n",
              "      <td>Dizzy</td>\n",
              "      <td>0.08</td>\n",
              "      <td>Dry eyes</td>\n",
              "      <td>0.08</td>\n",
              "      <td>Headache</td>\n",
              "      <td>0.08</td>\n",
              "      <td>Blurple, also known as Blue Dream Purple, is a...</td>\n",
              "    </tr>\n",
              "    <tr>\n",
              "      <th>47</th>\n",
              "      <td>Blues</td>\n",
              "      <td>Livers, UK Blues</td>\n",
              "      <td>Hybrid</td>\n",
              "      <td>3.8</td>\n",
              "      <td>36.0</td>\n",
              "      <td>24.0</td>\n",
              "      <td>Happy</td>\n",
              "      <td>0.66</td>\n",
              "      <td>Relaxed</td>\n",
              "      <td>0.62</td>\n",
              "      <td>Sleepy</td>\n",
              "      <td>0.45</td>\n",
              "      <td>Talkative</td>\n",
              "      <td>0.45</td>\n",
              "      <td>Uplifted</td>\n",
              "      <td>0.41</td>\n",
              "      <td>Pain</td>\n",
              "      <td>0.29</td>\n",
              "      <td>Stress</td>\n",
              "      <td>0.29</td>\n",
              "      <td>Anxiety</td>\n",
              "      <td>0.29</td>\n",
              "      <td>Depression</td>\n",
              "      <td>0.25</td>\n",
              "      <td>Headaches</td>\n",
              "      <td>0.20</td>\n",
              "      <td>Dry mouth</td>\n",
              "      <td>0.45</td>\n",
              "      <td>Dizzy</td>\n",
              "      <td>0.12</td>\n",
              "      <td>Dry eyes</td>\n",
              "      <td>0.12</td>\n",
              "      <td>Paranoid</td>\n",
              "      <td>0.12</td>\n",
              "      <td>Headache</td>\n",
              "      <td>0.08</td>\n",
              "      <td>Blues, also known as “Livers,” is a famous hyb...</td>\n",
              "    </tr>\n",
              "    <tr>\n",
              "      <th>52</th>\n",
              "      <td>Bubba OG</td>\n",
              "      <td>Bubba OG Kush</td>\n",
              "      <td>Indica</td>\n",
              "      <td>4.3</td>\n",
              "      <td>310.0</td>\n",
              "      <td>207.0</td>\n",
              "      <td>Relaxed</td>\n",
              "      <td>0.69</td>\n",
              "      <td>Happy</td>\n",
              "      <td>0.51</td>\n",
              "      <td>Sleepy</td>\n",
              "      <td>0.49</td>\n",
              "      <td>Euphoric</td>\n",
              "      <td>0.40</td>\n",
              "      <td>Hungry</td>\n",
              "      <td>0.38</td>\n",
              "      <td>Stress</td>\n",
              "      <td>0.38</td>\n",
              "      <td>Pain</td>\n",
              "      <td>0.31</td>\n",
              "      <td>Insomnia</td>\n",
              "      <td>0.30</td>\n",
              "      <td>Anxiety</td>\n",
              "      <td>0.28</td>\n",
              "      <td>Depression</td>\n",
              "      <td>0.21</td>\n",
              "      <td>Dry mouth</td>\n",
              "      <td>0.29</td>\n",
              "      <td>Dry eyes</td>\n",
              "      <td>0.18</td>\n",
              "      <td>Dizzy</td>\n",
              "      <td>0.06</td>\n",
              "      <td>Paranoid</td>\n",
              "      <td>0.04</td>\n",
              "      <td>Headache</td>\n",
              "      <td>0.01</td>\n",
              "      <td>Canadian breeders at Dr. Greenthumb Seeds cros...</td>\n",
              "    </tr>\n",
              "  </tbody>\n",
              "</table>\n",
              "</div>"
            ],
            "text/plain": [
              "               strain  ...                                        description\n",
              "0                 707  ...  This strain emerged from the Humboldt County, ...\n",
              "42  Boy Scout Cookies  ...  BSC is a hybrid that follows in the footsteps ...\n",
              "45            Blurple  ...  Blurple, also known as Blue Dream Purple, is a...\n",
              "47              Blues  ...  Blues, also known as “Livers,” is a famous hyb...\n",
              "52           Bubba OG  ...  Canadian breeders at Dr. Greenthumb Seeds cros...\n",
              "\n",
              "[5 rows x 37 columns]"
            ]
          },
          "metadata": {
            "tags": []
          },
          "execution_count": 226
        }
      ]
    },
    {
      "cell_type": "code",
      "metadata": {
        "id": "q9zer66JQPOh",
        "colab_type": "code",
        "colab": {}
      },
      "source": [
        "# Combine feelings into one column for one hot encoding\n",
        "\n",
        "leafly['feelings'] = leafly['feeling_1'] + ',' + leafly['feeling_2'] + ',' + leafly['feeling_3'] + ',' + leafly['feeling_4'] + ',' + leafly['feeling_5']"
      ],
      "execution_count": 227,
      "outputs": []
    },
    {
      "cell_type": "code",
      "metadata": {
        "id": "_WLrGw91Q6Er",
        "colab_type": "code",
        "colab": {
          "base_uri": "https://localhost:8080/",
          "height": 221
        },
        "outputId": "d64de616-bb3a-4794-cd1d-c79a37ffa1b0"
      },
      "source": [
        "# Check feelings\n",
        "\n",
        "leafly['feelings']"
      ],
      "execution_count": 228,
      "outputs": [
        {
          "output_type": "execute_result",
          "data": {
            "text/plain": [
              "0       Happy,Euphoric,Creative,Relaxed,Uplifted\n",
              "42        Happy,Relaxed,Euphoric,Hungry,Uplifted\n",
              "45         Relaxed,Happy,Euphoric,Hungry,Focused\n",
              "47       Happy,Relaxed,Sleepy,Talkative,Uplifted\n",
              "52          Relaxed,Happy,Sleepy,Euphoric,Hungry\n",
              "                          ...                   \n",
              "3341      Relaxed,Happy,Euphoric,Sleepy,Uplifted\n",
              "3364    Relaxed,Euphoric,Uplifted,Happy,Creative\n",
              "3370      Relaxed,Euphoric,Happy,Uplifted,Sleepy\n",
              "3415      Happy,Relaxed,Euphoric,Uplifted,Hungry\n",
              "3434    Happy,Energetic,Relaxed,Focused,Uplifted\n",
              "Name: feelings, Length: 311, dtype: object"
            ]
          },
          "metadata": {
            "tags": []
          },
          "execution_count": 228
        }
      ]
    },
    {
      "cell_type": "code",
      "metadata": {
        "id": "5N7MMpudR5bx",
        "colab_type": "code",
        "colab": {}
      },
      "source": [
        "# Combine helps into one column for one hot encoding\n",
        "\n",
        "leafly['helps'] = leafly['helps_1'] + ',' + leafly['helps_2'] + ',' + leafly['helps_3'] + ',' + leafly['helps_4'] + ',' + leafly['helps_5']"
      ],
      "execution_count": 229,
      "outputs": []
    },
    {
      "cell_type": "code",
      "metadata": {
        "id": "r_1pE_5ESa2e",
        "colab_type": "code",
        "colab": {
          "base_uri": "https://localhost:8080/",
          "height": 221
        },
        "outputId": "90c61fb9-ccf6-454f-858f-667451af4783"
      },
      "source": [
        "# Check helps\n",
        "\n",
        "leafly['helps']"
      ],
      "execution_count": 230,
      "outputs": [
        {
          "output_type": "execute_result",
          "data": {
            "text/plain": [
              "0                 Stress,Pain,Anxiety,Depression,Nausea\n",
              "42      Depression,Stress,Pain,Anxiety,Lack of appetite\n",
              "45                Stress,Anxiety,Nausea,Pain,Depression\n",
              "47             Pain,Stress,Anxiety,Depression,Headaches\n",
              "52              Stress,Pain,Insomnia,Anxiety,Depression\n",
              "                             ...                       \n",
              "3341            Stress,Anxiety,Pain,Depression,Insomnia\n",
              "3364             Pain,Stress,Depression,Anxiety,Fatigue\n",
              "3370            Stress,Anxiety,Depression,Insomnia,Pain\n",
              "3415            Stress,Pain,Anxiety,Depression,Insomnia\n",
              "3434             Stress,Depression,Pain,Fatigue,Anxiety\n",
              "Name: helps, Length: 311, dtype: object"
            ]
          },
          "metadata": {
            "tags": []
          },
          "execution_count": 230
        }
      ]
    },
    {
      "cell_type": "code",
      "metadata": {
        "id": "OA5NIAh4SkHi",
        "colab_type": "code",
        "colab": {}
      },
      "source": [
        "# Combine feelings and helps columnbs\n",
        "\n",
        "leafly[\"feelings_helps\"] = leafly['feelings'] + ',' + leafly['helps'] "
      ],
      "execution_count": 231,
      "outputs": []
    },
    {
      "cell_type": "code",
      "metadata": {
        "id": "KnD1S524S6VS",
        "colab_type": "code",
        "colab": {
          "base_uri": "https://localhost:8080/",
          "height": 221
        },
        "outputId": "a2eef28e-46ae-404d-cd42-14e6df9ff30c"
      },
      "source": [
        "# Check feelings_helps\n",
        "\n",
        "leafly['feelings_helps']"
      ],
      "execution_count": 232,
      "outputs": [
        {
          "output_type": "execute_result",
          "data": {
            "text/plain": [
              "0       Happy,Euphoric,Creative,Relaxed,Uplifted,Stres...\n",
              "42      Happy,Relaxed,Euphoric,Hungry,Uplifted,Depress...\n",
              "45      Relaxed,Happy,Euphoric,Hungry,Focused,Stress,A...\n",
              "47      Happy,Relaxed,Sleepy,Talkative,Uplifted,Pain,S...\n",
              "52      Relaxed,Happy,Sleepy,Euphoric,Hungry,Stress,Pa...\n",
              "                              ...                        \n",
              "3341    Relaxed,Happy,Euphoric,Sleepy,Uplifted,Stress,...\n",
              "3364    Relaxed,Euphoric,Uplifted,Happy,Creative,Pain,...\n",
              "3370    Relaxed,Euphoric,Happy,Uplifted,Sleepy,Stress,...\n",
              "3415    Happy,Relaxed,Euphoric,Uplifted,Hungry,Stress,...\n",
              "3434    Happy,Energetic,Relaxed,Focused,Uplifted,Stres...\n",
              "Name: feelings_helps, Length: 311, dtype: object"
            ]
          },
          "metadata": {
            "tags": []
          },
          "execution_count": 232
        }
      ]
    },
    {
      "cell_type": "markdown",
      "metadata": {
        "id": "Btman3EDE-Dj",
        "colab_type": "text"
      },
      "source": [
        "# Machine Learning Baseline - Neural Network"
      ]
    },
    {
      "cell_type": "code",
      "metadata": {
        "id": "vRoWo5iyE88Z",
        "colab_type": "code",
        "colab": {}
      },
      "source": [
        "# Imports\n",
        "\n",
        "from sklearn.model_selection import train_test_split\n",
        "import pandas as pd\n",
        "import numpy as np\n",
        "import tensorflow as tf\n",
        "from tensorflow.keras.models import Sequential\n",
        "from tensorflow.keras.layers import Dense, Embedding, Input\n",
        "from tensorflow.keras import layers\n",
        "from sklearn.feature_extraction.text import CountVectorizer, TfidfVectorizer\n",
        "from tensorflow.keras.layers import LSTM\n",
        "from sklearn.model_selection import train_test_split\n",
        "from sklearn.metrics import accuracy_score\n",
        "from sklearn import preprocessing\n",
        "import pickle"
      ],
      "execution_count": 233,
      "outputs": []
    },
    {
      "cell_type": "code",
      "metadata": {
        "id": "7r5wg0HFFEgy",
        "colab_type": "code",
        "colab": {}
      },
      "source": [
        "# Instantiate feelings_helps column for training\n",
        "\n",
        "X = leafly['feelings_helps']"
      ],
      "execution_count": 234,
      "outputs": []
    },
    {
      "cell_type": "code",
      "metadata": {
        "id": "aqTylQVLHhTc",
        "colab_type": "code",
        "colab": {
          "base_uri": "https://localhost:8080/",
          "height": 34
        },
        "outputId": "7169fe7e-5716-4165-b160-34df0dbd39ed"
      },
      "source": [
        "# Check x shape\n",
        "\n",
        "X.shape"
      ],
      "execution_count": 235,
      "outputs": [
        {
          "output_type": "execute_result",
          "data": {
            "text/plain": [
              "(311,)"
            ]
          },
          "metadata": {
            "tags": []
          },
          "execution_count": 235
        }
      ]
    },
    {
      "cell_type": "code",
      "metadata": {
        "id": "XUY87GteNg7F",
        "colab_type": "code",
        "colab": {}
      },
      "source": [
        "# Instantiate strain for target\n",
        "\n",
        "y = leafly['strain']"
      ],
      "execution_count": 236,
      "outputs": []
    },
    {
      "cell_type": "code",
      "metadata": {
        "id": "P0FciLpgOGab",
        "colab_type": "code",
        "colab": {
          "base_uri": "https://localhost:8080/",
          "height": 34
        },
        "outputId": "d08239b4-9602-446e-f830-5d9ee65c75cd"
      },
      "source": [
        "# Check y shape\n",
        "\n",
        "y.shape"
      ],
      "execution_count": 237,
      "outputs": [
        {
          "output_type": "execute_result",
          "data": {
            "text/plain": [
              "(311,)"
            ]
          },
          "metadata": {
            "tags": []
          },
          "execution_count": 237
        }
      ]
    },
    {
      "cell_type": "code",
      "metadata": {
        "id": "N_v3b7nnOIbP",
        "colab_type": "code",
        "colab": {
          "base_uri": "https://localhost:8080/",
          "height": 221
        },
        "outputId": "d8aa04ea-91f7-4680-e8c6-01fbc0b4748d"
      },
      "source": [
        "# Check y\n",
        "\n",
        "print(y)"
      ],
      "execution_count": 238,
      "outputs": [
        {
          "output_type": "stream",
          "text": [
            "0                     707\n",
            "42      Boy Scout Cookies\n",
            "45                Blurple\n",
            "47                  Blues\n",
            "52               Bubba OG\n",
            "              ...        \n",
            "3341              True OG\n",
            "3364        Triple Diesel\n",
            "3370        Triangle Kush\n",
            "3415           Sweet Kush\n",
            "3434                 Thai\n",
            "Name: strain, Length: 311, dtype: object\n"
          ],
          "name": "stdout"
        }
      ]
    },
    {
      "cell_type": "code",
      "metadata": {
        "id": "HiuEI2CcOUPV",
        "colab_type": "code",
        "colab": {}
      },
      "source": [
        "# Since the neural network cannot take in straight text, vectorize X data\n",
        "\n",
        "# Create the transformer\n",
        "\n",
        "vect = CountVectorizer()\n",
        "\n",
        "# Build vocab\n",
        "\n",
        "vect.fit(X)\n",
        "\n",
        "# Transform text\n",
        "\n",
        "dtm = vect.transform(X)"
      ],
      "execution_count": 239,
      "outputs": []
    },
    {
      "cell_type": "code",
      "metadata": {
        "id": "Joga-Te1Oa4a",
        "colab_type": "code",
        "colab": {
          "base_uri": "https://localhost:8080/",
          "height": 54
        },
        "outputId": "68f581b5-6483-406f-cf09-5b405a73ce1d"
      },
      "source": [
        "# Checking to see that the feature names are correct\n",
        "\n",
        "print(vect.get_feature_names())"
      ],
      "execution_count": 240,
      "outputs": [
        {
          "output_type": "stream",
          "text": [
            "['add', 'adhd', 'anxiety', 'appetite', 'aroused', 'arthritis', 'bipolar', 'cramps', 'creative', 'depression', 'disorder', 'energetic', 'euphoric', 'eye', 'fatigue', 'fibromyalgia', 'focused', 'giggly', 'happy', 'headaches', 'hungry', 'inflammation', 'insomnia', 'lack', 'migraines', 'muscle', 'nausea', 'of', 'pain', 'pressure', 'ptsd', 'relaxed', 'sleepy', 'spasms', 'stress', 'talkative', 'tingly', 'uplifted']\n"
          ],
          "name": "stdout"
        }
      ]
    },
    {
      "cell_type": "code",
      "metadata": {
        "id": "gw52Wi1VObBC",
        "colab_type": "code",
        "colab": {}
      },
      "source": [
        "# Now I am going to use todense() to turn X into a matrix\n",
        "\n",
        "X = dtm.todense()"
      ],
      "execution_count": 241,
      "outputs": []
    },
    {
      "cell_type": "code",
      "metadata": {
        "id": "p-GwggBFOp5k",
        "colab_type": "code",
        "colab": {
          "base_uri": "https://localhost:8080/",
          "height": 136
        },
        "outputId": "38aba6bb-3755-4095-8890-a2de5825ff9a"
      },
      "source": [
        "# Make sure it turned into a matrix correctly\n",
        "\n",
        "X"
      ],
      "execution_count": 242,
      "outputs": [
        {
          "output_type": "execute_result",
          "data": {
            "text/plain": [
              "matrix([[0, 0, 1, ..., 0, 0, 1],\n",
              "        [0, 0, 1, ..., 0, 0, 1],\n",
              "        [0, 0, 1, ..., 0, 0, 0],\n",
              "        ...,\n",
              "        [0, 0, 1, ..., 0, 0, 1],\n",
              "        [0, 0, 1, ..., 0, 0, 1],\n",
              "        [0, 0, 1, ..., 0, 0, 1]])"
            ]
          },
          "metadata": {
            "tags": []
          },
          "execution_count": 242
        }
      ]
    },
    {
      "cell_type": "code",
      "metadata": {
        "id": "Dg6s40E9OqBw",
        "colab_type": "code",
        "colab": {}
      },
      "source": [
        "# Create label encoder for y\n",
        "\n",
        "# Label encoder turns y into a numeric representation of the data\n",
        "\n",
        "le = preprocessing.LabelEncoder()\n",
        "y = le.fit_transform(y)"
      ],
      "execution_count": 243,
      "outputs": []
    },
    {
      "cell_type": "code",
      "metadata": {
        "id": "s5IVZ2eaPWL6",
        "colab_type": "code",
        "colab": {
          "base_uri": "https://localhost:8080/",
          "height": 425
        },
        "outputId": "38fb379b-3245-4957-d42a-2f36f35c635a"
      },
      "source": [
        "# Check y is an array\n",
        "\n",
        "y"
      ],
      "execution_count": 244,
      "outputs": [
        {
          "output_type": "execute_result",
          "data": {
            "text/plain": [
              "array([  4,  48,  47,  46,  49,  39,  37,  38,  36,  35,  34,  33,  32,\n",
              "        31,  27,  26,  25,  23,  24,  30,  28,  29,  21,  20,  45,  44,\n",
              "        42,  43,  41,  40,  22,  14,  15,  13,  17,  16,  18,   8,   7,\n",
              "        12,  11,   6,   5,  10,   9,   3,   1,   2,   0,  19,  61,  67,\n",
              "        66,  80,  98,  95,  97,  96,  94,  93,  92,  91,  90,  85,  84,\n",
              "        76,  77,  89,  88,  86,  87,  83,  81,  82,  71,  70,  69,  68,\n",
              "        79,  78,  75,  74,  73,  65,  72,  65,  64,  62,  63,  58,  59,\n",
              "        57,  52,  51,  50,  60,  56,  55,  54,  53, 144, 131, 130, 129,\n",
              "       135, 133, 134, 132, 125, 124, 122, 123, 127, 128, 143, 142, 141,\n",
              "       140, 139, 138, 137, 136, 126, 117, 113, 121, 119, 120, 118, 112,\n",
              "       111, 109, 110, 101, 102, 100, 108, 107, 106, 116, 115, 114, 105,\n",
              "       103, 104,  99, 156, 178, 177, 174, 173, 172, 171, 170, 176, 169,\n",
              "       175, 167, 165, 168, 166, 164, 163, 158, 157, 162, 161, 160, 159,\n",
              "       151, 149, 150, 148, 155, 153, 154, 152, 147, 146, 145, 219, 216,\n",
              "       238, 237, 236, 235, 234, 233, 232, 227, 228, 225, 226, 224, 231,\n",
              "       230, 229, 223, 222, 220, 221, 215, 214, 213, 218, 217, 211, 210,\n",
              "       209, 208, 207, 212, 201, 200, 199, 197, 198, 196, 195, 194, 206,\n",
              "       205, 202, 203, 204, 187, 188, 186, 185, 184, 181, 179, 183, 182,\n",
              "       180, 190, 189, 193, 192, 191, 261, 262, 260, 259, 283, 284, 282,\n",
              "       279, 278, 281, 280, 275, 274, 273, 272, 271, 265, 264, 263, 270,\n",
              "       276, 277, 255, 254, 269, 268, 267, 266, 251, 253, 252, 249, 250,\n",
              "       248, 258, 257, 256, 243, 242, 241, 247, 246, 245, 244, 240, 239,\n",
              "       298, 303, 302, 301, 300, 297, 308, 309, 307, 299, 306, 305, 304,\n",
              "       290, 289, 288, 296, 294, 295, 286, 293, 292, 291, 285, 287])"
            ]
          },
          "metadata": {
            "tags": []
          },
          "execution_count": 244
        }
      ]
    },
    {
      "cell_type": "code",
      "metadata": {
        "id": "rJ4gtHmjOqKY",
        "colab_type": "code",
        "colab": {
          "base_uri": "https://localhost:8080/",
          "height": 34
        },
        "outputId": "9033aa6a-ef37-4cf9-cf00-24cd5cff40d7"
      },
      "source": [
        "# Check X shape\n",
        "\n",
        "X.shape"
      ],
      "execution_count": 245,
      "outputs": [
        {
          "output_type": "execute_result",
          "data": {
            "text/plain": [
              "(311, 38)"
            ]
          },
          "metadata": {
            "tags": []
          },
          "execution_count": 245
        }
      ]
    },
    {
      "cell_type": "code",
      "metadata": {
        "id": "kjhK-eAoOrj_",
        "colab_type": "code",
        "colab": {
          "base_uri": "https://localhost:8080/",
          "height": 34
        },
        "outputId": "625e4de5-4202-400e-aa13-339d2a313843"
      },
      "source": [
        "# Check y shape\n",
        "\n",
        "y.shape"
      ],
      "execution_count": 246,
      "outputs": [
        {
          "output_type": "execute_result",
          "data": {
            "text/plain": [
              "(311,)"
            ]
          },
          "metadata": {
            "tags": []
          },
          "execution_count": 246
        }
      ]
    },
    {
      "cell_type": "code",
      "metadata": {
        "id": "DK3De_CSOrsq",
        "colab_type": "code",
        "colab": {}
      },
      "source": [
        "# Create Neural Network for baseline model\n",
        "\n",
        "# Customized optimizer\n",
        "\n",
        "# AdamamsGrad is using a super low learning_rate which means the changes between epochs will be smaller\n",
        "\n",
        "AdamamsGrad = tf.keras.optimizers.Adam(\n",
        "    learning_rate=0.0001,\n",
        "    amsgrad=False,\n",
        ")"
      ],
      "execution_count": 247,
      "outputs": []
    },
    {
      "cell_type": "code",
      "metadata": {
        "id": "YcCaAu4POr35",
        "colab_type": "code",
        "colab": {
          "base_uri": "https://localhost:8080/",
          "height": 289
        },
        "outputId": "1a533d6f-0fa2-4ae8-aa84-1c6e30e0256a"
      },
      "source": [
        "# Instantiating Sequential model type and create model structure\n",
        "\n",
        "\n",
        "model = Sequential()\n",
        "\n",
        "model.add(Input(38))\n",
        "model.add(Dense(64, activation='relu'))\n",
        "model.add(Dense(128, activation='relu'))\n",
        "model.add(Dense(256, activation='relu'))\n",
        "model.add(Dense(2350, activation='softmax'))\n",
        "\n",
        "model.compile(loss='sparse_categorical_crossentropy',\n",
        "              optimizer=AdamamsGrad, \n",
        "              metrics=['accuracy'])\n",
        "\n",
        "model.summary()"
      ],
      "execution_count": 248,
      "outputs": [
        {
          "output_type": "stream",
          "text": [
            "Model: \"sequential_7\"\n",
            "_________________________________________________________________\n",
            "Layer (type)                 Output Shape              Param #   \n",
            "=================================================================\n",
            "dense_29 (Dense)             (None, 64)                2496      \n",
            "_________________________________________________________________\n",
            "dense_30 (Dense)             (None, 128)               8320      \n",
            "_________________________________________________________________\n",
            "dense_31 (Dense)             (None, 256)               33024     \n",
            "_________________________________________________________________\n",
            "dense_32 (Dense)             (None, 2350)              603950    \n",
            "=================================================================\n",
            "Total params: 647,790\n",
            "Trainable params: 647,790\n",
            "Non-trainable params: 0\n",
            "_________________________________________________________________\n"
          ],
          "name": "stdout"
        }
      ]
    },
    {
      "cell_type": "code",
      "metadata": {
        "id": "2MRP0MktUZnp",
        "colab_type": "code",
        "colab": {}
      },
      "source": [
        "# Fit model and get baseline accuracy\n",
        "\n",
        "#model.fit(X,y, epochs=1000)\n",
        "\n",
        "#  0s 8ms/step - loss: 2.0142 - accuracy: 0.3505"
      ],
      "execution_count": 249,
      "outputs": []
    },
    {
      "cell_type": "markdown",
      "metadata": {
        "id": "cuTgNF0Q1OWo",
        "colab_type": "text"
      },
      "source": [
        "## Machine Learning Recommendation Model - Nearest Neighbors"
      ]
    },
    {
      "cell_type": "code",
      "metadata": {
        "id": "gIYSiDHG1Xnw",
        "colab_type": "code",
        "colab": {}
      },
      "source": [
        "# Imports\n",
        "\n",
        "import pandas as pd\n",
        "import re\n",
        "import string\n",
        "import matplotlib.pyplot as plt\n",
        "import numpy as np\n",
        "import spacy\n",
        "from sklearn.feature_extraction.text import CountVectorizer, TfidfVectorizer\n",
        "from sklearn.neighbors import NearestNeighbors"
      ],
      "execution_count": 250,
      "outputs": []
    },
    {
      "cell_type": "code",
      "metadata": {
        "id": "TkmN6ZHwzShj",
        "colab_type": "code",
        "colab": {
          "base_uri": "https://localhost:8080/",
          "height": 513
        },
        "outputId": "cc00926d-b339-4ae1-d01f-7abe7a35e8bf"
      },
      "source": [
        "leafly.head()"
      ],
      "execution_count": 251,
      "outputs": [
        {
          "output_type": "execute_result",
          "data": {
            "text/html": [
              "<div>\n",
              "<style scoped>\n",
              "    .dataframe tbody tr th:only-of-type {\n",
              "        vertical-align: middle;\n",
              "    }\n",
              "\n",
              "    .dataframe tbody tr th {\n",
              "        vertical-align: top;\n",
              "    }\n",
              "\n",
              "    .dataframe thead th {\n",
              "        text-align: right;\n",
              "    }\n",
              "</style>\n",
              "<table border=\"1\" class=\"dataframe\">\n",
              "  <thead>\n",
              "    <tr style=\"text-align: right;\">\n",
              "      <th></th>\n",
              "      <th>strain</th>\n",
              "      <th>aka</th>\n",
              "      <th>type</th>\n",
              "      <th>rating</th>\n",
              "      <th>num_reviews</th>\n",
              "      <th>num_effects_reports</th>\n",
              "      <th>feeling_1</th>\n",
              "      <th>feeling_1_pct</th>\n",
              "      <th>feeling_2</th>\n",
              "      <th>feeling_2_pct</th>\n",
              "      <th>feeling_3</th>\n",
              "      <th>feeling_3_pct</th>\n",
              "      <th>feeling_4</th>\n",
              "      <th>feeling_4_pct</th>\n",
              "      <th>feeling_5</th>\n",
              "      <th>feeling_5_pct</th>\n",
              "      <th>helps_1</th>\n",
              "      <th>helps_1_pct</th>\n",
              "      <th>helps_2</th>\n",
              "      <th>helps_2_pct</th>\n",
              "      <th>helps_3</th>\n",
              "      <th>helps_3_pct</th>\n",
              "      <th>helps_4</th>\n",
              "      <th>helps_4_pct</th>\n",
              "      <th>helps_5</th>\n",
              "      <th>helps_5_pct</th>\n",
              "      <th>negative_1</th>\n",
              "      <th>negative_1_pct</th>\n",
              "      <th>negative_2</th>\n",
              "      <th>negative_2_pct</th>\n",
              "      <th>negative_3</th>\n",
              "      <th>negative_3_pct</th>\n",
              "      <th>negative_4</th>\n",
              "      <th>negative_4_pct</th>\n",
              "      <th>negative_5</th>\n",
              "      <th>negative_5_pct</th>\n",
              "      <th>description</th>\n",
              "      <th>feelings</th>\n",
              "      <th>helps</th>\n",
              "      <th>feelings_helps</th>\n",
              "    </tr>\n",
              "  </thead>\n",
              "  <tbody>\n",
              "    <tr>\n",
              "      <th>0</th>\n",
              "      <td>707</td>\n",
              "      <td>707 Headband</td>\n",
              "      <td>Hybrid</td>\n",
              "      <td>4.3</td>\n",
              "      <td>404.0</td>\n",
              "      <td>290.0</td>\n",
              "      <td>Happy</td>\n",
              "      <td>0.50</td>\n",
              "      <td>Euphoric</td>\n",
              "      <td>0.48</td>\n",
              "      <td>Creative</td>\n",
              "      <td>0.44</td>\n",
              "      <td>Relaxed</td>\n",
              "      <td>0.43</td>\n",
              "      <td>Uplifted</td>\n",
              "      <td>0.43</td>\n",
              "      <td>Stress</td>\n",
              "      <td>0.44</td>\n",
              "      <td>Pain</td>\n",
              "      <td>0.36</td>\n",
              "      <td>Anxiety</td>\n",
              "      <td>0.33</td>\n",
              "      <td>Depression</td>\n",
              "      <td>0.30</td>\n",
              "      <td>Nausea</td>\n",
              "      <td>0.18</td>\n",
              "      <td>Dry mouth</td>\n",
              "      <td>0.33</td>\n",
              "      <td>Dry eyes</td>\n",
              "      <td>0.17</td>\n",
              "      <td>Dizzy</td>\n",
              "      <td>0.07</td>\n",
              "      <td>Headache</td>\n",
              "      <td>0.07</td>\n",
              "      <td>Paranoid</td>\n",
              "      <td>0.07</td>\n",
              "      <td>This strain emerged from the Humboldt County, ...</td>\n",
              "      <td>Happy,Euphoric,Creative,Relaxed,Uplifted</td>\n",
              "      <td>Stress,Pain,Anxiety,Depression,Nausea</td>\n",
              "      <td>Happy,Euphoric,Creative,Relaxed,Uplifted,Stres...</td>\n",
              "    </tr>\n",
              "    <tr>\n",
              "      <th>42</th>\n",
              "      <td>Boy Scout Cookies</td>\n",
              "      <td>BSC, Boy Scout</td>\n",
              "      <td>Hybrid</td>\n",
              "      <td>4.6</td>\n",
              "      <td>53.0</td>\n",
              "      <td>31.0</td>\n",
              "      <td>Happy</td>\n",
              "      <td>0.77</td>\n",
              "      <td>Relaxed</td>\n",
              "      <td>0.74</td>\n",
              "      <td>Euphoric</td>\n",
              "      <td>0.54</td>\n",
              "      <td>Hungry</td>\n",
              "      <td>0.41</td>\n",
              "      <td>Uplifted</td>\n",
              "      <td>0.41</td>\n",
              "      <td>Depression</td>\n",
              "      <td>0.45</td>\n",
              "      <td>Stress</td>\n",
              "      <td>0.45</td>\n",
              "      <td>Pain</td>\n",
              "      <td>0.38</td>\n",
              "      <td>Anxiety</td>\n",
              "      <td>0.38</td>\n",
              "      <td>Lack of appetite</td>\n",
              "      <td>0.25</td>\n",
              "      <td>Dry mouth</td>\n",
              "      <td>0.45</td>\n",
              "      <td>Dry eyes</td>\n",
              "      <td>0.16</td>\n",
              "      <td>Anxious</td>\n",
              "      <td>0.06</td>\n",
              "      <td>Dizzy</td>\n",
              "      <td>0.06</td>\n",
              "      <td>Headache</td>\n",
              "      <td>0.06</td>\n",
              "      <td>BSC is a hybrid that follows in the footsteps ...</td>\n",
              "      <td>Happy,Relaxed,Euphoric,Hungry,Uplifted</td>\n",
              "      <td>Depression,Stress,Pain,Anxiety,Lack of appetite</td>\n",
              "      <td>Happy,Relaxed,Euphoric,Hungry,Uplifted,Depress...</td>\n",
              "    </tr>\n",
              "    <tr>\n",
              "      <th>45</th>\n",
              "      <td>Blurple</td>\n",
              "      <td>Blue Dream Purple</td>\n",
              "      <td>Hybrid</td>\n",
              "      <td>4.1</td>\n",
              "      <td>38.0</td>\n",
              "      <td>25.0</td>\n",
              "      <td>Relaxed</td>\n",
              "      <td>0.56</td>\n",
              "      <td>Happy</td>\n",
              "      <td>0.52</td>\n",
              "      <td>Euphoric</td>\n",
              "      <td>0.44</td>\n",
              "      <td>Hungry</td>\n",
              "      <td>0.36</td>\n",
              "      <td>Focused</td>\n",
              "      <td>0.28</td>\n",
              "      <td>Stress</td>\n",
              "      <td>0.28</td>\n",
              "      <td>Anxiety</td>\n",
              "      <td>0.24</td>\n",
              "      <td>Nausea</td>\n",
              "      <td>0.20</td>\n",
              "      <td>Pain</td>\n",
              "      <td>0.20</td>\n",
              "      <td>Depression</td>\n",
              "      <td>0.16</td>\n",
              "      <td>Dry mouth</td>\n",
              "      <td>0.24</td>\n",
              "      <td>Anxious</td>\n",
              "      <td>0.08</td>\n",
              "      <td>Dizzy</td>\n",
              "      <td>0.08</td>\n",
              "      <td>Dry eyes</td>\n",
              "      <td>0.08</td>\n",
              "      <td>Headache</td>\n",
              "      <td>0.08</td>\n",
              "      <td>Blurple, also known as Blue Dream Purple, is a...</td>\n",
              "      <td>Relaxed,Happy,Euphoric,Hungry,Focused</td>\n",
              "      <td>Stress,Anxiety,Nausea,Pain,Depression</td>\n",
              "      <td>Relaxed,Happy,Euphoric,Hungry,Focused,Stress,A...</td>\n",
              "    </tr>\n",
              "    <tr>\n",
              "      <th>47</th>\n",
              "      <td>Blues</td>\n",
              "      <td>Livers, UK Blues</td>\n",
              "      <td>Hybrid</td>\n",
              "      <td>3.8</td>\n",
              "      <td>36.0</td>\n",
              "      <td>24.0</td>\n",
              "      <td>Happy</td>\n",
              "      <td>0.66</td>\n",
              "      <td>Relaxed</td>\n",
              "      <td>0.62</td>\n",
              "      <td>Sleepy</td>\n",
              "      <td>0.45</td>\n",
              "      <td>Talkative</td>\n",
              "      <td>0.45</td>\n",
              "      <td>Uplifted</td>\n",
              "      <td>0.41</td>\n",
              "      <td>Pain</td>\n",
              "      <td>0.29</td>\n",
              "      <td>Stress</td>\n",
              "      <td>0.29</td>\n",
              "      <td>Anxiety</td>\n",
              "      <td>0.29</td>\n",
              "      <td>Depression</td>\n",
              "      <td>0.25</td>\n",
              "      <td>Headaches</td>\n",
              "      <td>0.20</td>\n",
              "      <td>Dry mouth</td>\n",
              "      <td>0.45</td>\n",
              "      <td>Dizzy</td>\n",
              "      <td>0.12</td>\n",
              "      <td>Dry eyes</td>\n",
              "      <td>0.12</td>\n",
              "      <td>Paranoid</td>\n",
              "      <td>0.12</td>\n",
              "      <td>Headache</td>\n",
              "      <td>0.08</td>\n",
              "      <td>Blues, also known as “Livers,” is a famous hyb...</td>\n",
              "      <td>Happy,Relaxed,Sleepy,Talkative,Uplifted</td>\n",
              "      <td>Pain,Stress,Anxiety,Depression,Headaches</td>\n",
              "      <td>Happy,Relaxed,Sleepy,Talkative,Uplifted,Pain,S...</td>\n",
              "    </tr>\n",
              "    <tr>\n",
              "      <th>52</th>\n",
              "      <td>Bubba OG</td>\n",
              "      <td>Bubba OG Kush</td>\n",
              "      <td>Indica</td>\n",
              "      <td>4.3</td>\n",
              "      <td>310.0</td>\n",
              "      <td>207.0</td>\n",
              "      <td>Relaxed</td>\n",
              "      <td>0.69</td>\n",
              "      <td>Happy</td>\n",
              "      <td>0.51</td>\n",
              "      <td>Sleepy</td>\n",
              "      <td>0.49</td>\n",
              "      <td>Euphoric</td>\n",
              "      <td>0.40</td>\n",
              "      <td>Hungry</td>\n",
              "      <td>0.38</td>\n",
              "      <td>Stress</td>\n",
              "      <td>0.38</td>\n",
              "      <td>Pain</td>\n",
              "      <td>0.31</td>\n",
              "      <td>Insomnia</td>\n",
              "      <td>0.30</td>\n",
              "      <td>Anxiety</td>\n",
              "      <td>0.28</td>\n",
              "      <td>Depression</td>\n",
              "      <td>0.21</td>\n",
              "      <td>Dry mouth</td>\n",
              "      <td>0.29</td>\n",
              "      <td>Dry eyes</td>\n",
              "      <td>0.18</td>\n",
              "      <td>Dizzy</td>\n",
              "      <td>0.06</td>\n",
              "      <td>Paranoid</td>\n",
              "      <td>0.04</td>\n",
              "      <td>Headache</td>\n",
              "      <td>0.01</td>\n",
              "      <td>Canadian breeders at Dr. Greenthumb Seeds cros...</td>\n",
              "      <td>Relaxed,Happy,Sleepy,Euphoric,Hungry</td>\n",
              "      <td>Stress,Pain,Insomnia,Anxiety,Depression</td>\n",
              "      <td>Relaxed,Happy,Sleepy,Euphoric,Hungry,Stress,Pa...</td>\n",
              "    </tr>\n",
              "  </tbody>\n",
              "</table>\n",
              "</div>"
            ],
            "text/plain": [
              "               strain  ...                                     feelings_helps\n",
              "0                 707  ...  Happy,Euphoric,Creative,Relaxed,Uplifted,Stres...\n",
              "42  Boy Scout Cookies  ...  Happy,Relaxed,Euphoric,Hungry,Uplifted,Depress...\n",
              "45            Blurple  ...  Relaxed,Happy,Euphoric,Hungry,Focused,Stress,A...\n",
              "47              Blues  ...  Happy,Relaxed,Sleepy,Talkative,Uplifted,Pain,S...\n",
              "52           Bubba OG  ...  Relaxed,Happy,Sleepy,Euphoric,Hungry,Stress,Pa...\n",
              "\n",
              "[5 rows x 40 columns]"
            ]
          },
          "metadata": {
            "tags": []
          },
          "execution_count": 251
        }
      ]
    },
    {
      "cell_type": "code",
      "metadata": {
        "id": "uZJDJwGJzSpK",
        "colab_type": "code",
        "colab": {}
      },
      "source": [
        "# Remove commas and add spaces\n",
        "\n",
        "leafly['feelings'] = leafly['feelings'].str.replace(',', ' ')\n",
        "leafly['helps']= leafly['helps'].str.replace(',',' ')"
      ],
      "execution_count": 252,
      "outputs": []
    },
    {
      "cell_type": "code",
      "metadata": {
        "id": "2CKPhbmKzSxe",
        "colab_type": "code",
        "colab": {}
      },
      "source": [
        "# Combine all text columns into one\n",
        "\n",
        "leafly['feelings_helps_description'] = leafly[\"feelings\"] + ' ' + leafly[\"helps\"] + ' ' + leafly['description']"
      ],
      "execution_count": 253,
      "outputs": []
    },
    {
      "cell_type": "code",
      "metadata": {
        "id": "XFf3eouszS5S",
        "colab_type": "code",
        "colab": {
          "base_uri": "https://localhost:8080/",
          "height": 581
        },
        "outputId": "a1b04bea-9174-4ec9-e75d-496cb1ba7004"
      },
      "source": [
        "# Verify new column\n",
        "\n",
        "leafly.head()"
      ],
      "execution_count": 254,
      "outputs": [
        {
          "output_type": "execute_result",
          "data": {
            "text/html": [
              "<div>\n",
              "<style scoped>\n",
              "    .dataframe tbody tr th:only-of-type {\n",
              "        vertical-align: middle;\n",
              "    }\n",
              "\n",
              "    .dataframe tbody tr th {\n",
              "        vertical-align: top;\n",
              "    }\n",
              "\n",
              "    .dataframe thead th {\n",
              "        text-align: right;\n",
              "    }\n",
              "</style>\n",
              "<table border=\"1\" class=\"dataframe\">\n",
              "  <thead>\n",
              "    <tr style=\"text-align: right;\">\n",
              "      <th></th>\n",
              "      <th>strain</th>\n",
              "      <th>aka</th>\n",
              "      <th>type</th>\n",
              "      <th>rating</th>\n",
              "      <th>num_reviews</th>\n",
              "      <th>num_effects_reports</th>\n",
              "      <th>feeling_1</th>\n",
              "      <th>feeling_1_pct</th>\n",
              "      <th>feeling_2</th>\n",
              "      <th>feeling_2_pct</th>\n",
              "      <th>feeling_3</th>\n",
              "      <th>feeling_3_pct</th>\n",
              "      <th>feeling_4</th>\n",
              "      <th>feeling_4_pct</th>\n",
              "      <th>feeling_5</th>\n",
              "      <th>feeling_5_pct</th>\n",
              "      <th>helps_1</th>\n",
              "      <th>helps_1_pct</th>\n",
              "      <th>helps_2</th>\n",
              "      <th>helps_2_pct</th>\n",
              "      <th>helps_3</th>\n",
              "      <th>helps_3_pct</th>\n",
              "      <th>helps_4</th>\n",
              "      <th>helps_4_pct</th>\n",
              "      <th>helps_5</th>\n",
              "      <th>helps_5_pct</th>\n",
              "      <th>negative_1</th>\n",
              "      <th>negative_1_pct</th>\n",
              "      <th>negative_2</th>\n",
              "      <th>negative_2_pct</th>\n",
              "      <th>negative_3</th>\n",
              "      <th>negative_3_pct</th>\n",
              "      <th>negative_4</th>\n",
              "      <th>negative_4_pct</th>\n",
              "      <th>negative_5</th>\n",
              "      <th>negative_5_pct</th>\n",
              "      <th>description</th>\n",
              "      <th>feelings</th>\n",
              "      <th>helps</th>\n",
              "      <th>feelings_helps</th>\n",
              "      <th>feelings_helps_description</th>\n",
              "    </tr>\n",
              "  </thead>\n",
              "  <tbody>\n",
              "    <tr>\n",
              "      <th>0</th>\n",
              "      <td>707</td>\n",
              "      <td>707 Headband</td>\n",
              "      <td>Hybrid</td>\n",
              "      <td>4.3</td>\n",
              "      <td>404.0</td>\n",
              "      <td>290.0</td>\n",
              "      <td>Happy</td>\n",
              "      <td>0.50</td>\n",
              "      <td>Euphoric</td>\n",
              "      <td>0.48</td>\n",
              "      <td>Creative</td>\n",
              "      <td>0.44</td>\n",
              "      <td>Relaxed</td>\n",
              "      <td>0.43</td>\n",
              "      <td>Uplifted</td>\n",
              "      <td>0.43</td>\n",
              "      <td>Stress</td>\n",
              "      <td>0.44</td>\n",
              "      <td>Pain</td>\n",
              "      <td>0.36</td>\n",
              "      <td>Anxiety</td>\n",
              "      <td>0.33</td>\n",
              "      <td>Depression</td>\n",
              "      <td>0.30</td>\n",
              "      <td>Nausea</td>\n",
              "      <td>0.18</td>\n",
              "      <td>Dry mouth</td>\n",
              "      <td>0.33</td>\n",
              "      <td>Dry eyes</td>\n",
              "      <td>0.17</td>\n",
              "      <td>Dizzy</td>\n",
              "      <td>0.07</td>\n",
              "      <td>Headache</td>\n",
              "      <td>0.07</td>\n",
              "      <td>Paranoid</td>\n",
              "      <td>0.07</td>\n",
              "      <td>This strain emerged from the Humboldt County, ...</td>\n",
              "      <td>Happy Euphoric Creative Relaxed Uplifted</td>\n",
              "      <td>Stress Pain Anxiety Depression Nausea</td>\n",
              "      <td>Happy,Euphoric,Creative,Relaxed,Uplifted,Stres...</td>\n",
              "      <td>Happy Euphoric Creative Relaxed Uplifted Stres...</td>\n",
              "    </tr>\n",
              "    <tr>\n",
              "      <th>42</th>\n",
              "      <td>Boy Scout Cookies</td>\n",
              "      <td>BSC, Boy Scout</td>\n",
              "      <td>Hybrid</td>\n",
              "      <td>4.6</td>\n",
              "      <td>53.0</td>\n",
              "      <td>31.0</td>\n",
              "      <td>Happy</td>\n",
              "      <td>0.77</td>\n",
              "      <td>Relaxed</td>\n",
              "      <td>0.74</td>\n",
              "      <td>Euphoric</td>\n",
              "      <td>0.54</td>\n",
              "      <td>Hungry</td>\n",
              "      <td>0.41</td>\n",
              "      <td>Uplifted</td>\n",
              "      <td>0.41</td>\n",
              "      <td>Depression</td>\n",
              "      <td>0.45</td>\n",
              "      <td>Stress</td>\n",
              "      <td>0.45</td>\n",
              "      <td>Pain</td>\n",
              "      <td>0.38</td>\n",
              "      <td>Anxiety</td>\n",
              "      <td>0.38</td>\n",
              "      <td>Lack of appetite</td>\n",
              "      <td>0.25</td>\n",
              "      <td>Dry mouth</td>\n",
              "      <td>0.45</td>\n",
              "      <td>Dry eyes</td>\n",
              "      <td>0.16</td>\n",
              "      <td>Anxious</td>\n",
              "      <td>0.06</td>\n",
              "      <td>Dizzy</td>\n",
              "      <td>0.06</td>\n",
              "      <td>Headache</td>\n",
              "      <td>0.06</td>\n",
              "      <td>BSC is a hybrid that follows in the footsteps ...</td>\n",
              "      <td>Happy Relaxed Euphoric Hungry Uplifted</td>\n",
              "      <td>Depression Stress Pain Anxiety Lack of appetite</td>\n",
              "      <td>Happy,Relaxed,Euphoric,Hungry,Uplifted,Depress...</td>\n",
              "      <td>Happy Relaxed Euphoric Hungry Uplifted Depress...</td>\n",
              "    </tr>\n",
              "    <tr>\n",
              "      <th>45</th>\n",
              "      <td>Blurple</td>\n",
              "      <td>Blue Dream Purple</td>\n",
              "      <td>Hybrid</td>\n",
              "      <td>4.1</td>\n",
              "      <td>38.0</td>\n",
              "      <td>25.0</td>\n",
              "      <td>Relaxed</td>\n",
              "      <td>0.56</td>\n",
              "      <td>Happy</td>\n",
              "      <td>0.52</td>\n",
              "      <td>Euphoric</td>\n",
              "      <td>0.44</td>\n",
              "      <td>Hungry</td>\n",
              "      <td>0.36</td>\n",
              "      <td>Focused</td>\n",
              "      <td>0.28</td>\n",
              "      <td>Stress</td>\n",
              "      <td>0.28</td>\n",
              "      <td>Anxiety</td>\n",
              "      <td>0.24</td>\n",
              "      <td>Nausea</td>\n",
              "      <td>0.20</td>\n",
              "      <td>Pain</td>\n",
              "      <td>0.20</td>\n",
              "      <td>Depression</td>\n",
              "      <td>0.16</td>\n",
              "      <td>Dry mouth</td>\n",
              "      <td>0.24</td>\n",
              "      <td>Anxious</td>\n",
              "      <td>0.08</td>\n",
              "      <td>Dizzy</td>\n",
              "      <td>0.08</td>\n",
              "      <td>Dry eyes</td>\n",
              "      <td>0.08</td>\n",
              "      <td>Headache</td>\n",
              "      <td>0.08</td>\n",
              "      <td>Blurple, also known as Blue Dream Purple, is a...</td>\n",
              "      <td>Relaxed Happy Euphoric Hungry Focused</td>\n",
              "      <td>Stress Anxiety Nausea Pain Depression</td>\n",
              "      <td>Relaxed,Happy,Euphoric,Hungry,Focused,Stress,A...</td>\n",
              "      <td>Relaxed Happy Euphoric Hungry Focused Stress A...</td>\n",
              "    </tr>\n",
              "    <tr>\n",
              "      <th>47</th>\n",
              "      <td>Blues</td>\n",
              "      <td>Livers, UK Blues</td>\n",
              "      <td>Hybrid</td>\n",
              "      <td>3.8</td>\n",
              "      <td>36.0</td>\n",
              "      <td>24.0</td>\n",
              "      <td>Happy</td>\n",
              "      <td>0.66</td>\n",
              "      <td>Relaxed</td>\n",
              "      <td>0.62</td>\n",
              "      <td>Sleepy</td>\n",
              "      <td>0.45</td>\n",
              "      <td>Talkative</td>\n",
              "      <td>0.45</td>\n",
              "      <td>Uplifted</td>\n",
              "      <td>0.41</td>\n",
              "      <td>Pain</td>\n",
              "      <td>0.29</td>\n",
              "      <td>Stress</td>\n",
              "      <td>0.29</td>\n",
              "      <td>Anxiety</td>\n",
              "      <td>0.29</td>\n",
              "      <td>Depression</td>\n",
              "      <td>0.25</td>\n",
              "      <td>Headaches</td>\n",
              "      <td>0.20</td>\n",
              "      <td>Dry mouth</td>\n",
              "      <td>0.45</td>\n",
              "      <td>Dizzy</td>\n",
              "      <td>0.12</td>\n",
              "      <td>Dry eyes</td>\n",
              "      <td>0.12</td>\n",
              "      <td>Paranoid</td>\n",
              "      <td>0.12</td>\n",
              "      <td>Headache</td>\n",
              "      <td>0.08</td>\n",
              "      <td>Blues, also known as “Livers,” is a famous hyb...</td>\n",
              "      <td>Happy Relaxed Sleepy Talkative Uplifted</td>\n",
              "      <td>Pain Stress Anxiety Depression Headaches</td>\n",
              "      <td>Happy,Relaxed,Sleepy,Talkative,Uplifted,Pain,S...</td>\n",
              "      <td>Happy Relaxed Sleepy Talkative Uplifted Pain S...</td>\n",
              "    </tr>\n",
              "    <tr>\n",
              "      <th>52</th>\n",
              "      <td>Bubba OG</td>\n",
              "      <td>Bubba OG Kush</td>\n",
              "      <td>Indica</td>\n",
              "      <td>4.3</td>\n",
              "      <td>310.0</td>\n",
              "      <td>207.0</td>\n",
              "      <td>Relaxed</td>\n",
              "      <td>0.69</td>\n",
              "      <td>Happy</td>\n",
              "      <td>0.51</td>\n",
              "      <td>Sleepy</td>\n",
              "      <td>0.49</td>\n",
              "      <td>Euphoric</td>\n",
              "      <td>0.40</td>\n",
              "      <td>Hungry</td>\n",
              "      <td>0.38</td>\n",
              "      <td>Stress</td>\n",
              "      <td>0.38</td>\n",
              "      <td>Pain</td>\n",
              "      <td>0.31</td>\n",
              "      <td>Insomnia</td>\n",
              "      <td>0.30</td>\n",
              "      <td>Anxiety</td>\n",
              "      <td>0.28</td>\n",
              "      <td>Depression</td>\n",
              "      <td>0.21</td>\n",
              "      <td>Dry mouth</td>\n",
              "      <td>0.29</td>\n",
              "      <td>Dry eyes</td>\n",
              "      <td>0.18</td>\n",
              "      <td>Dizzy</td>\n",
              "      <td>0.06</td>\n",
              "      <td>Paranoid</td>\n",
              "      <td>0.04</td>\n",
              "      <td>Headache</td>\n",
              "      <td>0.01</td>\n",
              "      <td>Canadian breeders at Dr. Greenthumb Seeds cros...</td>\n",
              "      <td>Relaxed Happy Sleepy Euphoric Hungry</td>\n",
              "      <td>Stress Pain Insomnia Anxiety Depression</td>\n",
              "      <td>Relaxed,Happy,Sleepy,Euphoric,Hungry,Stress,Pa...</td>\n",
              "      <td>Relaxed Happy Sleepy Euphoric Hungry Stress Pa...</td>\n",
              "    </tr>\n",
              "  </tbody>\n",
              "</table>\n",
              "</div>"
            ],
            "text/plain": [
              "               strain  ...                         feelings_helps_description\n",
              "0                 707  ...  Happy Euphoric Creative Relaxed Uplifted Stres...\n",
              "42  Boy Scout Cookies  ...  Happy Relaxed Euphoric Hungry Uplifted Depress...\n",
              "45            Blurple  ...  Relaxed Happy Euphoric Hungry Focused Stress A...\n",
              "47              Blues  ...  Happy Relaxed Sleepy Talkative Uplifted Pain S...\n",
              "52           Bubba OG  ...  Relaxed Happy Sleepy Euphoric Hungry Stress Pa...\n",
              "\n",
              "[5 rows x 41 columns]"
            ]
          },
          "metadata": {
            "tags": []
          },
          "execution_count": 254
        }
      ]
    },
    {
      "cell_type": "code",
      "metadata": {
        "id": "vlazs5U30_GO",
        "colab_type": "code",
        "colab": {}
      },
      "source": [
        "# Instantiate Vectorizer \n",
        "\n",
        "tfidf = TfidfVectorizer(stop_words = 'english',ngram_range = (1,2),max_features = 2000)"
      ],
      "execution_count": 255,
      "outputs": []
    },
    {
      "cell_type": "code",
      "metadata": {
        "id": "NEt2lx8g0_Np",
        "colab_type": "code",
        "colab": {}
      },
      "source": [
        "# Instantiate Document-Term Matrix\n",
        "\n",
        "dtm = tfidf.fit_transform(leafly['feelings_helps_description'])\n",
        "dtm = pd.DataFrame(dtm.todense(), columns=tfidf.get_feature_names())"
      ],
      "execution_count": 256,
      "outputs": []
    },
    {
      "cell_type": "code",
      "metadata": {
        "id": "h9mYpevS0_tk",
        "colab_type": "code",
        "colab": {}
      },
      "source": [
        "# Instantiate Nearest Neighbors Model\n",
        "\n",
        "nn = NearestNeighbors(n_neighbors=4, algorithm='kd_tree')"
      ],
      "execution_count": 257,
      "outputs": []
    },
    {
      "cell_type": "code",
      "metadata": {
        "id": "SLjyK4ek0_2C",
        "colab_type": "code",
        "colab": {
          "base_uri": "https://localhost:8080/",
          "height": 68
        },
        "outputId": "d973c38c-42bd-46fc-fefa-f5c74d19f51e"
      },
      "source": [
        "# Fit Nearest Neighbors Model\n",
        "\n",
        "nn.fit(dtm)"
      ],
      "execution_count": 258,
      "outputs": [
        {
          "output_type": "execute_result",
          "data": {
            "text/plain": [
              "NearestNeighbors(algorithm='kd_tree', leaf_size=30, metric='minkowski',\n",
              "                 metric_params=None, n_jobs=None, n_neighbors=4, p=2,\n",
              "                 radius=1.0)"
            ]
          },
          "metadata": {
            "tags": []
          },
          "execution_count": 258
        }
      ]
    },
    {
      "cell_type": "code",
      "metadata": {
        "id": "oJqKfyIT2cKB",
        "colab_type": "code",
        "colab": {}
      },
      "source": [
        "import pickle\n",
        "\n",
        "# Dump the trained classifier (nn) with Pickle\n",
        "\n",
        "nn_pickle_filename = 'nn_model.pkl'\n",
        "pickled_model = open(nn_pickle_filename, 'wb')  # Open the file to save as pkl file\n",
        "pickle.dump(nn, pickled_model)\n",
        "pickled_model.close() # Close the pickle instances"
      ],
      "execution_count": 259,
      "outputs": []
    },
    {
      "cell_type": "code",
      "metadata": {
        "id": "tFjld4oX2ioV",
        "colab_type": "code",
        "colab": {
          "base_uri": "https://localhost:8080/",
          "height": 68
        },
        "outputId": "73ed4aa7-5d7d-4c1f-e1ce-9bcdc93d492a"
      },
      "source": [
        "# Load the saved model\n",
        "\n",
        "model_pkl = open(nn_pickle_filename, 'rb')\n",
        "NN_model = pickle.load(model_pkl)\n",
        "print (\"Loaded model :: \", NN_model)  # print to verify"
      ],
      "execution_count": 260,
      "outputs": [
        {
          "output_type": "stream",
          "text": [
            "Loaded model ::  NearestNeighbors(algorithm='kd_tree', leaf_size=30, metric='minkowski',\n",
            "                 metric_params=None, n_jobs=None, n_neighbors=4, p=2,\n",
            "                 radius=1.0)\n"
          ],
          "name": "stdout"
        }
      ]
    },
    {
      "cell_type": "code",
      "metadata": {
        "id": "w_0jyMcj2w5i",
        "colab_type": "code",
        "colab": {}
      },
      "source": [
        "# Dump the trained classifier (tfidf) with Pickle\n",
        "\n",
        "tfidf_pickle_filename = 'tfidf.pkl'\n",
        "pickled_tfidf = open(tfidf_pickle_filename, 'wb')  # Open the file to save as pkl file\n",
        "pickle.dump(tfidf, pickled_tfidf)\n",
        "pickled_tfidf.close() # Close the pickle instances"
      ],
      "execution_count": 261,
      "outputs": []
    },
    {
      "cell_type": "code",
      "metadata": {
        "id": "g8-nm52j3MXN",
        "colab_type": "code",
        "colab": {
          "base_uri": "https://localhost:8080/",
          "height": 136
        },
        "outputId": "91d8a1ae-94b4-4db9-e161-b5c7912da448"
      },
      "source": [
        "# Loading the saved model\n",
        "\n",
        "tfidf_pkl = open(tfidf_pickle_filename , 'rb')\n",
        "tfidf_model = pickle.load(tfidf_pkl)\n",
        "print (\"Loaded model :: \", tfidf_model)  # print to verify"
      ],
      "execution_count": 262,
      "outputs": [
        {
          "output_type": "stream",
          "text": [
            "Loaded model ::  TfidfVectorizer(analyzer='word', binary=False, decode_error='strict',\n",
            "                dtype=<class 'numpy.float64'>, encoding='utf-8',\n",
            "                input='content', lowercase=True, max_df=1.0, max_features=2000,\n",
            "                min_df=1, ngram_range=(1, 2), norm='l2', preprocessor=None,\n",
            "                smooth_idf=True, stop_words='english', strip_accents=None,\n",
            "                sublinear_tf=False, token_pattern='(?u)\\\\b\\\\w\\\\w+\\\\b',\n",
            "                tokenizer=None, use_idf=True, vocabulary=None)\n"
          ],
          "name": "stdout"
        }
      ]
    },
    {
      "cell_type": "code",
      "metadata": {
        "id": "0q78RNlW4aXZ",
        "colab_type": "code",
        "colab": {}
      },
      "source": [
        "# Recommend Function\n",
        "\n",
        "import json\n",
        "\n",
        "def recommend(user_input):\n",
        "    temp_df = NN_model.kneighbors(tfidf_model.transform([user_input]).todense())[1]\n",
        "    \n",
        "\n",
        "    #print(temp_df)\n",
        "    \n",
        "    for i in range(4):\n",
        "        info = leafly.iloc[temp_df[0][i]]['strain']\n",
        "        info_aka = leafly.iloc[temp_df[0][i]]['aka']\n",
        "        info_type = leafly.iloc[temp_df[0][i]]['type']\n",
        "        info_rating = leafly.iloc[temp_df[0][i]]['rating']\n",
        "        info_num_reviews= leafly.iloc[temp_df[0][i]]['num_reviews']\n",
        "        info_feelings = leafly.iloc[temp_df[0][i]]['feelings']\n",
        "        info_helps = leafly.iloc[temp_df[0][i]]['helps']\n",
        "        info_description = leafly.iloc[temp_df[0][i]]['description']\n",
        "        \n",
        "        print(json.dumps(info))\n",
        "        print(json.dumps(info_aka))\n",
        "        print(json.dumps(info_type))\n",
        "        print(json.dumps(info_rating))\n",
        "        print(json.dumps(info_num_reviews))\n",
        "        print(json.dumps(info_feelings))\n",
        "        print(json.dumps(info_helps))\n",
        "        print(json.dumps(info_description))\n",
        "        \n",
        "        # This is for the data engineers, the return does not work in jupyter lab.  \n",
        "        # Should work in vsCode, or elsewhere for production.\n",
        "\n",
        "        #return json.dumps(info)\n",
        "        #return json.dumps(info_aka)\n",
        "        #return json.dumps(info_type)\n",
        "        #return json.dumps(info_rating)\n",
        "        #return json.dumps(info_num_reviews)\n",
        "        #return json.dumps(info_feelings)\n",
        "        #return json.dumps(info_helps)\n",
        "        #return json.dumps(info_description)"
      ],
      "execution_count": 263,
      "outputs": []
    },
    {
      "cell_type": "code",
      "metadata": {
        "id": "cQEwULSV4ahL",
        "colab_type": "code",
        "colab": {
          "base_uri": "https://localhost:8080/",
          "height": 581
        },
        "outputId": "6a67a316-4a57-4081-8607-e8d4f5a72442"
      },
      "source": [
        "recommend('Relaxed Happy Euphoric Uplifted Hungry')"
      ],
      "execution_count": 265,
      "outputs": [
        {
          "output_type": "stream",
          "text": [
            "\"Cherry Cola\"\n",
            "\"Cherry Kola\"\n",
            "\"Indica\"\n",
            "4.7\n",
            "61.0\n",
            "\"Relaxed Euphoric Happy Uplifted Hungry\"\n",
            "\"Stress Pain Anxiety Depression Lack of appetite\"\n",
            "\"Cherry Kola is an indica strain that competed in the 2014 L.A. Cannabis Cup.\"\n",
            "\"Hindu Skunk\"\n",
            "\"Dragonite, Skunk Kush, Hindu Kush Skunk\"\n",
            "\"Indica\"\n",
            "4.1\n",
            "107.0\n",
            "\"Euphoric Relaxed Happy Uplifted Hungry\"\n",
            "\"Stress Anxiety Pain Depression Insomnia\"\n",
            "\"Also known as Skunk Kush,\\u00a0Hindu Skunk is a cross of Hindu Kush and Skunk #1.\\u00a0The taste of the smoke is smooth and provides a strong and very mellow high. \\u00a0\"\n",
            "\"Cali Kush\"\n",
            "\"California Kush, Kali Kush\"\n",
            "\"Hybrid\"\n",
            "4.1\n",
            "242.0\n",
            "\"Relaxed Happy Euphoric Uplifted Hungry\"\n",
            "\"Stress Depression Anxiety Pain Headaches\"\n",
            "\"Cali Kush must have been a no-brainer when it came time to name this strain given the popularity of Kush varieties in The Golden State. Its buds are large and dense with few leaves and not many pistils. The flowers will be light green shot through with icy blue and packed with trichomes throughout. Cali Kush buds have a fruity citrus aroma with the darker coffee notes of a kush. Spicier tones and the coffee kushness are more apparent in the taste. The indica-dominant variation of this hybrid has been more popular, but a sativa-dominant version has also been spotted.\"\n",
            "\"Fire OG\"\n",
            "\"Fire OG Kush\"\n",
            "\"Hybrid\"\n",
            "4.4\n",
            "1099.0\n",
            "\"Relaxed Happy Euphoric Uplifted Hungry\"\n",
            "\"Stress Anxiety Depression Pain Insomnia\"\n",
            "\"Fire OG is a indica-dominant hybrid strain that is a cross between OG Kush and SFV OG Kush. This strain has an aroma similar to Lemon Pledge and has euphoric effects that are potent and long-lasting. Fire OG is one of the strongest OG strains, and is a fan favorite among consumers who have a high THC tolerance. Fire OG gets its name from the frosty red hairs that make the strain appear to look like it is on fire. Fire OG plants typically flower in 9-10 weeks.\"\n"
          ],
          "name": "stdout"
        }
      ]
    },
    {
      "cell_type": "code",
      "metadata": {
        "id": "h7NmhrML4ash",
        "colab_type": "code",
        "colab": {}
      },
      "source": [
        ""
      ],
      "execution_count": 264,
      "outputs": []
    }
  ]
}